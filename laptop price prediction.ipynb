{
 "cells": [
  {
   "cell_type": "code",
   "execution_count": 1,
   "id": "689a1c5e",
   "metadata": {},
   "outputs": [],
   "source": [
    "import pandas as pd\n",
    "import numpy as np\n",
    "from sklearn.preprocessing import OneHotEncoder\n",
    "from sklearn.preprocessing import StandardScaler\n",
    "from sklearn.compose import ColumnTransformer\n",
    "from sklearn.ensemble import RandomForestRegressor,GradientBoostingRegressor\n",
    "from sklearn.linear_model import LinearRegression\n",
    "from sklearn.neighbors import KNeighborsRegressor\n",
    "from sklearn.metrics import r2_score,mean_absolute_error\n",
    "import seaborn as sns\n",
    "import matplotlib.pyplot as plt"
   ]
  },
  {
   "cell_type": "code",
   "execution_count": 2,
   "id": "ed5ae034",
   "metadata": {},
   "outputs": [
    {
     "data": {
      "text/html": [
       "<div>\n",
       "<style scoped>\n",
       "    .dataframe tbody tr th:only-of-type {\n",
       "        vertical-align: middle;\n",
       "    }\n",
       "\n",
       "    .dataframe tbody tr th {\n",
       "        vertical-align: top;\n",
       "    }\n",
       "\n",
       "    .dataframe thead th {\n",
       "        text-align: right;\n",
       "    }\n",
       "</style>\n",
       "<table border=\"1\" class=\"dataframe\">\n",
       "  <thead>\n",
       "    <tr style=\"text-align: right;\">\n",
       "      <th></th>\n",
       "      <th>Unnamed: 0</th>\n",
       "      <th>Brand</th>\n",
       "      <th>Model Name</th>\n",
       "      <th>Processor</th>\n",
       "      <th>Operating System</th>\n",
       "      <th>Storage</th>\n",
       "      <th>RAM</th>\n",
       "      <th>Screen Size</th>\n",
       "      <th>Touch_Screen</th>\n",
       "      <th>Price</th>\n",
       "    </tr>\n",
       "  </thead>\n",
       "  <tbody>\n",
       "    <tr>\n",
       "      <th>0</th>\n",
       "      <td>0</td>\n",
       "      <td>HP</td>\n",
       "      <td>15s-fq5007TU</td>\n",
       "      <td>Core i3</td>\n",
       "      <td>Windows 11 Home</td>\n",
       "      <td>512 GB</td>\n",
       "      <td>8 GB</td>\n",
       "      <td>39.62 cm (15.6 Inch)</td>\n",
       "      <td>No</td>\n",
       "      <td>₹38,990</td>\n",
       "    </tr>\n",
       "    <tr>\n",
       "      <th>1</th>\n",
       "      <td>1</td>\n",
       "      <td>HP</td>\n",
       "      <td>15s-fy5003TU</td>\n",
       "      <td>Core i3</td>\n",
       "      <td>Windows 11 Home</td>\n",
       "      <td>512 GB</td>\n",
       "      <td>8 GB</td>\n",
       "      <td>39.62 cm (15.6 Inch)</td>\n",
       "      <td>No</td>\n",
       "      <td>₹37,990</td>\n",
       "    </tr>\n",
       "    <tr>\n",
       "      <th>2</th>\n",
       "      <td>2</td>\n",
       "      <td>Apple</td>\n",
       "      <td>2020 Macbook Air</td>\n",
       "      <td>M1</td>\n",
       "      <td>Mac OS Big Sur</td>\n",
       "      <td>256 GB</td>\n",
       "      <td>8 GB</td>\n",
       "      <td>33.78 cm (13.3 inch)</td>\n",
       "      <td>No</td>\n",
       "      <td>₹70,990</td>\n",
       "    </tr>\n",
       "    <tr>\n",
       "      <th>3</th>\n",
       "      <td>3</td>\n",
       "      <td>Apple</td>\n",
       "      <td>2020 Macbook Air</td>\n",
       "      <td>M1</td>\n",
       "      <td>Mac OS Big Sur</td>\n",
       "      <td>256 GB</td>\n",
       "      <td>8 GB</td>\n",
       "      <td>33.78 cm (13.3 inch)</td>\n",
       "      <td>No</td>\n",
       "      <td>₹70,990</td>\n",
       "    </tr>\n",
       "    <tr>\n",
       "      <th>4</th>\n",
       "      <td>4</td>\n",
       "      <td>Apple</td>\n",
       "      <td>2020 Macbook Air</td>\n",
       "      <td>M1</td>\n",
       "      <td>Mac OS Big Sur</td>\n",
       "      <td>256 GB</td>\n",
       "      <td>8 GB</td>\n",
       "      <td>33.78 cm (13.3 inch)</td>\n",
       "      <td>No</td>\n",
       "      <td>₹70,990</td>\n",
       "    </tr>\n",
       "  </tbody>\n",
       "</table>\n",
       "</div>"
      ],
      "text/plain": [
       "   Unnamed: 0  Brand        Model Name Processor Operating System Storage  \\\n",
       "0           0     HP      15s-fq5007TU   Core i3  Windows 11 Home  512 GB   \n",
       "1           1     HP      15s-fy5003TU   Core i3  Windows 11 Home  512 GB   \n",
       "2           2  Apple  2020 Macbook Air        M1   Mac OS Big Sur  256 GB   \n",
       "3           3  Apple  2020 Macbook Air        M1   Mac OS Big Sur  256 GB   \n",
       "4           4  Apple  2020 Macbook Air        M1   Mac OS Big Sur  256 GB   \n",
       "\n",
       "    RAM           Screen Size Touch_Screen    Price  \n",
       "0  8 GB  39.62 cm (15.6 Inch)           No  ₹38,990  \n",
       "1  8 GB  39.62 cm (15.6 Inch)           No  ₹37,990  \n",
       "2  8 GB  33.78 cm (13.3 inch)           No  ₹70,990  \n",
       "3  8 GB  33.78 cm (13.3 inch)           No  ₹70,990  \n",
       "4  8 GB  33.78 cm (13.3 inch)           No  ₹70,990  "
      ]
     },
     "execution_count": 2,
     "metadata": {},
     "output_type": "execute_result"
    }
   ],
   "source": [
    "df= pd.read_csv(\"D:\\Pritesh\\ML\\web scrapping\\Laptops.csv\")\n",
    "df.head()"
   ]
  },
  {
   "cell_type": "code",
   "execution_count": 3,
   "id": "d5aaacb7",
   "metadata": {},
   "outputs": [
    {
     "name": "stdout",
     "output_type": "stream",
     "text": [
      "<class 'pandas.core.frame.DataFrame'>\n",
      "RangeIndex: 837 entries, 0 to 836\n",
      "Data columns (total 10 columns):\n",
      " #   Column            Non-Null Count  Dtype \n",
      "---  ------            --------------  ----- \n",
      " 0   Unnamed: 0        837 non-null    int64 \n",
      " 1   Brand             837 non-null    object\n",
      " 2   Model Name        837 non-null    object\n",
      " 3   Processor         837 non-null    object\n",
      " 4   Operating System  837 non-null    object\n",
      " 5   Storage           825 non-null    object\n",
      " 6   RAM               837 non-null    object\n",
      " 7   Screen Size       837 non-null    object\n",
      " 8   Touch_Screen      837 non-null    object\n",
      " 9   Price             837 non-null    object\n",
      "dtypes: int64(1), object(9)\n",
      "memory usage: 65.5+ KB\n"
     ]
    }
   ],
   "source": [
    "df.info()"
   ]
  },
  {
   "cell_type": "code",
   "execution_count": 4,
   "id": "34fc73af",
   "metadata": {},
   "outputs": [
    {
     "data": {
      "text/plain": [
       "0"
      ]
     },
     "execution_count": 4,
     "metadata": {},
     "output_type": "execute_result"
    }
   ],
   "source": [
    "df.duplicated().sum()"
   ]
  },
  {
   "cell_type": "code",
   "execution_count": 5,
   "id": "854418ca",
   "metadata": {},
   "outputs": [
    {
     "data": {
      "text/plain": [
       "Unnamed: 0           0\n",
       "Brand                0\n",
       "Model Name           0\n",
       "Processor            0\n",
       "Operating System     0\n",
       "Storage             12\n",
       "RAM                  0\n",
       "Screen Size          0\n",
       "Touch_Screen         0\n",
       "Price                0\n",
       "dtype: int64"
      ]
     },
     "execution_count": 5,
     "metadata": {},
     "output_type": "execute_result"
    }
   ],
   "source": [
    "df.isnull().sum()"
   ]
  },
  {
   "cell_type": "code",
   "execution_count": 6,
   "id": "d434a7a2",
   "metadata": {},
   "outputs": [
    {
     "data": {
      "text/plain": [
       "(825, 10)"
      ]
     },
     "execution_count": 6,
     "metadata": {},
     "output_type": "execute_result"
    }
   ],
   "source": [
    "df.dropna(inplace=True)\n",
    "df.shape"
   ]
  },
  {
   "cell_type": "code",
   "execution_count": 7,
   "id": "9189f545",
   "metadata": {},
   "outputs": [],
   "source": [
    "df.drop(columns='Unnamed: 0',inplace=True)"
   ]
  },
  {
   "cell_type": "code",
   "execution_count": 8,
   "id": "3ca9d413",
   "metadata": {},
   "outputs": [
    {
     "data": {
      "text/plain": [
       "Operating System\n",
       "Windows 11 Home    747\n",
       "Windows 10 Home     27\n",
       "Chrome              13\n",
       "Windows 10          10\n",
       "DOS                  7\n",
       "Mac OS Monterey      5\n",
       "Windows 11 Pro       5\n",
       "Mac OS Big Sur       3\n",
       "Windows 10 Pro       3\n",
       "Prime OS             1\n",
       "Ubuntu               1\n",
       "macOS Ventura        1\n",
       "macOS Sonoma         1\n",
       "Mac OS Mojave        1\n",
       "Name: count, dtype: int64"
      ]
     },
     "execution_count": 8,
     "metadata": {},
     "output_type": "execute_result"
    }
   ],
   "source": [
    "df['Operating System'].value_counts()"
   ]
  },
  {
   "cell_type": "code",
   "execution_count": 9,
   "id": "59de6aeb",
   "metadata": {},
   "outputs": [],
   "source": [
    "def os(data):\n",
    "    if 'windows' in data.lower():\n",
    "        return \"Windows\"\n",
    "    elif 'mac' in data.lower():\n",
    "        return \"Mac\"\n",
    "    else:\n",
    "        return \"Others\"\n",
    "\n",
    "df['Operating System'] = df['Operating System'].apply(os)\n"
   ]
  },
  {
   "cell_type": "code",
   "execution_count": 10,
   "id": "b7966d02",
   "metadata": {},
   "outputs": [],
   "source": [
    "df[\"Processor\"] = df['Processor'].apply(lambda x:\" \".join(x.split()[0:2]))"
   ]
  },
  {
   "cell_type": "code",
   "execution_count": 11,
   "id": "6d1711de",
   "metadata": {},
   "outputs": [
    {
     "data": {
      "text/plain": [
       "Processor\n",
       "Core i5              361\n",
       "Core i3              159\n",
       "Ryzen 5               94\n",
       "Core i7               68\n",
       "Ryzen 7               68\n",
       "Ryzen 3               20\n",
       "Celeron Dual          15\n",
       "Celeron Quad          10\n",
       "Pentium Silver         4\n",
       "Core i9                4\n",
       "Ryzen 9                3\n",
       "Athlon Dual            3\n",
       "MediaTek Kompanio      3\n",
       "M1                     3\n",
       "M2                     3\n",
       "Ryzen Z1               2\n",
       "MediaTek MT8788        1\n",
       "M1 Max                 1\n",
       "M2 Max                 1\n",
       "M3 Pro                 1\n",
       "M1 Pro                 1\n",
       "Name: count, dtype: int64"
      ]
     },
     "execution_count": 11,
     "metadata": {},
     "output_type": "execute_result"
    }
   ],
   "source": [
    "df['Processor'].value_counts()"
   ]
  },
  {
   "cell_type": "code",
   "execution_count": 12,
   "id": "70ec9548",
   "metadata": {},
   "outputs": [],
   "source": [
    "def processor(text):\n",
    "    if \"Celeron\" in text:\n",
    "        return \"Celeron\"\n",
    "    elif \"Core\" in text:\n",
    "        if \"9\" in text:\n",
    "            return \"Others\"\n",
    "        else:\n",
    "            return text\n",
    "    elif \"Ryzen\" in text:\n",
    "        if any(m in text for m in ['Z1', \"9\"]):\n",
    "            return \"Others\"\n",
    "        else:\n",
    "            return text\n",
    "    elif any(m in text for m in [\"M1\", \"M2\", \"M3\"]):\n",
    "        return \"Mac\"\n",
    "    else:\n",
    "        return \"Others\"\n",
    "\n",
    "df[\"Processor\"] = df['Processor'].apply(processor)"
   ]
  },
  {
   "cell_type": "code",
   "execution_count": 13,
   "id": "b59034f6",
   "metadata": {},
   "outputs": [
    {
     "data": {
      "text/plain": [
       "Processor\n",
       "Core i5    361\n",
       "Core i3    159\n",
       "Ryzen 5     94\n",
       "Core i7     68\n",
       "Ryzen 7     68\n",
       "Celeron     25\n",
       "Ryzen 3     20\n",
       "Others      20\n",
       "Mac         10\n",
       "Name: count, dtype: int64"
      ]
     },
     "execution_count": 13,
     "metadata": {},
     "output_type": "execute_result"
    }
   ],
   "source": [
    "df.Processor.value_counts()"
   ]
  },
  {
   "cell_type": "code",
   "execution_count": 14,
   "id": "bb122622",
   "metadata": {},
   "outputs": [
    {
     "data": {
      "text/html": [
       "<div>\n",
       "<style scoped>\n",
       "    .dataframe tbody tr th:only-of-type {\n",
       "        vertical-align: middle;\n",
       "    }\n",
       "\n",
       "    .dataframe tbody tr th {\n",
       "        vertical-align: top;\n",
       "    }\n",
       "\n",
       "    .dataframe thead th {\n",
       "        text-align: right;\n",
       "    }\n",
       "</style>\n",
       "<table border=\"1\" class=\"dataframe\">\n",
       "  <thead>\n",
       "    <tr style=\"text-align: right;\">\n",
       "      <th></th>\n",
       "      <th>Brand</th>\n",
       "      <th>Model Name</th>\n",
       "      <th>Processor</th>\n",
       "      <th>Operating System</th>\n",
       "      <th>Storage</th>\n",
       "      <th>RAM</th>\n",
       "      <th>Screen Size</th>\n",
       "      <th>Touch_Screen</th>\n",
       "      <th>Price</th>\n",
       "    </tr>\n",
       "  </thead>\n",
       "  <tbody>\n",
       "    <tr>\n",
       "      <th>268</th>\n",
       "      <td>HP</td>\n",
       "      <td>Notebook</td>\n",
       "      <td>Core i7</td>\n",
       "      <td>Windows</td>\n",
       "      <td>512</td>\n",
       "      <td>16 GB</td>\n",
       "      <td>39.62 cm (15.6 inch)</td>\n",
       "      <td>No</td>\n",
       "      <td>₹68,373</td>\n",
       "    </tr>\n",
       "    <tr>\n",
       "      <th>543</th>\n",
       "      <td>DELL</td>\n",
       "      <td>Gaming 5530</td>\n",
       "      <td>Core i5</td>\n",
       "      <td>Windows</td>\n",
       "      <td>512</td>\n",
       "      <td>16 GB</td>\n",
       "      <td>39.62 cm (15.6 Inch)</td>\n",
       "      <td>No</td>\n",
       "      <td>₹89,649</td>\n",
       "    </tr>\n",
       "    <tr>\n",
       "      <th>279</th>\n",
       "      <td>HP</td>\n",
       "      <td>14-dv2153TU</td>\n",
       "      <td>Core i5</td>\n",
       "      <td>Windows</td>\n",
       "      <td>1000</td>\n",
       "      <td>16 GB</td>\n",
       "      <td>35.56 cm (14 inch)</td>\n",
       "      <td>No</td>\n",
       "      <td>₹66,999</td>\n",
       "    </tr>\n",
       "    <tr>\n",
       "      <th>490</th>\n",
       "      <td>HP</td>\n",
       "      <td>15s-fq5007TU</td>\n",
       "      <td>Core i3</td>\n",
       "      <td>Windows</td>\n",
       "      <td>512</td>\n",
       "      <td>8 GB</td>\n",
       "      <td>39.62 cm (15.6 Inch)</td>\n",
       "      <td>No</td>\n",
       "      <td>₹38,990</td>\n",
       "    </tr>\n",
       "    <tr>\n",
       "      <th>20</th>\n",
       "      <td>HP</td>\n",
       "      <td>15-eg3079TU</td>\n",
       "      <td>Core i5</td>\n",
       "      <td>Windows</td>\n",
       "      <td>512</td>\n",
       "      <td>16 GB</td>\n",
       "      <td>39.62 cm (15.6 Inch)</td>\n",
       "      <td>No</td>\n",
       "      <td>₹66,990</td>\n",
       "    </tr>\n",
       "  </tbody>\n",
       "</table>\n",
       "</div>"
      ],
      "text/plain": [
       "    Brand    Model Name Processor Operating System Storage    RAM  \\\n",
       "268    HP      Notebook   Core i7          Windows     512  16 GB   \n",
       "543  DELL   Gaming 5530   Core i5          Windows     512  16 GB   \n",
       "279    HP   14-dv2153TU   Core i5          Windows    1000  16 GB   \n",
       "490    HP  15s-fq5007TU   Core i3          Windows     512   8 GB   \n",
       "20     HP   15-eg3079TU   Core i5          Windows     512  16 GB   \n",
       "\n",
       "              Screen Size Touch_Screen    Price  \n",
       "268  39.62 cm (15.6 inch)           No  ₹68,373  \n",
       "543  39.62 cm (15.6 Inch)           No  ₹89,649  \n",
       "279    35.56 cm (14 inch)           No  ₹66,999  \n",
       "490  39.62 cm (15.6 Inch)           No  ₹38,990  \n",
       "20   39.62 cm (15.6 Inch)           No  ₹66,990  "
      ]
     },
     "execution_count": 14,
     "metadata": {},
     "output_type": "execute_result"
    }
   ],
   "source": [
    "df['Storage'] = df['Storage'].str.replace(\"GB\",\"\")\n",
    "df['Storage'] = df['Storage'].str.replace(\"TB\",\"000\")\n",
    "df['Storage'] = df['Storage'].str.replace(\" \",\"\")\n",
    "df.sample(5)"
   ]
  },
  {
   "cell_type": "code",
   "execution_count": 15,
   "id": "fc0e0b7c",
   "metadata": {},
   "outputs": [
    {
     "data": {
      "text/html": [
       "<div>\n",
       "<style scoped>\n",
       "    .dataframe tbody tr th:only-of-type {\n",
       "        vertical-align: middle;\n",
       "    }\n",
       "\n",
       "    .dataframe tbody tr th {\n",
       "        vertical-align: top;\n",
       "    }\n",
       "\n",
       "    .dataframe thead th {\n",
       "        text-align: right;\n",
       "    }\n",
       "</style>\n",
       "<table border=\"1\" class=\"dataframe\">\n",
       "  <thead>\n",
       "    <tr style=\"text-align: right;\">\n",
       "      <th></th>\n",
       "      <th>Brand</th>\n",
       "      <th>Model Name</th>\n",
       "      <th>Processor</th>\n",
       "      <th>Operating System</th>\n",
       "      <th>Storage</th>\n",
       "      <th>RAM</th>\n",
       "      <th>Screen Size</th>\n",
       "      <th>Touch_Screen</th>\n",
       "      <th>Price</th>\n",
       "    </tr>\n",
       "  </thead>\n",
       "  <tbody>\n",
       "    <tr>\n",
       "      <th>468</th>\n",
       "      <td>Infinix</td>\n",
       "      <td>INBook X1</td>\n",
       "      <td>Core i3</td>\n",
       "      <td>Windows</td>\n",
       "      <td>256</td>\n",
       "      <td>8</td>\n",
       "      <td>35.56 cm (14 inch)</td>\n",
       "      <td>No</td>\n",
       "      <td>₹37,999</td>\n",
       "    </tr>\n",
       "    <tr>\n",
       "      <th>146</th>\n",
       "      <td>Infinix</td>\n",
       "      <td>ZL513</td>\n",
       "      <td>Core i5</td>\n",
       "      <td>Windows</td>\n",
       "      <td>512</td>\n",
       "      <td>16</td>\n",
       "      <td>39.62 cm (15.6 inch)</td>\n",
       "      <td>No</td>\n",
       "      <td>₹48,990</td>\n",
       "    </tr>\n",
       "    <tr>\n",
       "      <th>391</th>\n",
       "      <td>HP</td>\n",
       "      <td>15s- fr4000TU</td>\n",
       "      <td>Core i5</td>\n",
       "      <td>Windows</td>\n",
       "      <td>512</td>\n",
       "      <td>8</td>\n",
       "      <td>39.62 cm (15.6 Inch)</td>\n",
       "      <td>No</td>\n",
       "      <td>₹46,990</td>\n",
       "    </tr>\n",
       "    <tr>\n",
       "      <th>543</th>\n",
       "      <td>DELL</td>\n",
       "      <td>Gaming 5530</td>\n",
       "      <td>Core i5</td>\n",
       "      <td>Windows</td>\n",
       "      <td>512</td>\n",
       "      <td>16</td>\n",
       "      <td>39.62 cm (15.6 Inch)</td>\n",
       "      <td>No</td>\n",
       "      <td>₹89,649</td>\n",
       "    </tr>\n",
       "    <tr>\n",
       "      <th>701</th>\n",
       "      <td>HP</td>\n",
       "      <td>15-fc0031AU</td>\n",
       "      <td>Ryzen 5</td>\n",
       "      <td>Windows</td>\n",
       "      <td>512</td>\n",
       "      <td>16</td>\n",
       "      <td>39.62 cm (15.6 Inch)</td>\n",
       "      <td>No</td>\n",
       "      <td>₹50,090</td>\n",
       "    </tr>\n",
       "  </tbody>\n",
       "</table>\n",
       "</div>"
      ],
      "text/plain": [
       "       Brand     Model Name Processor Operating System Storage  RAM  \\\n",
       "468  Infinix      INBook X1   Core i3          Windows     256   8    \n",
       "146  Infinix          ZL513   Core i5          Windows     512  16    \n",
       "391       HP  15s- fr4000TU   Core i5          Windows     512   8    \n",
       "543     DELL    Gaming 5530   Core i5          Windows     512  16    \n",
       "701       HP    15-fc0031AU   Ryzen 5          Windows     512  16    \n",
       "\n",
       "              Screen Size Touch_Screen    Price  \n",
       "468    35.56 cm (14 inch)           No  ₹37,999  \n",
       "146  39.62 cm (15.6 inch)           No  ₹48,990  \n",
       "391  39.62 cm (15.6 Inch)           No  ₹46,990  \n",
       "543  39.62 cm (15.6 Inch)           No  ₹89,649  \n",
       "701  39.62 cm (15.6 Inch)           No  ₹50,090  "
      ]
     },
     "execution_count": 15,
     "metadata": {},
     "output_type": "execute_result"
    }
   ],
   "source": [
    "df['RAM'] = df['RAM'].str.replace(\"GB\",\"\")\n",
    "df.sample(5)"
   ]
  },
  {
   "cell_type": "code",
   "execution_count": 16,
   "id": "7e661cb9",
   "metadata": {},
   "outputs": [
    {
     "data": {
      "text/plain": [
       "Screen Size\n",
       "39.62 cm (15.6 Inch)     363\n",
       "39.62 cm (15.6 inch)     184\n",
       "35.56 cm (14 inch)       124\n",
       "35.56 cm (14 Inch)        49\n",
       "40.64 cm (16 Inch)        19\n",
       "33.78 cm (13.3 inch)      10\n",
       "40.64 cm (16 inch)         8\n",
       "40.89 cm (16.1 Inch)       7\n",
       "43.94 cm (17.3 Inch)       6\n",
       "33.78 cm (13.3 Inch)       6\n",
       "96.52 cm (38 cm)           6\n",
       "38.1 cm (15 inch)          4\n",
       "35.81 cm (14.1 inch)       3\n",
       "40.89 cm (16.1 inch)       3\n",
       "39.01 cm (15.36 inch)      3\n",
       "34.29 cm (13.5 inch)       3\n",
       "35.81 cm (14.1 Inch)       2\n",
       "33.02 cm (13 inch)         2\n",
       "100.63 cm (39.62 cm)       2\n",
       "17.78 cm (7 Inch)          2\n",
       "43.94 cm (17.3 inch)       2\n",
       "34.29 cm (13.5 Inch)       2\n",
       "38.86 cm (15.3 Inch)       1\n",
       "31.5 cm (12.4 Inch)        1\n",
       "36.07 cm (14.2 inch)       1\n",
       "38.0 cm (14.96 cm)         1\n",
       "90.32 cm (35.56 cm)        1\n",
       "30.48 cm (12 inch)         1\n",
       "29.46 cm (11.6 Inch)       1\n",
       "41.15 cm (16.2 inch)       1\n",
       "34.04 cm (13.4 inch)       1\n",
       "35.0 cm (13.78 inch)       1\n",
       "34.04 cm (13.4 Inch)       1\n",
       "26.67 cm (10.5 inch)       1\n",
       "38.0 cm (14.96 Inch)       1\n",
       "34.54 cm (13.6 Inch)       1\n",
       "29.46 cm (11.6 inch)       1\n",
       "Name: count, dtype: int64"
      ]
     },
     "execution_count": 16,
     "metadata": {},
     "output_type": "execute_result"
    }
   ],
   "source": [
    "df['Screen Size'].value_counts()"
   ]
  },
  {
   "cell_type": "code",
   "execution_count": 17,
   "id": "7aafed04",
   "metadata": {},
   "outputs": [],
   "source": [
    "df['Screen Size'] = df['Screen Size'].apply(lambda x:\"\".join(x.split(\" \")[0]))"
   ]
  },
  {
   "cell_type": "code",
   "execution_count": 18,
   "id": "62ecf27e",
   "metadata": {},
   "outputs": [
    {
     "data": {
      "text/html": [
       "<div>\n",
       "<style scoped>\n",
       "    .dataframe tbody tr th:only-of-type {\n",
       "        vertical-align: middle;\n",
       "    }\n",
       "\n",
       "    .dataframe tbody tr th {\n",
       "        vertical-align: top;\n",
       "    }\n",
       "\n",
       "    .dataframe thead th {\n",
       "        text-align: right;\n",
       "    }\n",
       "</style>\n",
       "<table border=\"1\" class=\"dataframe\">\n",
       "  <thead>\n",
       "    <tr style=\"text-align: right;\">\n",
       "      <th></th>\n",
       "      <th>Brand</th>\n",
       "      <th>Model Name</th>\n",
       "      <th>Processor</th>\n",
       "      <th>Operating System</th>\n",
       "      <th>Storage</th>\n",
       "      <th>RAM</th>\n",
       "      <th>Screen Size</th>\n",
       "      <th>Touch_Screen</th>\n",
       "      <th>Price</th>\n",
       "    </tr>\n",
       "  </thead>\n",
       "  <tbody>\n",
       "    <tr>\n",
       "      <th>617</th>\n",
       "      <td>DELL</td>\n",
       "      <td>Latitude 14</td>\n",
       "      <td>Core i7</td>\n",
       "      <td>Windows</td>\n",
       "      <td>512</td>\n",
       "      <td>16</td>\n",
       "      <td>35.56</td>\n",
       "      <td>No</td>\n",
       "      <td>99990</td>\n",
       "    </tr>\n",
       "    <tr>\n",
       "      <th>338</th>\n",
       "      <td>ASUS</td>\n",
       "      <td>CM3000DVA-HT0038</td>\n",
       "      <td>Others</td>\n",
       "      <td>Others</td>\n",
       "      <td>128</td>\n",
       "      <td>4</td>\n",
       "      <td>26.67</td>\n",
       "      <td>Yes</td>\n",
       "      <td>22990</td>\n",
       "    </tr>\n",
       "    <tr>\n",
       "      <th>43</th>\n",
       "      <td>HP</td>\n",
       "      <td>15-eg3079TU</td>\n",
       "      <td>Core i5</td>\n",
       "      <td>Windows</td>\n",
       "      <td>512</td>\n",
       "      <td>16</td>\n",
       "      <td>39.62</td>\n",
       "      <td>No</td>\n",
       "      <td>66990</td>\n",
       "    </tr>\n",
       "    <tr>\n",
       "      <th>181</th>\n",
       "      <td>MSI</td>\n",
       "      <td>GF63 Thin 11UCX-1496IN</td>\n",
       "      <td>Core i5</td>\n",
       "      <td>Windows</td>\n",
       "      <td>4000</td>\n",
       "      <td>16</td>\n",
       "      <td>39.62</td>\n",
       "      <td>No</td>\n",
       "      <td>50990</td>\n",
       "    </tr>\n",
       "    <tr>\n",
       "      <th>94</th>\n",
       "      <td>Acer</td>\n",
       "      <td>A514-56GM</td>\n",
       "      <td>Core i5</td>\n",
       "      <td>Windows</td>\n",
       "      <td>512</td>\n",
       "      <td>16</td>\n",
       "      <td>35.56</td>\n",
       "      <td>No</td>\n",
       "      <td>56990</td>\n",
       "    </tr>\n",
       "  </tbody>\n",
       "</table>\n",
       "</div>"
      ],
      "text/plain": [
       "    Brand              Model Name Processor Operating System Storage  RAM  \\\n",
       "617  DELL             Latitude 14   Core i7          Windows     512  16    \n",
       "338  ASUS        CM3000DVA-HT0038    Others           Others     128   4    \n",
       "43     HP             15-eg3079TU   Core i5          Windows     512  16    \n",
       "181   MSI  GF63 Thin 11UCX-1496IN   Core i5          Windows    4000  16    \n",
       "94   Acer               A514-56GM   Core i5          Windows     512  16    \n",
       "\n",
       "    Screen Size Touch_Screen  Price  \n",
       "617       35.56           No  99990  \n",
       "338       26.67          Yes  22990  \n",
       "43        39.62           No  66990  \n",
       "181       39.62           No  50990  \n",
       "94        35.56           No  56990  "
      ]
     },
     "execution_count": 18,
     "metadata": {},
     "output_type": "execute_result"
    }
   ],
   "source": [
    "df.Price = df.Price.str.replace(\"₹\",\"\")\n",
    "df.Price = df.Price.str.replace(\",\",\"\")\n",
    "df.sample(5)"
   ]
  },
  {
   "cell_type": "code",
   "execution_count": 19,
   "id": "70b18912",
   "metadata": {},
   "outputs": [],
   "source": [
    "df[['Storage','RAM','Price']] = df[['Storage','RAM','Price']].astype(int)"
   ]
  },
  {
   "cell_type": "code",
   "execution_count": 20,
   "id": "22615877",
   "metadata": {},
   "outputs": [],
   "source": [
    "df[\"Screen Size\"] = df['Screen Size'].astype(float)"
   ]
  },
  {
   "cell_type": "code",
   "execution_count": 21,
   "id": "2d8afa7c",
   "metadata": {},
   "outputs": [
    {
     "name": "stdout",
     "output_type": "stream",
     "text": [
      "<class 'pandas.core.frame.DataFrame'>\n",
      "Index: 825 entries, 0 to 836\n",
      "Data columns (total 9 columns):\n",
      " #   Column            Non-Null Count  Dtype  \n",
      "---  ------            --------------  -----  \n",
      " 0   Brand             825 non-null    object \n",
      " 1   Model Name        825 non-null    object \n",
      " 2   Processor         825 non-null    object \n",
      " 3   Operating System  825 non-null    object \n",
      " 4   Storage           825 non-null    int32  \n",
      " 5   RAM               825 non-null    int32  \n",
      " 6   Screen Size       825 non-null    float64\n",
      " 7   Touch_Screen      825 non-null    object \n",
      " 8   Price             825 non-null    int32  \n",
      "dtypes: float64(1), int32(3), object(5)\n",
      "memory usage: 54.8+ KB\n"
     ]
    }
   ],
   "source": [
    "df.info()"
   ]
  },
  {
   "cell_type": "code",
   "execution_count": 22,
   "id": "808fba49",
   "metadata": {},
   "outputs": [],
   "source": [
    "df.drop(columns=\"Model Name\",inplace=True)"
   ]
  },
  {
   "cell_type": "code",
   "execution_count": 23,
   "id": "b06bb949",
   "metadata": {},
   "outputs": [
    {
     "data": {
      "text/html": [
       "<div>\n",
       "<style scoped>\n",
       "    .dataframe tbody tr th:only-of-type {\n",
       "        vertical-align: middle;\n",
       "    }\n",
       "\n",
       "    .dataframe tbody tr th {\n",
       "        vertical-align: top;\n",
       "    }\n",
       "\n",
       "    .dataframe thead th {\n",
       "        text-align: right;\n",
       "    }\n",
       "</style>\n",
       "<table border=\"1\" class=\"dataframe\">\n",
       "  <thead>\n",
       "    <tr style=\"text-align: right;\">\n",
       "      <th></th>\n",
       "      <th>Brand</th>\n",
       "      <th>Processor</th>\n",
       "      <th>Operating System</th>\n",
       "      <th>Storage</th>\n",
       "      <th>RAM</th>\n",
       "      <th>Screen Size</th>\n",
       "      <th>Touch_Screen</th>\n",
       "      <th>Price</th>\n",
       "    </tr>\n",
       "  </thead>\n",
       "  <tbody>\n",
       "    <tr>\n",
       "      <th>317</th>\n",
       "      <td>ASUS</td>\n",
       "      <td>Core i5</td>\n",
       "      <td>Windows</td>\n",
       "      <td>2000</td>\n",
       "      <td>16</td>\n",
       "      <td>39.62</td>\n",
       "      <td>No</td>\n",
       "      <td>85990</td>\n",
       "    </tr>\n",
       "  </tbody>\n",
       "</table>\n",
       "</div>"
      ],
      "text/plain": [
       "    Brand Processor Operating System  Storage  RAM  Screen Size Touch_Screen  \\\n",
       "317  ASUS   Core i5          Windows     2000   16        39.62           No   \n",
       "\n",
       "     Price  \n",
       "317  85990  "
      ]
     },
     "execution_count": 23,
     "metadata": {},
     "output_type": "execute_result"
    }
   ],
   "source": [
    "df.sample()"
   ]
  },
  {
   "cell_type": "code",
   "execution_count": 24,
   "id": "b13b20ad",
   "metadata": {},
   "outputs": [
    {
     "data": {
      "text/plain": [
       "<Axes: >"
      ]
     },
     "execution_count": 24,
     "metadata": {},
     "output_type": "execute_result"
    },
    {
     "data": {
      "image/png": "[encoded data removed]",
      "text/plain": [
       "<Figure size 640x480 with 2 Axes>"
      ]
     },
     "metadata": {},
     "output_type": "display_data"
    }
   ],
   "source": [
    "sns.heatmap(df.corr(numeric_only=True))"
   ]
  },
  {
   "cell_type": "code",
   "execution_count": 25,
   "id": "63d660a1",
   "metadata": {},
   "outputs": [
    {
     "name": "stderr",
     "output_type": "stream",
     "text": [
      "C:\\Users\\admin\\AppData\\Local\\Temp\\ipykernel_12232\\824416946.py:1: UserWarning: \n",
      "\n",
      "`distplot` is a deprecated function and will be removed in seaborn v0.14.0.\n",
      "\n",
      "Please adapt your code to use either `displot` (a figure-level function with\n",
      "similar flexibility) or `histplot` (an axes-level function for histograms).\n",
      "\n",
      "For a guide to updating your code to use the new functions, please see\n",
      "https://gist.github.com/mwaskom/de44147ed2974457ad6372750bbe5751\n",
      "\n",
      "  sns.distplot(df.Price)\n"
     ]
    },
    {
     "data": {
      "text/plain": [
       "<Axes: xlabel='Price', ylabel='Density'>"
      ]
     },
     "execution_count": 25,
     "metadata": {},
     "output_type": "execute_result"
    },
    {
     "data": {
      "image/png": "[encoded data removed]",
      "text/plain": [
       "<Figure size 640x480 with 1 Axes>"
      ]
     },
     "metadata": {},
     "output_type": "display_data"
    }
   ],
   "source": [
    "sns.distplot(df.Price)"
   ]
  },
  {
   "cell_type": "code",
   "execution_count": 26,
   "id": "d3208525",
   "metadata": {},
   "outputs": [
    {
     "data": {
      "text/plain": [
       "<Axes: xlabel='Processor'>"
      ]
     },
     "execution_count": 26,
     "metadata": {},
     "output_type": "execute_result"
    },
    {
     "data": {
      "image/png": "[encoded data removed]",
      "text/plain": [
       "<Figure size 640x480 with 1 Axes>"
      ]
     },
     "metadata": {},
     "output_type": "display_data"
    }
   ],
   "source": [
    "df['Processor'].value_counts().plot(kind = 'bar')"
   ]
  },
  {
   "cell_type": "code",
   "execution_count": 27,
   "id": "d14624c0",
   "metadata": {},
   "outputs": [
    {
     "data": {
      "text/plain": [
       "Brand\n",
       "HP           423\n",
       "ASUS         142\n",
       "DELL          59\n",
       "Lenovo        55\n",
       "Acer          36\n",
       "MSI           32\n",
       "Infinix       29\n",
       "Apple         11\n",
       "SAMSUNG        9\n",
       "CHUWI          7\n",
       "GIGABYTE       5\n",
       "WINGS          4\n",
       "ZEBRONICS      4\n",
       "MICROSOFT      3\n",
       "Ultimus        2\n",
       "LG             2\n",
       "realme         1\n",
       "Primebook      1\n",
       "Name: count, dtype: int64"
      ]
     },
     "execution_count": 27,
     "metadata": {},
     "output_type": "execute_result"
    }
   ],
   "source": [
    "df['Brand'].value_counts()"
   ]
  },
  {
   "cell_type": "code",
   "execution_count": 28,
   "id": "39b23389",
   "metadata": {},
   "outputs": [],
   "source": [
    "rare_b = ['SAMSUNG','GIGABYTE','CHUWI','WINGS','ZEBRONICS','Ultimus','LG','realme','Primebook','MICROSOFT']\n",
    "df.Brand = df.Brand.apply(lambda x: \"Others\" if x in rare_b else x)"
   ]
  },
  {
   "cell_type": "code",
   "execution_count": 29,
   "id": "1e55db09",
   "metadata": {},
   "outputs": [
    {
     "data": {
      "text/plain": [
       "<Axes: xlabel='Brand'>"
      ]
     },
     "execution_count": 29,
     "metadata": {},
     "output_type": "execute_result"
    },
    {
     "data": {
      "image/png": "[encoded data removed]",
      "text/plain": [
       "<Figure size 640x480 with 1 Axes>"
      ]
     },
     "metadata": {},
     "output_type": "display_data"
    }
   ],
   "source": [
    "df['Brand'].value_counts().plot(kind = 'bar')"
   ]
  },
  {
   "cell_type": "code",
   "execution_count": 30,
   "id": "767a81e8",
   "metadata": {},
   "outputs": [
    {
     "data": {
      "image/png": "[encoded data removed]",
      "text/plain": [
       "<Figure size 640x480 with 1 Axes>"
      ]
     },
     "metadata": {},
     "output_type": "display_data"
    }
   ],
   "source": [
    "sns.barplot(x=df.Brand,y=df.Price)\n",
    "plt.xticks(rotation = 'vertical')\n",
    "plt.show()"
   ]
  },
  {
   "cell_type": "code",
   "execution_count": 31,
   "id": "a78b39d9",
   "metadata": {},
   "outputs": [
    {
     "data": {
      "image/png": "[encoded data removed]",
      "text/plain": [
       "<Figure size 640x480 with 1 Axes>"
      ]
     },
     "metadata": {},
     "output_type": "display_data"
    }
   ],
   "source": [
    "sns.barplot(x=df['Operating System'],y=df.Price)\n",
    "plt.xticks(rotation = \"vertical\")\n",
    "plt.show()"
   ]
  },
  {
   "cell_type": "code",
   "execution_count": 32,
   "id": "210bd25d",
   "metadata": {},
   "outputs": [],
   "source": [
    "from sklearn.pipeline import Pipeline\n",
    "from sklearn.model_selection import train_test_split"
   ]
  },
  {
   "cell_type": "code",
   "execution_count": 33,
   "id": "1d25688c",
   "metadata": {},
   "outputs": [
    {
     "name": "stderr",
     "output_type": "stream",
     "text": [
      "C:\\Users\\admin\\AppData\\Local\\Temp\\ipykernel_12232\\3309387210.py:3: UserWarning: \n",
      "\n",
      "`distplot` is a deprecated function and will be removed in seaborn v0.14.0.\n",
      "\n",
      "Please adapt your code to use either `displot` (a figure-level function with\n",
      "similar flexibility) or `histplot` (an axes-level function for histograms).\n",
      "\n",
      "For a guide to updating your code to use the new functions, please see\n",
      "https://gist.github.com/mwaskom/de44147ed2974457ad6372750bbe5751\n",
      "\n",
      "  sns.distplot(Y)\n"
     ]
    },
    {
     "data": {
      "text/plain": [
       "<Axes: xlabel='Price', ylabel='Density'>"
      ]
     },
     "execution_count": 33,
     "metadata": {},
     "output_type": "execute_result"
    },
    {
     "data": {
      "image/png": "[encoded data removed]",
      "text/plain": [
       "<Figure size 640x480 with 1 Axes>"
      ]
     },
     "metadata": {},
     "output_type": "display_data"
    }
   ],
   "source": [
    "X= df.drop(columns=\"Price\")\n",
    "Y = np.log(df['Price'])\n",
    "sns.distplot(Y)"
   ]
  },
  {
   "cell_type": "code",
   "execution_count": 34,
   "id": "dbd0e6ac",
   "metadata": {},
   "outputs": [],
   "source": [
    "X_train,X_test,Y_train,Y_test = train_test_split(X,Y,test_size=0.2,random_state=83)"
   ]
  },
  {
   "cell_type": "code",
   "execution_count": 35,
   "id": "120cc549",
   "metadata": {},
   "outputs": [
    {
     "data": {
      "text/html": [
       "<div>\n",
       "<style scoped>\n",
       "    .dataframe tbody tr th:only-of-type {\n",
       "        vertical-align: middle;\n",
       "    }\n",
       "\n",
       "    .dataframe tbody tr th {\n",
       "        vertical-align: top;\n",
       "    }\n",
       "\n",
       "    .dataframe thead th {\n",
       "        text-align: right;\n",
       "    }\n",
       "</style>\n",
       "<table border=\"1\" class=\"dataframe\">\n",
       "  <thead>\n",
       "    <tr style=\"text-align: right;\">\n",
       "      <th></th>\n",
       "      <th>Brand</th>\n",
       "      <th>Processor</th>\n",
       "      <th>Operating System</th>\n",
       "      <th>Storage</th>\n",
       "      <th>RAM</th>\n",
       "      <th>Screen Size</th>\n",
       "      <th>Touch_Screen</th>\n",
       "    </tr>\n",
       "  </thead>\n",
       "  <tbody>\n",
       "    <tr>\n",
       "      <th>24</th>\n",
       "      <td>HP</td>\n",
       "      <td>Core i3</td>\n",
       "      <td>Windows</td>\n",
       "      <td>512</td>\n",
       "      <td>8</td>\n",
       "      <td>39.62</td>\n",
       "      <td>No</td>\n",
       "    </tr>\n",
       "    <tr>\n",
       "      <th>435</th>\n",
       "      <td>HP</td>\n",
       "      <td>Core i3</td>\n",
       "      <td>Windows</td>\n",
       "      <td>512</td>\n",
       "      <td>8</td>\n",
       "      <td>39.62</td>\n",
       "      <td>No</td>\n",
       "    </tr>\n",
       "    <tr>\n",
       "      <th>559</th>\n",
       "      <td>DELL</td>\n",
       "      <td>Core i7</td>\n",
       "      <td>Windows</td>\n",
       "      <td>512</td>\n",
       "      <td>16</td>\n",
       "      <td>34.04</td>\n",
       "      <td>Yes</td>\n",
       "    </tr>\n",
       "    <tr>\n",
       "      <th>380</th>\n",
       "      <td>HP</td>\n",
       "      <td>Core i5</td>\n",
       "      <td>Windows</td>\n",
       "      <td>512</td>\n",
       "      <td>16</td>\n",
       "      <td>39.62</td>\n",
       "      <td>No</td>\n",
       "    </tr>\n",
       "    <tr>\n",
       "      <th>466</th>\n",
       "      <td>HP</td>\n",
       "      <td>Core i3</td>\n",
       "      <td>Windows</td>\n",
       "      <td>512</td>\n",
       "      <td>8</td>\n",
       "      <td>39.62</td>\n",
       "      <td>No</td>\n",
       "    </tr>\n",
       "    <tr>\n",
       "      <th>...</th>\n",
       "      <td>...</td>\n",
       "      <td>...</td>\n",
       "      <td>...</td>\n",
       "      <td>...</td>\n",
       "      <td>...</td>\n",
       "      <td>...</td>\n",
       "      <td>...</td>\n",
       "    </tr>\n",
       "    <tr>\n",
       "      <th>833</th>\n",
       "      <td>DELL</td>\n",
       "      <td>Core i3</td>\n",
       "      <td>Windows</td>\n",
       "      <td>1000</td>\n",
       "      <td>8</td>\n",
       "      <td>35.56</td>\n",
       "      <td>Yes</td>\n",
       "    </tr>\n",
       "    <tr>\n",
       "      <th>263</th>\n",
       "      <td>Infinix</td>\n",
       "      <td>Core i5</td>\n",
       "      <td>Windows</td>\n",
       "      <td>512</td>\n",
       "      <td>16</td>\n",
       "      <td>39.62</td>\n",
       "      <td>No</td>\n",
       "    </tr>\n",
       "    <tr>\n",
       "      <th>819</th>\n",
       "      <td>HP</td>\n",
       "      <td>Core i5</td>\n",
       "      <td>Windows</td>\n",
       "      <td>512</td>\n",
       "      <td>8</td>\n",
       "      <td>39.62</td>\n",
       "      <td>No</td>\n",
       "    </tr>\n",
       "    <tr>\n",
       "      <th>545</th>\n",
       "      <td>HP</td>\n",
       "      <td>Core i3</td>\n",
       "      <td>Windows</td>\n",
       "      <td>512</td>\n",
       "      <td>8</td>\n",
       "      <td>39.62</td>\n",
       "      <td>No</td>\n",
       "    </tr>\n",
       "    <tr>\n",
       "      <th>86</th>\n",
       "      <td>HP</td>\n",
       "      <td>Ryzen 5</td>\n",
       "      <td>Windows</td>\n",
       "      <td>512</td>\n",
       "      <td>16</td>\n",
       "      <td>35.56</td>\n",
       "      <td>No</td>\n",
       "    </tr>\n",
       "  </tbody>\n",
       "</table>\n",
       "<p>660 rows × 7 columns</p>\n",
       "</div>"
      ],
      "text/plain": [
       "       Brand Processor Operating System  Storage  RAM  Screen Size  \\\n",
       "24        HP   Core i3          Windows      512    8        39.62   \n",
       "435       HP   Core i3          Windows      512    8        39.62   \n",
       "559     DELL   Core i7          Windows      512   16        34.04   \n",
       "380       HP   Core i5          Windows      512   16        39.62   \n",
       "466       HP   Core i3          Windows      512    8        39.62   \n",
       "..       ...       ...              ...      ...  ...          ...   \n",
       "833     DELL   Core i3          Windows     1000    8        35.56   \n",
       "263  Infinix   Core i5          Windows      512   16        39.62   \n",
       "819       HP   Core i5          Windows      512    8        39.62   \n",
       "545       HP   Core i3          Windows      512    8        39.62   \n",
       "86        HP   Ryzen 5          Windows      512   16        35.56   \n",
       "\n",
       "    Touch_Screen  \n",
       "24            No  \n",
       "435           No  \n",
       "559          Yes  \n",
       "380           No  \n",
       "466           No  \n",
       "..           ...  \n",
       "833          Yes  \n",
       "263           No  \n",
       "819           No  \n",
       "545           No  \n",
       "86            No  \n",
       "\n",
       "[660 rows x 7 columns]"
      ]
     },
     "execution_count": 35,
     "metadata": {},
     "output_type": "execute_result"
    }
   ],
   "source": [
    "X_train"
   ]
  },
  {
   "cell_type": "code",
   "execution_count": 37,
   "id": "84e28670",
   "metadata": {},
   "outputs": [
    {
     "name": "stdout",
     "output_type": "stream",
     "text": [
      "R2 score 0.7634769123172184\n",
      "MAE 0.14500909939243672\n"
     ]
    }
   ],
   "source": [
    "step_1 = ColumnTransformer(transformers=[\n",
    "    ('col_tnf', OneHotEncoder(sparse_output=False, drop='first'),[0,1,2,6])\n",
    "],remainder='passthrough')\n",
    "step_2  = LinearRegression()\n",
    "pipe = Pipeline([('step1',step_1),\n",
    "                ('step2',step_2)])\n",
    "pipe.fit(X_train,Y_train)\n",
    "y_pred = pipe.predict(X_test)\n",
    "\n",
    "print('R2 score',r2_score(Y_test,y_pred))\n",
    "print('MAE',mean_absolute_error(Y_test,y_pred))\n"
   ]
  },
  {
   "cell_type": "code",
   "execution_count": 39,
   "id": "5a8b88d3",
   "metadata": {},
   "outputs": [
    {
     "name": "stdout",
     "output_type": "stream",
     "text": [
      "R2 score 0.7470888516307905\n",
      "MAE 0.13932715492321268\n"
     ]
    }
   ],
   "source": [
    "step_1 = ColumnTransformer(transformers=[\n",
    "    ('col_tnf', OneHotEncoder(sparse_output=False, drop='first',handle_unknown=\"ignore\"),[0,1,2,6])\n",
    "],remainder='passthrough')\n",
    "step_2  = RandomForestRegressor()\n",
    "pipe_rf = Pipeline([('step1',step_1),\n",
    "                ('step2',step_2)])\n",
    "pipe_rf.fit(X_train,Y_train)\n",
    "y_pred = pipe_rf.predict(X_test)\n",
    "\n",
    "print('R2 score',r2_score(Y_test,y_pred))\n",
    "print('MAE',mean_absolute_error(Y_test,y_pred))\n"
   ]
  },
  {
   "cell_type": "code",
   "execution_count": 40,
   "id": "26db2ead",
   "metadata": {},
   "outputs": [
    {
     "name": "stdout",
     "output_type": "stream",
     "text": [
      "R2 score 0.6892977228137436\n",
      "MAE 0.17038053656080768\n"
     ]
    }
   ],
   "source": [
    "step_1 = ColumnTransformer(transformers=[\n",
    "    ('col_tnf', OneHotEncoder(sparse_output=False, drop='first'),[0,1,2,6])\n",
    "],remainder='passthrough')\n",
    "step_2  = KNeighborsRegressor(n_neighbors=3)\n",
    "pipe = Pipeline([('step1',step_1),\n",
    "                ('step2',step_2)])\n",
    "pipe.fit(X_train,Y_train)\n",
    "y_pred = pipe.predict(X_test)\n",
    "\n",
    "print('R2 score',r2_score(Y_test,y_pred))\n",
    "print('MAE',mean_absolute_error(Y_test,y_pred))\n"
   ]
  },
  {
   "cell_type": "code",
   "execution_count": 41,
   "id": "07b6e68d",
   "metadata": {},
   "outputs": [
    {
     "name": "stdout",
     "output_type": "stream",
     "text": [
      "R2 score 0.7047380346693088\n",
      "MAE 0.14547093322560622\n"
     ]
    }
   ],
   "source": [
    "from sklearn.tree import DecisionTreeRegressor\n",
    "step_1 = ColumnTransformer(transformers=[\n",
    "    ('col_tnf', OneHotEncoder(sparse_output=False, drop='first'),[0,1,2,6])\n",
    "],remainder='passthrough')\n",
    "step_2  = DecisionTreeRegressor()\n",
    "pipe = Pipeline([('step1',step_1),\n",
    "                ('step2',step_2)])\n",
    "pipe.fit(X_train,Y_train)\n",
    "y_pred = pipe.predict(X_test)\n",
    "\n",
    "print('R2 score',r2_score(Y_test,y_pred))\n",
    "print('MAE',mean_absolute_error(Y_test,y_pred))\n"
   ]
  },
  {
   "cell_type": "code",
   "execution_count": 42,
   "id": "d0c1121b",
   "metadata": {},
   "outputs": [
    {
     "name": "stdout",
     "output_type": "stream",
     "text": [
      "R2 score 0.7650427928827509\n",
      "MAE 0.12368078422396044\n"
     ]
    }
   ],
   "source": [
    "from xgboost import XGBRegressor\n",
    "X_train,X_test,Y_train,Y_test = train_test_split(X,Y,test_size=0.2,random_state=100)\n",
    "step_1 = ColumnTransformer(transformers=[\n",
    "    ('col_tnf', OneHotEncoder(sparse_output=False, drop='first'),[0,1,2,6])\n",
    "],remainder='passthrough')\n",
    "step_2 = XGBRegressor(n_estimators=45,max_depth=5,learning_rate=0.5)\n",
    "pipe = Pipeline([('step1',step_1),\n",
    "                ('step2',step_2)])\n",
    "pipe.fit(X_train,Y_train)\n",
    "y_pred = pipe.predict(X_test)\n",
    "\n",
    "print('R2 score',r2_score(Y_test,y_pred))\n",
    "print('MAE',mean_absolute_error(Y_test,y_pred))\n"
   ]
  },
  {
   "cell_type": "code",
   "execution_count": 43,
   "id": "d8d96e8e",
   "metadata": {},
   "outputs": [
    {
     "name": "stdout",
     "output_type": "stream",
     "text": [
      "R2 score 0.7792312961461387\n",
      "MAE 0.12392849020660777\n"
     ]
    }
   ],
   "source": [
    "step_1 = ColumnTransformer(transformers=[\n",
    "    ('col_tnf', OneHotEncoder(sparse_output=False, drop='first',handle_unknown='infrequent_if_exist'),[0,1,2,6])\n",
    "],remainder='passthrough')\n",
    "step_2 = GradientBoostingRegressor(n_estimators=500,max_depth=15,max_features=0.75,)\n",
    "pipe = Pipeline([('step1',step_1),\n",
    "                ('step2',step_2)])\n",
    "pipe.fit(X_train,Y_train)\n",
    "y_pred = pipe.predict(X_test)\n",
    "\n",
    "print('R2 score',r2_score(Y_test,y_pred))\n",
    "\n",
    "print('MAE',mean_absolute_error(Y_test,y_pred))\n"
   ]
  },
  {
   "cell_type": "code",
   "execution_count": 44,
   "id": "aee05c72",
   "metadata": {},
   "outputs": [],
   "source": [
    "def best_rs(X,Y):\n",
    "    r2_score_ =[]\n",
    "    try:\n",
    "        for i in range(1,100):\n",
    "            X_train,X_test,Y_train,Y_test = train_test_split(X,Y,test_size=0.2,random_state=i)\n",
    "            pipe_rf.fit(X_train,Y_train)\n",
    "            y_pred = pipe_rf.predict(X_test)\n",
    "            r2_score_.append(r2_score(Y_test,y_pred))\n",
    "        return r2_score_\n",
    "    except ValueError as e:\n",
    "        print(\"error\")"
   ]
  },
  {
   "cell_type": "code",
   "execution_count": 45,
   "id": "36b7a743",
   "metadata": {},
   "outputs": [],
   "source": [
    "import warnings\n",
    "warnings.simplefilter(\"ignore\") "
   ]
  },
  {
   "cell_type": "code",
   "execution_count": 46,
   "id": "e28582c3",
   "metadata": {},
   "outputs": [
    {
     "name": "stdout",
     "output_type": "stream",
     "text": [
      "83\n"
     ]
    }
   ],
   "source": [
    "result = best_rs(X,Y)\n",
    "print(np.argmax(result))"
   ]
  },
  {
   "cell_type": "code",
   "execution_count": 48,
   "id": "8310006e",
   "metadata": {},
   "outputs": [
    {
     "name": "stdout",
     "output_type": "stream",
     "text": [
      "R2 score 0.8604035560068464\n",
      "MAE 0.10944539743913975\n"
     ]
    }
   ],
   "source": [
    "X_train,X_test,Y_train,Y_test = train_test_split(X,Y,test_size=0.2,random_state=84)\n",
    "step_1 = ColumnTransformer(transformers=[\n",
    "    ('col_tnf', OneHotEncoder(sparse_output=False, drop='first',handle_unknown=\"ignore\"),[0,1,2,6])\n",
    "],remainder='passthrough')\n",
    "step_2  = RandomForestRegressor()\n",
    "pipe_rf = Pipeline([('step1',step_1),\n",
    "                ('step2',step_2)])\n",
    "pipe_rf.fit(X_train,Y_train)\n",
    "y_pred = pipe_rf.predict(X_test)\n",
    "\n",
    "print('R2 score',r2_score(Y_test,y_pred))\n",
    "print('MAE',mean_absolute_error(Y_test,y_pred))"
   ]
  },
  {
   "cell_type": "code",
   "execution_count": 49,
   "id": "98d06f25",
   "metadata": {
    "scrolled": false
   },
   "outputs": [
    {
     "name": "stdout",
     "output_type": "stream",
     "text": [
      "Best Parameters using grid search: \n",
      " {'step2__criterion': 'squared_error', 'step2__max_depth': 15, 'step2__max_features': 'log2', 'step2__max_samples': 1.0, 'step2__n_estimators': 50}\n"
     ]
    }
   ],
   "source": [
    "np.random.seed(42)\n",
    "from sklearn.model_selection import GridSearchCV\n",
    "param_dist = {'step2__n_estimators': [50,100,150,200,500],\n",
    "              'step2__max_depth': [2, 3, 4, 8, 15,None],\n",
    "              \n",
    "              'step2__max_samples': [0.5, 0.75, 1.0],\n",
    "              'step2__max_features': ['sqrt', 'log2', None],\n",
    "              'step2__criterion': [\"squared_error\", \"absolute_error\"]}\n",
    "\n",
    "cv_rf = GridSearchCV(estimator=pipe_rf, \n",
    "                     cv = 5,\n",
    "                     param_grid=param_dist,\n",
    "                     n_jobs = -1)\n",
    "\n",
    "cv_rf.fit(X,Y)\n",
    "\n",
    "print('Best Parameters using grid search: \\n',\n",
    "      cv_rf.best_params_)"
   ]
  },
  {
   "cell_type": "code",
   "execution_count": 55,
   "id": "67be7e8e",
   "metadata": {},
   "outputs": [
    {
     "name": "stdout",
     "output_type": "stream",
     "text": [
      "R2 score 0.8891445923155115\n",
      "MAE 0.09834219895069073\n"
     ]
    }
   ],
   "source": [
    "X_train,X_test,Y_train,Y_test = train_test_split(X,Y,test_size=0.2,random_state=84)\n",
    "step_1 = ColumnTransformer(transformers=[\n",
    "    ('col_tnf', OneHotEncoder(sparse_output=False, drop='first',handle_unknown='infrequent_if_exist'),[0,1,2,6])\n",
    "],remainder='passthrough')\n",
    "step_2  = RandomForestRegressor(n_estimators=500,\n",
    "                                max_samples=1.0,\n",
    "                                max_features='log2',\n",
    "                                max_depth=15,\n",
    "                                criterion='squared_error'\n",
    ")\n",
    "pipe_rf = Pipeline([('step1',step_1),\n",
    "                ('step2',step_2)])\n",
    "pipe_rf.fit(X_train,Y_train)\n",
    "y_pred = pipe_rf.predict(X_test)\n",
    "\n",
    "print('R2 score',r2_score(Y_test,y_pred))\n",
    "print('MAE',mean_absolute_error(Y_test,y_pred))\n"
   ]
  },
  {
   "cell_type": "code",
   "execution_count": 56,
   "id": "6b783dee",
   "metadata": {},
   "outputs": [],
   "source": [
    "import pickle\n",
    "\n",
    "pickle.dump(df,open('df.pkl','wb'))\n",
    "pickle.dump(pipe_rf,open('pipe_rf.pkl','wb'))\n"
   ]
  },
  {
   "cell_type": "code",
   "execution_count": 76,
   "id": "09a6a4ed",
   "metadata": {},
   "outputs": [
    {
     "data": {
      "text/plain": [
       "array([74941.63258641])"
      ]
     },
     "execution_count": 76,
     "metadata": {},
     "output_type": "execute_result"
    }
   ],
   "source": [
    "query = np.array(['Apple','Mac','Mac',256,8,39.23,'No'])\n",
    "\n",
    "query = query.reshape(1,7)\n",
    "np.exp(pipe.predict(query))"
   ]
  },
  {
   "cell_type": "code",
   "execution_count": null,
   "id": "d21cfc86",
   "metadata": {},
   "outputs": [],
   "source": []
  }
 ],
 "metadata": {
  "kernelspec": {
   "display_name": "Python 3 (ipykernel)",
   "language": "python",
   "name": "python3"
  },
  "language_info": {
   "codemirror_mode": {
    "name": "ipython",
    "version": 3
   },
   "file_extension": ".py",
   "mimetype": "text/x-python",
   "name": "python",
   "nbconvert_exporter": "python",
   "pygments_lexer": "ipython3",
   "version": "3.11.5"
  }
 },
 "nbformat": 4,
 "nbformat_minor": 5
}
