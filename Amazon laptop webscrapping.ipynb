{
 "cells": [
  {
   "cell_type": "code",
   "execution_count": 9,
   "id": "5b2e7921",
   "metadata": {},
   "outputs": [],
   "source": [
    "import requests\n",
    "import pandas as pd\n",
    "import numpy as np\n",
    "from bs4 import BeautifulSoup\n",
    "import time\n",
    "import re"
   ]
  },
  {
   "cell_type": "code",
   "execution_count": 49,
   "id": "63c50aa7",
   "metadata": {},
   "outputs": [],
   "source": [
    "headers ={\n",
    "    'user-Agent' : \"Mozilla/5.0 (Windows NT 10.0; WOW64) AppleWebKit/537.36 (KHTML, like Gecko) Chrome/92.0.3455.92 Safari/537.36 Core/1.70.3722.400 QQBrowser/10.5.3739.400\"\n",
    "}\n",
    "base_url = \"https://www.amazon.in/\""
   ]
  },
  {
   "cell_type": "code",
   "execution_count": 8,
   "id": "55d08495",
   "metadata": {},
   "outputs": [
    {
     "name": "stdout",
     "output_type": "stream",
     "text": [
      "<Response [200]>\n"
     ]
    }
   ],
   "source": [
    "r = requests.get(\"https://www.amazon.in/s?k=laptops&i=computers&rh=n%3A1375424031&page=2&qid=1704957013&ref=sr_pg_2\",headers = headers)\n",
    "print(r)"
   ]
  },
  {
   "cell_type": "code",
   "execution_count": 50,
   "id": "c54f5c88",
   "metadata": {},
   "outputs": [
    {
     "data": {
      "text/plain": [
       "['https://www.amazon.in/https://aax-eu.amazon.in/x/c/ROAZOMerthARSElYjPNSxYwAAAGM91-lNAMAAAH2AQBvbm9fdHhuX2JpZDIgICBvbm9fdHhuX2ltcDEgICA-kPJa/https://www.amazon.in/gp/aw/d/B0C75GV58R/?_encoding=UTF8&pd_rd_plhdr=t&aaxitk=e3280dbf3108325536bf9794c9027406&hsa_cr_id=0&qid=1704957289&sr=1-1-dc1129fb-c8d4-4aec-832b-0226c0abeddd&ref_=sbx_be_s_sparkle_lsi4d_asin_0_bkgd&pd_rd_w=eYDHF&content-id=amzn1.sym.bc0e77cc-908d-4121-87d3-b355b997dda7%3Aamzn1.sym.bc0e77cc-908d-4121-87d3-b355b997dda7&pf_rd_p=bc0e77cc-908d-4121-87d3-b355b997dda7&pf_rd_r=W096TYJFBEDK7GBX3S2C&pd_rd_wg=Q4yrg&pd_rd_r=9f84a736-cf16-4bba-aebe-30de1e46bb39',\n",
       " 'https://www.amazon.in//sspa/click?ie=UTF8&spc=MTo0ODIyOTg2Mjg5Mjg0MDEwOjE3MDQ5NTcyODk6c3BfYXRmX25leHQ6MjAxMTAyNDgyNzA2OTg6OjA6Og&url=%2FLenovo-IdeaPad-Warranty-Platinum-81X800LGIN%2Fdp%2FB0B2RBP83P%2Fref%3Dsr_1_25_sspa%3Fdib%3DeyJ2IjoiMSJ9.1SyZVZwL0t-Z1AfYbiQ-AeRiWECHnR5zDFyFJ9wXvjQlLvF_8z3whIfpeoAxIFDZIzQk2E6c8axlQZQih79E3A._Fm_A3e5uM84L_7N6blkWluXnNrMn6s51f26mIGRsYA%26dib_tag%3Dse%26keywords%3Dlaptops%26qid%3D1704957289%26s%3Dcomputers%26sr%3D1-25-spons%26sp_csd%3Dd2lkZ2V0TmFtZT1zcF9hdGZfbmV4dA%26psc%3D1',\n",
       " 'https://www.amazon.in//sspa/click?ie=UTF8&spc=MTo0ODIyOTg2Mjg5Mjg0MDEwOjE3MDQ5NTcyODk6c3BfYXRmX25leHQ6MzAwMDYyMTI5NDA1OTMyOjowOjo&url=%2FLenovo-IdeaPad-i3-1215U-Windows-82RK00XDIN%2Fdp%2FB0CHRPJLT7%2Fref%3Dsr_1_26_sspa%3Fdib%3DeyJ2IjoiMSJ9.1SyZVZwL0t-Z1AfYbiQ-AeRiWECHnR5zDFyFJ9wXvjQlLvF_8z3whIfpeoAxIFDZIzQk2E6c8axlQZQih79E3A._Fm_A3e5uM84L_7N6blkWluXnNrMn6s51f26mIGRsYA%26dib_tag%3Dse%26keywords%3Dlaptops%26qid%3D1704957289%26s%3Dcomputers%26sr%3D1-26-spons%26sp_csd%3Dd2lkZ2V0TmFtZT1zcF9hdGZfbmV4dA%26psc%3D1',\n",
       " 'https://www.amazon.in//Redmi-15-6-inch-Laptop-Windows-Charcoal/dp/B09L53YH86/ref=sr_1_27?dib=eyJ2IjoiMSJ9.1SyZVZwL0t-Z1AfYbiQ-AeRiWECHnR5zDFyFJ9wXvjQlLvF_8z3whIfpeoAxIFDZIzQk2E6c8axlQZQih79E3A._Fm_A3e5uM84L_7N6blkWluXnNrMn6s51f26mIGRsYA&dib_tag=se&keywords=laptops&qid=1704957289&s=computers&sr=1-27',\n",
       " 'https://www.amazon.in//Lenovo-IdeaPad-i5-1235U-Fingerprint-82R70068IN/dp/B0B7RYP49P/ref=sr_1_28?dib=eyJ2IjoiMSJ9.1SyZVZwL0t-Z1AfYbiQ-AeRiWECHnR5zDFyFJ9wXvjQlLvF_8z3whIfpeoAxIFDZIzQk2E6c8axlQZQih79E3A._Fm_A3e5uM84L_7N6blkWluXnNrMn6s51f26mIGRsYA&dib_tag=se&keywords=laptops&qid=1704957289&s=computers&sr=1-28',\n",
       " 'https://www.amazon.in//HP-Creators-i7-1255U-Micro-Edge-15-ew0022TX/dp/B0BRSH5H39/ref=sr_1_29?dib=eyJ2IjoiMSJ9.1SyZVZwL0t-Z1AfYbiQ-AeRiWECHnR5zDFyFJ9wXvjQlLvF_8z3whIfpeoAxIFDZIzQk2E6c8axlQZQih79E3A._Fm_A3e5uM84L_7N6blkWluXnNrMn6s51f26mIGRsYA&dib_tag=se&keywords=laptops&qid=1704957289&s=computers&sr=1-29',\n",
       " 'https://www.amazon.in//Pavilion-Multitouch-Windows-Graphics-14-Dy1047Tu/dp/B09VQ21TW4/ref=sr_1_30?dib=eyJ2IjoiMSJ9.1SyZVZwL0t-Z1AfYbiQ-AeRiWECHnR5zDFyFJ9wXvjQlLvF_8z3whIfpeoAxIFDZIzQk2E6c8axlQZQih79E3A._Fm_A3e5uM84L_7N6blkWluXnNrMn6s51f26mIGRsYA&dib_tag=se&keywords=laptops&qid=1704957289&s=computers&sr=1-30',\n",
       " 'https://www.amazon.in//ASUS-Vivobook-i7-12650H-Laptop-X1502ZA-EJ741WS/dp/B0C5N2SM8K/ref=sr_1_31?dib=eyJ2IjoiMSJ9.1SyZVZwL0t-Z1AfYbiQ-AeRiWECHnR5zDFyFJ9wXvjQlLvF_8z3whIfpeoAxIFDZIzQk2E6c8axlQZQih79E3A._Fm_A3e5uM84L_7N6blkWluXnNrMn6s51f26mIGRsYA&dib_tag=se&keywords=laptops&qid=1704957289&s=computers&sr=1-31',\n",
       " 'https://www.amazon.in//Acer-Windows-Fingerprint-Backlit-Keyboard/dp/B0BPXDVJCX/ref=sr_1_32?dib=eyJ2IjoiMSJ9.1SyZVZwL0t-Z1AfYbiQ-AeRiWECHnR5zDFyFJ9wXvjQlLvF_8z3whIfpeoAxIFDZIzQk2E6c8axlQZQih79E3A._Fm_A3e5uM84L_7N6blkWluXnNrMn6s51f26mIGRsYA&dib_tag=se&keywords=laptops&qid=1704957289&s=computers&sr=1-32',\n",
       " 'https://www.amazon.in//FUTOPIA-Ultimus-Celeron-Intel-N4020/dp/B0CHVQ2SZQ/ref=sr_1_33?dib=eyJ2IjoiMSJ9.1SyZVZwL0t-Z1AfYbiQ-AeRiWECHnR5zDFyFJ9wXvjQlLvF_8z3whIfpeoAxIFDZIzQk2E6c8axlQZQih79E3A._Fm_A3e5uM84L_7N6blkWluXnNrMn6s51f26mIGRsYA&dib_tag=se&keywords=laptops&qid=1704957289&s=computers&sr=1-33',\n",
       " 'https://www.amazon.in//ASUS-Vivobook-i7-13700H-Laptop-S5504VA-MA741WS/dp/B0BRYXLCZM/ref=sr_1_34?dib=eyJ2IjoiMSJ9.1SyZVZwL0t-Z1AfYbiQ-AeRiWECHnR5zDFyFJ9wXvjQlLvF_8z3whIfpeoAxIFDZIzQk2E6c8axlQZQih79E3A._Fm_A3e5uM84L_7N6blkWluXnNrMn6s51f26mIGRsYA&dib_tag=se&keywords=laptops&qid=1704957289&s=computers&sr=1-34',\n",
       " 'https://www.amazon.in//Acer-Laptop-Windows-Z8-415-Display/dp/B0C77J952V/ref=sr_1_35?dib=eyJ2IjoiMSJ9.1SyZVZwL0t-Z1AfYbiQ-AeRiWECHnR5zDFyFJ9wXvjQlLvF_8z3whIfpeoAxIFDZIzQk2E6c8axlQZQih79E3A._Fm_A3e5uM84L_7N6blkWluXnNrMn6s51f26mIGRsYA&dib_tag=se&keywords=laptops&qid=1704957289&s=computers&sr=1-35',\n",
       " 'https://www.amazon.in//MSI-i3-1115G4-Windows-Classic-C11M-031IN/dp/B0BQBSJ6ZT/ref=sr_1_36?dib=eyJ2IjoiMSJ9.1SyZVZwL0t-Z1AfYbiQ-AeRiWECHnR5zDFyFJ9wXvjQlLvF_8z3whIfpeoAxIFDZIzQk2E6c8axlQZQih79E3A._Fm_A3e5uM84L_7N6blkWluXnNrMn6s51f26mIGRsYA&dib_tag=se&keywords=laptops&qid=1704957289&s=computers&sr=1-36',\n",
       " 'https://www.amazon.in//HP-Micro-Edge-Anti-Glare-15s-fq5112TU/dp/B0B6F6HN37/ref=sr_1_37?dib=eyJ2IjoiMSJ9.1SyZVZwL0t-Z1AfYbiQ-AeRiWECHnR5zDFyFJ9wXvjQlLvF_8z3whIfpeoAxIFDZIzQk2E6c8axlQZQih79E3A._Fm_A3e5uM84L_7N6blkWluXnNrMn6s51f26mIGRsYA&dib_tag=se&keywords=laptops&qid=1704957289&s=computers&sr=1-37',\n",
       " 'https://www.amazon.in//ASUS-VivoBook-Intel%C2%AECoreTM-i3-1215U-X1502ZA-EJ322WS/dp/B0BTVMBLZC/ref=sr_1_38?dib=eyJ2IjoiMSJ9.1SyZVZwL0t-Z1AfYbiQ-AeRiWECHnR5zDFyFJ9wXvjQlLvF_8z3whIfpeoAxIFDZIzQk2E6c8axlQZQih79E3A._Fm_A3e5uM84L_7N6blkWluXnNrMn6s51f26mIGRsYA&dib_tag=se&keywords=laptops&qid=1704957289&s=computers&sr=1-38',\n",
       " 'https://www.amazon.in//sspa/click?ie=UTF8&spc=MTo0ODIyOTg2Mjg5Mjg0MDEwOjE3MDQ5NTcyODk6c3BfbXRmOjIwMTAxODE2NDU2MDk4OjowOjo&url=%2FLenovo-i3-1115G4-Warranty-Platinum-81X800LCIN%2Fdp%2FB0B9YHX39M%2Fref%3Dsr_1_39_sspa%3Fdib%3DeyJ2IjoiMSJ9.1SyZVZwL0t-Z1AfYbiQ-AeRiWECHnR5zDFyFJ9wXvjQlLvF_8z3whIfpeoAxIFDZIzQk2E6c8axlQZQih79E3A._Fm_A3e5uM84L_7N6blkWluXnNrMn6s51f26mIGRsYA%26dib_tag%3Dse%26keywords%3Dlaptops%26qid%3D1704957289%26s%3Dcomputers%26sr%3D1-39-spons%26sp_csd%3Dd2lkZ2V0TmFtZT1zcF9tdGY%26psc%3D1',\n",
       " 'https://www.amazon.in//sspa/click?ie=UTF8&spc=MTo0ODIyOTg2Mjg5Mjg0MDEwOjE3MDQ5NTcyODk6c3BfbXRmOjMwMDExMDMyNTYyMjIzMjo6MDo6&url=%2FMSI-i7-11800H-Windows-GTX1650-11SC-852IN%2Fdp%2FB09YY3FVTB%2Fref%3Dsr_1_40_sspa%3Fdib%3DeyJ2IjoiMSJ9.1SyZVZwL0t-Z1AfYbiQ-AeRiWECHnR5zDFyFJ9wXvjQlLvF_8z3whIfpeoAxIFDZIzQk2E6c8axlQZQih79E3A._Fm_A3e5uM84L_7N6blkWluXnNrMn6s51f26mIGRsYA%26dib_tag%3Dse%26keywords%3Dlaptops%26qid%3D1704957289%26s%3Dcomputers%26sr%3D1-40-spons%26sp_csd%3Dd2lkZ2V0TmFtZT1zcF9tdGY%26psc%3D1',\n",
       " 'https://www.amazon.in//ASUS-Vivobook-Windows-Backlit-M1603QA-MB712WS/dp/B0BH6QPVVF/ref=sr_1_41?dib=eyJ2IjoiMSJ9.1SyZVZwL0t-Z1AfYbiQ-AeRiWECHnR5zDFyFJ9wXvjQlLvF_8z3whIfpeoAxIFDZIzQk2E6c8axlQZQih79E3A._Fm_A3e5uM84L_7N6blkWluXnNrMn6s51f26mIGRsYA&dib_tag=se&keywords=laptops&qid=1704957289&s=computers&sr=1-41',\n",
       " 'https://www.amazon.in//Lenovo-IdeaPad-Detachable-Warranty-82H0001YIN/dp/B09SV2B5SR/ref=sr_1_42?dib=eyJ2IjoiMSJ9.1SyZVZwL0t-Z1AfYbiQ-AeRiWECHnR5zDFyFJ9wXvjQlLvF_8z3whIfpeoAxIFDZIzQk2E6c8axlQZQih79E3A._Fm_A3e5uM84L_7N6blkWluXnNrMn6s51f26mIGRsYA&dib_tag=se&keywords=laptops&qid=1704957289&s=computers&sr=1-42',\n",
       " 'https://www.amazon.in//HP-Micro-Edge-Anti-Glare-Graphics-15s-eq2144au/dp/B09RZRF1PJ/ref=sr_1_43?dib=eyJ2IjoiMSJ9.1SyZVZwL0t-Z1AfYbiQ-AeRiWECHnR5zDFyFJ9wXvjQlLvF_8z3whIfpeoAxIFDZIzQk2E6c8axlQZQih79E3A._Fm_A3e5uM84L_7N6blkWluXnNrMn6s51f26mIGRsYA&dib_tag=se&keywords=laptops&qid=1704957289&s=computers&sr=1-43',\n",
       " 'https://www.amazon.in//ASUS-Vivobook-16-0-inch-40-64-M1603QA-MB501WS/dp/B0B8ZT96HS/ref=sr_1_44?dib=eyJ2IjoiMSJ9.1SyZVZwL0t-Z1AfYbiQ-AeRiWECHnR5zDFyFJ9wXvjQlLvF_8z3whIfpeoAxIFDZIzQk2E6c8axlQZQih79E3A._Fm_A3e5uM84L_7N6blkWluXnNrMn6s51f26mIGRsYA&dib_tag=se&keywords=laptops&qid=1704957289&s=computers&sr=1-44',\n",
       " 'https://www.amazon.in//HP-Chromebook-Micro-Edge-Touchscreen-14a-ca0506TU/dp/B09QQPGDBG/ref=sr_1_45?dib=eyJ2IjoiMSJ9.1SyZVZwL0t-Z1AfYbiQ-AeRiWECHnR5zDFyFJ9wXvjQlLvF_8z3whIfpeoAxIFDZIzQk2E6c8axlQZQih79E3A._Fm_A3e5uM84L_7N6blkWluXnNrMn6s51f26mIGRsYA&dib_tag=se&keywords=laptops&qid=1704957289&s=computers&sr=1-45',\n",
       " 'https://www.amazon.in//Lenovo-IdeaPad-39-6cm-Windows-82XQ008DIN/dp/B0CCP88X9Q/ref=sr_1_46?dib=eyJ2IjoiMSJ9.1SyZVZwL0t-Z1AfYbiQ-AeRiWECHnR5zDFyFJ9wXvjQlLvF_8z3whIfpeoAxIFDZIzQk2E6c8axlQZQih79E3A._Fm_A3e5uM84L_7N6blkWluXnNrMn6s51f26mIGRsYA&dib_tag=se&keywords=laptops&qid=1704957289&s=computers&sr=1-46',\n",
       " 'https://www.amazon.in//Acer-Extensa-Processor-Graphics-EX215-33/dp/B0BXL9KVCL/ref=sr_1_47?dib=eyJ2IjoiMSJ9.1SyZVZwL0t-Z1AfYbiQ-AeRiWECHnR5zDFyFJ9wXvjQlLvF_8z3whIfpeoAxIFDZIzQk2E6c8axlQZQih79E3A._Fm_A3e5uM84L_7N6blkWluXnNrMn6s51f26mIGRsYA&dib_tag=se&keywords=laptops&qid=1704957289&s=computers&sr=1-47',\n",
       " 'https://www.amazon.in//Lenovo-Ideapad-Keyboard-Warranty-82KU017KIN/dp/B09MM58Y7Q/ref=sr_1_48?dib=eyJ2IjoiMSJ9.1SyZVZwL0t-Z1AfYbiQ-AeRiWECHnR5zDFyFJ9wXvjQlLvF_8z3whIfpeoAxIFDZIzQk2E6c8axlQZQih79E3A._Fm_A3e5uM84L_7N6blkWluXnNrMn6s51f26mIGRsYA&dib_tag=se&keywords=laptops&qid=1704957289&s=computers&sr=1-48',\n",
       " 'https://www.amazon.in//Dell-Alienware-m16-AMD-9-7845HX/dp/B0C917XSCR/ref=sr_1_49?dib=eyJ2IjoiMSJ9.1SyZVZwL0t-Z1AfYbiQ-AeRiWECHnR5zDFyFJ9wXvjQlLvF_8z3whIfpeoAxIFDZIzQk2E6c8axlQZQih79E3A._Fm_A3e5uM84L_7N6blkWluXnNrMn6s51f26mIGRsYA&dib_tag=se&keywords=laptops&qid=1704957289&s=computers&sr=1-49',\n",
       " 'https://www.amazon.in//HP-255-G9-Notebook-Silver-3050U/dp/B0C8VF4DL5/ref=sr_1_50?dib=eyJ2IjoiMSJ9.1SyZVZwL0t-Z1AfYbiQ-AeRiWECHnR5zDFyFJ9wXvjQlLvF_8z3whIfpeoAxIFDZIzQk2E6c8axlQZQih79E3A._Fm_A3e5uM84L_7N6blkWluXnNrMn6s51f26mIGRsYA&dib_tag=se&keywords=laptops&qid=1704957289&s=computers&sr=1-50',\n",
       " 'https://www.amazon.in//ASUS-Vivobook-i5-12500H-Laptop-X1502ZA-EJ541WS/dp/B0C7H6SSC8/ref=sr_1_51?dib=eyJ2IjoiMSJ9.1SyZVZwL0t-Z1AfYbiQ-AeRiWECHnR5zDFyFJ9wXvjQlLvF_8z3whIfpeoAxIFDZIzQk2E6c8axlQZQih79E3A._Fm_A3e5uM84L_7N6blkWluXnNrMn6s51f26mIGRsYA&dib_tag=se&keywords=laptops&qid=1704957289&s=computers&sr=1-51',\n",
       " 'https://www.amazon.in//ASUS-Vivobook-i5-12450H-16-0-inch-K3605ZF-MB541WS/dp/B0BRYBLVR3/ref=sr_1_52?dib=eyJ2IjoiMSJ9.1SyZVZwL0t-Z1AfYbiQ-AeRiWECHnR5zDFyFJ9wXvjQlLvF_8z3whIfpeoAxIFDZIzQk2E6c8axlQZQih79E3A._Fm_A3e5uM84L_7N6blkWluXnNrMn6s51f26mIGRsYA&dib_tag=se&keywords=laptops&qid=1704957289&s=computers&sr=1-52',\n",
       " 'https://www.amazon.in//sspa/click?ie=UTF8&spc=MTo0ODIyOTg2Mjg5Mjg0MDEwOjE3MDQ5NTcyODk6c3BfYnRmOjMwMDExMDI5MTk2NDEzMjo6MDo6&url=%2FMSI-Cyborg-15-i5-12450H-A12UCX-264IN%2Fdp%2FB0C3HZ82LH%2Fref%3Dsr_1_53_sspa%3Fdib%3DeyJ2IjoiMSJ9.1SyZVZwL0t-Z1AfYbiQ-AeRiWECHnR5zDFyFJ9wXvjQlLvF_8z3whIfpeoAxIFDZIzQk2E6c8axlQZQih79E3A._Fm_A3e5uM84L_7N6blkWluXnNrMn6s51f26mIGRsYA%26dib_tag%3Dse%26keywords%3Dlaptops%26qid%3D1704957289%26s%3Dcomputers%26sr%3D1-53-spons%26sp_csd%3Dd2lkZ2V0TmFtZT1zcF9idGY%26psc%3D1',\n",
       " 'https://www.amazon.in//sspa/click?ie=UTF8&spc=MTo0ODIyOTg2Mjg5Mjg0MDEwOjE3MDQ5NTcyODk6c3BfYnRmOjMwMDExMDMyNTYyMjQzMjo6MDo6&url=%2FMSI-i7-11800H-Gaming-Windows-11UC-866IN%2Fdp%2FB0BGZL34XZ%2Fref%3Dsr_1_54_sspa%3Fdib%3DeyJ2IjoiMSJ9.1SyZVZwL0t-Z1AfYbiQ-AeRiWECHnR5zDFyFJ9wXvjQlLvF_8z3whIfpeoAxIFDZIzQk2E6c8axlQZQih79E3A._Fm_A3e5uM84L_7N6blkWluXnNrMn6s51f26mIGRsYA%26dib_tag%3Dse%26keywords%3Dlaptops%26qid%3D1704957289%26s%3Dcomputers%26sr%3D1-54-spons%26sp_csd%3Dd2lkZ2V0TmFtZT1zcF9idGY%26psc%3D1']"
      ]
     },
     "execution_count": 50,
     "metadata": {},
     "output_type": "execute_result"
    }
   ],
   "source": [
    "product_links =[]\n",
    "soup = BeautifulSoup(r.content,'lxml')\n",
    "product_list = soup.find_all('div', attrs = {'data-asin' : re.compile('^B0.*')})\n",
    "#print(product_list)\n",
    "for item in product_list:\n",
    "    product_link = item.find(\"a\", href=True)  # Find the first link within the item\n",
    "    if product_link:\n",
    "        product_url = product_link.get(\"href\")\n",
    "        product_links.append(base_url + product_url)\n",
    "product_links"
   ]
  },
  {
   "cell_type": "code",
   "execution_count": 51,
   "id": "08c47269",
   "metadata": {},
   "outputs": [
    {
     "data": {
      "text/plain": [
       "31"
      ]
     },
     "execution_count": 51,
     "metadata": {},
     "output_type": "execute_result"
    }
   ],
   "source": [
    "len(product_links)"
   ]
  },
  {
   "cell_type": "code",
   "execution_count": null,
   "id": "2c593602",
   "metadata": {},
   "outputs": [],
   "source": [
    "for i in "
   ]
  }
 ],
 "metadata": {
  "kernelspec": {
   "display_name": "Python 3 (ipykernel)",
   "language": "python",
   "name": "python3"
  },
  "language_info": {
   "codemirror_mode": {
    "name": "ipython",
    "version": 3
   },
   "file_extension": ".py",
   "mimetype": "text/x-python",
   "name": "python",
   "nbconvert_exporter": "python",
   "pygments_lexer": "ipython3",
   "version": "3.11.5"
  }
 },
 "nbformat": 4,
 "nbformat_minor": 5
}
