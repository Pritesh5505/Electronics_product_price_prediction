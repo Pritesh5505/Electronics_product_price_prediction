{
 "cells": [
  {
   "cell_type": "code",
   "execution_count": 1,
   "id": "284d87c1",
   "metadata": {},
   "outputs": [],
   "source": [
    "import pandas as pd\n",
    "import numpy as np\n",
    "from sklearn.preprocessing import OneHotEncoder\n",
    "from sklearn.preprocessing import StandardScaler\n",
    "from sklearn.compose import ColumnTransformer\n",
    "from sklearn.ensemble import RandomForestRegressor,GradientBoostingRegressor\n",
    "from sklearn.linear_model import LinearRegression\n",
    "from sklearn.neighbors import KNeighborsRegressor\n",
    "from sklearn.metrics import r2_score,mean_absolute_error\n",
    "import seaborn as sns\n",
    "import matplotlib.pyplot as plt"
   ]
  },
  {
   "cell_type": "code",
   "execution_count": 183,
   "id": "a60dde1d",
   "metadata": {
    "scrolled": true
   },
   "outputs": [
    {
     "data": {
      "text/html": [
       "<div>\n",
       "<style scoped>\n",
       "    .dataframe tbody tr th:only-of-type {\n",
       "        vertical-align: middle;\n",
       "    }\n",
       "\n",
       "    .dataframe tbody tr th {\n",
       "        vertical-align: top;\n",
       "    }\n",
       "\n",
       "    .dataframe thead th {\n",
       "        text-align: right;\n",
       "    }\n",
       "</style>\n",
       "<table border=\"1\" class=\"dataframe\">\n",
       "  <thead>\n",
       "    <tr style=\"text-align: right;\">\n",
       "      <th></th>\n",
       "      <th>Unnamed: 0</th>\n",
       "      <th>Brand</th>\n",
       "      <th>Model Name</th>\n",
       "      <th>Display Size</th>\n",
       "      <th>Operating System</th>\n",
       "      <th>Picture Quality</th>\n",
       "      <th>Smart Tv</th>\n",
       "      <th>Sound Technology</th>\n",
       "      <th>Refresh Rate</th>\n",
       "      <th>Screen Type</th>\n",
       "      <th>Connectivity</th>\n",
       "      <th>Price</th>\n",
       "    </tr>\n",
       "  </thead>\n",
       "  <tbody>\n",
       "    <tr>\n",
       "      <th>0</th>\n",
       "      <td>0</td>\n",
       "      <td>Mi</td>\n",
       "      <td>L40M8-5AIN</td>\n",
       "      <td>100 cm (40 inch)</td>\n",
       "      <td>Google TV</td>\n",
       "      <td>Full HD, 1920 x 1080</td>\n",
       "      <td>Yes</td>\n",
       "      <td>NaN</td>\n",
       "      <td>60 Hz</td>\n",
       "      <td>LED</td>\n",
       "      <td>2 HDMI | 2 USB</td>\n",
       "      <td>₹20,999</td>\n",
       "    </tr>\n",
       "    <tr>\n",
       "      <th>1</th>\n",
       "      <td>1</td>\n",
       "      <td>SONY</td>\n",
       "      <td>KD - 43X74K</td>\n",
       "      <td>108 cm (43 inch)</td>\n",
       "      <td>Google TV</td>\n",
       "      <td>Ultra HD (4K), 3840 x 2160</td>\n",
       "      <td>Yes</td>\n",
       "      <td>Clear Phase, S-Master Digital Amplifier, Dolby...</td>\n",
       "      <td>60 Hz</td>\n",
       "      <td>LED</td>\n",
       "      <td>3 HDMI | 2 USB</td>\n",
       "      <td>₹37,990</td>\n",
       "    </tr>\n",
       "    <tr>\n",
       "      <th>2</th>\n",
       "      <td>2</td>\n",
       "      <td>SONY</td>\n",
       "      <td>KD-55X74K</td>\n",
       "      <td>138.8 cm (55 inch)</td>\n",
       "      <td>Google TV</td>\n",
       "      <td>Ultra HD (4K), 3840 x 2160</td>\n",
       "      <td>Yes</td>\n",
       "      <td>NaN</td>\n",
       "      <td>60 Hz</td>\n",
       "      <td>LED</td>\n",
       "      <td>3 HDMI | 2 USB</td>\n",
       "      <td>₹52,490</td>\n",
       "    </tr>\n",
       "    <tr>\n",
       "      <th>3</th>\n",
       "      <td>3</td>\n",
       "      <td>SAMSUNG</td>\n",
       "      <td>UA55CUE70AKLXL</td>\n",
       "      <td>138 cm (55 inch)</td>\n",
       "      <td>Tizen</td>\n",
       "      <td>Ultra HD (4K), 3840 x 2160</td>\n",
       "      <td>Yes</td>\n",
       "      <td>NaN</td>\n",
       "      <td>50 Hz</td>\n",
       "      <td>LED</td>\n",
       "      <td>3 (Rear) HDMI | 1 (Rear) USB</td>\n",
       "      <td>₹42,990</td>\n",
       "    </tr>\n",
       "    <tr>\n",
       "      <th>4</th>\n",
       "      <td>4</td>\n",
       "      <td>MOTOROLA</td>\n",
       "      <td>32HDGDMBSXP</td>\n",
       "      <td>80 cm (32 inch)</td>\n",
       "      <td>Google TV</td>\n",
       "      <td>HD Ready, 1366 x 768</td>\n",
       "      <td>Yes</td>\n",
       "      <td>NaN</td>\n",
       "      <td>60 Hz</td>\n",
       "      <td>LED</td>\n",
       "      <td>3 HDMI | 2 USB</td>\n",
       "      <td>₹10,999</td>\n",
       "    </tr>\n",
       "  </tbody>\n",
       "</table>\n",
       "</div>"
      ],
      "text/plain": [
       "   Unnamed: 0     Brand      Model Name        Display Size Operating System  \\\n",
       "0           0        Mi      L40M8-5AIN    100 cm (40 inch)        Google TV   \n",
       "1           1      SONY     KD - 43X74K    108 cm (43 inch)        Google TV   \n",
       "2           2      SONY       KD-55X74K  138.8 cm (55 inch)        Google TV   \n",
       "3           3   SAMSUNG  UA55CUE70AKLXL    138 cm (55 inch)            Tizen   \n",
       "4           4  MOTOROLA     32HDGDMBSXP     80 cm (32 inch)        Google TV   \n",
       "\n",
       "              Picture Quality Smart Tv  \\\n",
       "0        Full HD, 1920 x 1080      Yes   \n",
       "1  Ultra HD (4K), 3840 x 2160      Yes   \n",
       "2  Ultra HD (4K), 3840 x 2160      Yes   \n",
       "3  Ultra HD (4K), 3840 x 2160      Yes   \n",
       "4        HD Ready, 1366 x 768      Yes   \n",
       "\n",
       "                                    Sound Technology Refresh Rate Screen Type  \\\n",
       "0                                                NaN        60 Hz         LED   \n",
       "1  Clear Phase, S-Master Digital Amplifier, Dolby...        60 Hz         LED   \n",
       "2                                                NaN        60 Hz         LED   \n",
       "3                                                NaN        50 Hz         LED   \n",
       "4                                                NaN        60 Hz         LED   \n",
       "\n",
       "                   Connectivity    Price  \n",
       "0                2 HDMI | 2 USB  ₹20,999  \n",
       "1                3 HDMI | 2 USB  ₹37,990  \n",
       "2                3 HDMI | 2 USB  ₹52,490  \n",
       "3  3 (Rear) HDMI | 1 (Rear) USB  ₹42,990  \n",
       "4                3 HDMI | 2 USB  ₹10,999  "
      ]
     },
     "execution_count": 183,
     "metadata": {},
     "output_type": "execute_result"
    }
   ],
   "source": [
    "df= pd.read_csv(\"D:\\Pritesh\\ML\\web scrapping\\TV.csv\")\n",
    "df.head()"
   ]
  },
  {
   "cell_type": "code",
   "execution_count": 184,
   "id": "e257b30e",
   "metadata": {},
   "outputs": [
    {
     "name": "stdout",
     "output_type": "stream",
     "text": [
      "<class 'pandas.core.frame.DataFrame'>\n",
      "RangeIndex: 975 entries, 0 to 974\n",
      "Data columns (total 12 columns):\n",
      " #   Column            Non-Null Count  Dtype \n",
      "---  ------            --------------  ----- \n",
      " 0   Unnamed: 0        975 non-null    int64 \n",
      " 1   Brand             975 non-null    object\n",
      " 2   Model Name        975 non-null    object\n",
      " 3   Display Size      975 non-null    object\n",
      " 4   Operating System  815 non-null    object\n",
      " 5   Picture Quality   952 non-null    object\n",
      " 6   Smart Tv          952 non-null    object\n",
      " 7   Sound Technology  348 non-null    object\n",
      " 8   Refresh Rate      947 non-null    object\n",
      " 9   Screen Type       952 non-null    object\n",
      " 10  Connectivity      975 non-null    object\n",
      " 11  Price             975 non-null    object\n",
      "dtypes: int64(1), object(11)\n",
      "memory usage: 91.5+ KB\n"
     ]
    }
   ],
   "source": [
    "df.info()"
   ]
  },
  {
   "cell_type": "code",
   "execution_count": 185,
   "id": "c712b255",
   "metadata": {},
   "outputs": [],
   "source": [
    "df.drop(columns=\"Sound Technology\",inplace=True)"
   ]
  },
  {
   "cell_type": "code",
   "execution_count": 186,
   "id": "c10a689c",
   "metadata": {},
   "outputs": [],
   "source": [
    "df.drop(columns='Unnamed: 0',inplace= True)"
   ]
  },
  {
   "cell_type": "code",
   "execution_count": 187,
   "id": "fc4f20b2",
   "metadata": {},
   "outputs": [],
   "source": [
    "df.drop(columns='Model Name',inplace= True)"
   ]
  },
  {
   "cell_type": "code",
   "execution_count": 188,
   "id": "363f46cb",
   "metadata": {},
   "outputs": [
    {
     "data": {
      "text/plain": [
       "444"
      ]
     },
     "execution_count": 188,
     "metadata": {},
     "output_type": "execute_result"
    }
   ],
   "source": [
    "df.duplicated().sum()"
   ]
  },
  {
   "cell_type": "code",
   "execution_count": 8,
   "id": "937c7b7e",
   "metadata": {},
   "outputs": [],
   "source": [
    "#df.drop_duplicates(inplace=True)"
   ]
  },
  {
   "cell_type": "code",
   "execution_count": 189,
   "id": "e2f9404a",
   "metadata": {},
   "outputs": [],
   "source": [
    "df.Price = df.Price.str.replace(\"₹\",\"\")\n",
    "df.Price = df.Price.str.replace(\",\",\"\")\n",
    "df['Price'] = df['Price'].astype(int)"
   ]
  },
  {
   "cell_type": "code",
   "execution_count": 190,
   "id": "ab39b972",
   "metadata": {},
   "outputs": [
    {
     "data": {
      "text/plain": [
       "array(['Mi', 'SONY', 'SAMSUNG', 'MOTOROLA', 'Hisense', 'Vu', 'iFFALCON',\n",
       "       'Acer', 'realme', 'LG', 'OnePlus', 'Thomson', 'KODAK', 'MarQ',\n",
       "       'TOSHIBA', 'Dyanora', 'XElectron', 'Blaupunkt', 'TCL', 'SENS',\n",
       "       'Sansui', 'Coocaa', 'Compaq', 'InnoQ', 'Infinix', 'Xiaomi',\n",
       "       'ONIDA', 'BeethoSOL', 'Foxsky', 'NU', 'CANDY', 'SKYTRON', 'Lloyd',\n",
       "       'Panasonic', 'Reliance', 'BPL', 'Haier', 'ZEBRONICS', 'T-Series',\n",
       "       'RGL', 'REDMI', 'JVC', 'Aiwa', 'Candes', 'DETEL', 'iMEE', 'CORNEA',\n",
       "       'LIMEBERRY', 'INVANTER', 'Hyundai', 'Cellecor', 'smart',\n",
       "       'STARSHINE', 'Salora', 'Panwood', 'VG', 'AGE', 'IMPEX', 'TRUSENSE',\n",
       "       'Feltron', 'V-SKY', 'Gangnam', 'Samtonic', 'itel', 'EGOTEL',\n",
       "       'OPPO', 'Apple', 'vivo', 'Power'], dtype=object)"
      ]
     },
     "execution_count": 190,
     "metadata": {},
     "output_type": "execute_result"
    }
   ],
   "source": [
    "df['Brand'].unique()"
   ]
  },
  {
   "cell_type": "code",
   "execution_count": 192,
   "id": "fbe970fb",
   "metadata": {},
   "outputs": [],
   "source": [
    "df['Brand'] = df['Brand'].str.replace(\"Mi\",\"Xiaomi\")\n",
    "df['Brand'] = df['Brand'].str.replace(\"REDMI\",\"Xiaomi\")"
   ]
  },
  {
   "cell_type": "code",
   "execution_count": 193,
   "id": "60a72163",
   "metadata": {},
   "outputs": [
    {
     "data": {
      "text/plain": [
       "Brand\n",
       "Thomson      170\n",
       "SAMSUNG       95\n",
       "LG            87\n",
       "KODAK         70\n",
       "XElectron     65\n",
       "            ... \n",
       "Salora         1\n",
       "STARSHINE      1\n",
       "ZEBRONICS      1\n",
       "NU             1\n",
       "Power          1\n",
       "Name: count, Length: 67, dtype: int64"
      ]
     },
     "execution_count": 193,
     "metadata": {},
     "output_type": "execute_result"
    }
   ],
   "source": [
    "df['Brand'].value_counts()"
   ]
  },
  {
   "cell_type": "code",
   "execution_count": 194,
   "id": "fd06b56a",
   "metadata": {},
   "outputs": [
    {
     "name": "stdout",
     "output_type": "stream",
     "text": [
      "['iMEE', 'SENS', 'LIMEBERRY', 'vivo', 'smart', 'iFFALCON', 'CORNEA', 'InnoQ', 'T-Series', 'Apple', 'BeethoSOL', 'INVANTER', 'Coocaa', 'JVC', 'CANDY', 'BPL', 'Infinix', 'Candes', 'VG', 'realme', 'Cellecor', 'Hyundai', 'SKYTRON', 'Compaq', 'OnePlus', 'ONIDA', 'Foxsky', 'DETEL', 'Aiwa', 'RGL', 'Panwood', 'AGE', 'TRUSENSE', 'Samtonic', 'OPPO', 'EGOTEL', 'Gangnam', 'itel', 'Reliance', 'V-SKY', 'Feltron', 'IMPEX', 'Salora', 'STARSHINE', 'ZEBRONICS', 'NU', 'Power']\n"
     ]
    }
   ],
   "source": [
    "brand = df['Brand'].value_counts()\n",
    "other_brand = brand[brand<10].index.to_list()\n",
    "print(other_brand)"
   ]
  },
  {
   "cell_type": "code",
   "execution_count": 195,
   "id": "6694f57b",
   "metadata": {},
   "outputs": [],
   "source": [
    "df['Brand'] = df['Brand'].apply([lambda x: \"Others\" if x in other_brand else x])"
   ]
  },
  {
   "cell_type": "code",
   "execution_count": 196,
   "id": "293a6446",
   "metadata": {},
   "outputs": [
    {
     "data": {
      "text/plain": [
       "Display Size\n",
       "80 cm (32 inch)       134\n",
       "108 cm (43 inch)      124\n",
       "139 cm (55 inch)      116\n",
       "164 cm (65 inch)       92\n",
       "126 cm (50 inch)       80\n",
       "                     ... \n",
       "164 cm (65 Inch)        1\n",
       "138 mm (55 inch)        1\n",
       "98 cm (40 inch)         1\n",
       "101 cm (40 inch)        1\n",
       "81.01 cm (32 inch)      1\n",
       "Name: count, Length: 64, dtype: int64"
      ]
     },
     "execution_count": 196,
     "metadata": {},
     "output_type": "execute_result"
    }
   ],
   "source": [
    "df['Display Size'].value_counts()"
   ]
  },
  {
   "cell_type": "code",
   "execution_count": 197,
   "id": "8a51b882",
   "metadata": {},
   "outputs": [],
   "source": [
    "df['Display Size'] = df['Display Size'].apply(lambda x:\"\".join(x.split(\" \")[0]))"
   ]
  },
  {
   "cell_type": "code",
   "execution_count": 198,
   "id": "3fea9b0a",
   "metadata": {
    "scrolled": true
   },
   "outputs": [
    {
     "data": {
      "text/plain": [
       "Operating System\n",
       "Google TV        368\n",
       "Android          177\n",
       "WebOS             98\n",
       "Tizen             82\n",
       "Android Based     24\n",
       "Linux             23\n",
       "Android 13        10\n",
       "VIDAA              9\n",
       "Linux based        7\n",
       "Android 12         5\n",
       "iOS 16             4\n",
       "iOS 17             3\n",
       "Coolita            2\n",
       "HomeOS             1\n",
       "FireTv OS 7        1\n",
       "Android 14         1\n",
       "Name: count, dtype: int64"
      ]
     },
     "execution_count": 198,
     "metadata": {},
     "output_type": "execute_result"
    }
   ],
   "source": [
    "df['Operating System'].value_counts()"
   ]
  },
  {
   "cell_type": "code",
   "execution_count": 199,
   "id": "e7b3176e",
   "metadata": {},
   "outputs": [],
   "source": [
    "def os(data):\n",
    "    if 'Android' in str(data):\n",
    "        return \"Android\"\n",
    "    elif 'iOS' in str(data):\n",
    "        return \"iOS\"\n",
    "    elif 'Linux' in str(data):\n",
    "        return \"Linux\"\n",
    "    else:\n",
    "        return data\n",
    "\n",
    "df['Operating System'] = df['Operating System'].apply(os)"
   ]
  },
  {
   "cell_type": "code",
   "execution_count": 200,
   "id": "4eb3c181",
   "metadata": {},
   "outputs": [
    {
     "name": "stdout",
     "output_type": "stream",
     "text": [
      "['VIDAA', 'iOS', 'Coolita', 'HomeOS', 'FireTv OS 7']\n"
     ]
    }
   ],
   "source": [
    "o_s = df['Operating System'].value_counts()\n",
    "other_brand = o_s[o_s<10].index.to_list()\n",
    "print(other_brand)\n",
    "df['Operating System'] = df['Operating System'].apply([lambda x: \"Others\" if x in other_brand else x])"
   ]
  },
  {
   "cell_type": "code",
   "execution_count": 201,
   "id": "d52d14d5",
   "metadata": {},
   "outputs": [
    {
     "data": {
      "text/plain": [
       "Picture Quality\n",
       "Ultra HD (4K), 3840 x 2160      557\n",
       "HD Ready, 1366 x 768            210\n",
       "Full HD, 1920 x 1080             72\n",
       "Ultra HD (4K), 3840 × 2160       52\n",
       "Ultra HD (4K), 3840*2160          7\n",
       "HD Ready, 1366x768                5\n",
       "HD Ready, 1920 x 1080             5\n",
       "Ultra HD (4K), 3840x2160          4\n",
       "Ultra HD (4K), 3840 X 2160        4\n",
       "Ultra HD (4K), 3,840 x 2,160      4\n",
       "Ultra HD (8K), 7680 x 4320        3\n",
       "Full HD, 1080 x 1920              3\n",
       "HD Ready, 1,366 x 768             2\n",
       "Ultra HD (4K), 3840 x 2161        2\n",
       "Full HD, 1366 x 768               2\n",
       "HD Ready, 1366*768                2\n",
       "Full HD, 1920 X 1080              1\n",
       "Full HD, 1280 x 720               1\n",
       "Full HD, 1920X1080                1\n",
       "HD Ready, 720 P                   1\n",
       "HD Ready, 1366X768                1\n",
       "Ultra HD (4K), 3840 * 2160        1\n",
       "Ultra HD (4K), 4K                 1\n",
       "HD Ready, 1280x720$$Pixels        1\n",
       "Full HD, 1920x1081                1\n",
       "Ultra HD (4K), 2160 x 3840        1\n",
       "Full HD, 1920 X 108               1\n",
       "Ultra HD (4K), 4k                 1\n",
       "HD Ready, 1280*1024               1\n",
       "Ultra HD (4K), 3840×2160          1\n",
       "HD Ready, 1366 * 768              1\n",
       "HD Ready, 1366x768$$Pixels        1\n",
       "Ultra HD (4K), ?3840 x 2160       1\n",
       "Full HD, 1080                     1\n",
       "Name: count, dtype: int64"
      ]
     },
     "execution_count": 201,
     "metadata": {},
     "output_type": "execute_result"
    }
   ],
   "source": [
    "df['Picture Quality'].value_counts()"
   ]
  },
  {
   "cell_type": "code",
   "execution_count": 202,
   "id": "940daddb",
   "metadata": {},
   "outputs": [
    {
     "name": "stdout",
     "output_type": "stream",
     "text": [
      "                        0      1\n",
      "0          Full HD, 1920    1080\n",
      "1    Ultra HD (4K), 3840    2160\n",
      "2    Ultra HD (4K), 3840    2160\n",
      "3    Ultra HD (4K), 3840    2160\n",
      "4         HD Ready, 1366     768\n",
      "..                    ...    ...\n",
      "970   Ultra HD (4K), 3840   2160\n",
      "971  Ultra HD (4K), 3840    2160\n",
      "972       HD Ready, 1366     768\n",
      "973       HD Ready, 1366     768\n",
      "974       HD Ready, 1366     768\n",
      "\n",
      "[975 rows x 2 columns]\n"
     ]
    }
   ],
   "source": [
    "df['Picture Quality'] = df['Picture Quality'].str.replace(\"*\",\"x\")\n",
    "new = df['Picture Quality'].str.split('x',n=1,expand=True)\n",
    "print(new)"
   ]
  },
  {
   "cell_type": "code",
   "execution_count": 203,
   "id": "fddbdbf1",
   "metadata": {},
   "outputs": [
    {
     "data": {
      "text/html": [
       "<div>\n",
       "<style scoped>\n",
       "    .dataframe tbody tr th:only-of-type {\n",
       "        vertical-align: middle;\n",
       "    }\n",
       "\n",
       "    .dataframe tbody tr th {\n",
       "        vertical-align: top;\n",
       "    }\n",
       "\n",
       "    .dataframe thead th {\n",
       "        text-align: right;\n",
       "    }\n",
       "</style>\n",
       "<table border=\"1\" class=\"dataframe\">\n",
       "  <thead>\n",
       "    <tr style=\"text-align: right;\">\n",
       "      <th></th>\n",
       "      <th>Brand</th>\n",
       "      <th>Display Size</th>\n",
       "      <th>Operating System</th>\n",
       "      <th>Picture Quality</th>\n",
       "      <th>Smart Tv</th>\n",
       "      <th>Refresh Rate</th>\n",
       "      <th>Screen Type</th>\n",
       "      <th>Connectivity</th>\n",
       "      <th>Price</th>\n",
       "      <th>X_res</th>\n",
       "      <th>Y_res</th>\n",
       "    </tr>\n",
       "  </thead>\n",
       "  <tbody>\n",
       "    <tr>\n",
       "      <th>198</th>\n",
       "      <td>Thomson</td>\n",
       "      <td>108</td>\n",
       "      <td>Google TV</td>\n",
       "      <td>Ultra HD (4K), 3840 × 2160</td>\n",
       "      <td>Yes</td>\n",
       "      <td>60 Hz</td>\n",
       "      <td>QLED</td>\n",
       "      <td>3 (Rear) HDMI | 2 (Rear) USB</td>\n",
       "      <td>20999</td>\n",
       "      <td>Ultra HD (4K), 3840 × 2160</td>\n",
       "      <td>None</td>\n",
       "    </tr>\n",
       "    <tr>\n",
       "      <th>558</th>\n",
       "      <td>SAMSUNG</td>\n",
       "      <td>108</td>\n",
       "      <td>Tizen</td>\n",
       "      <td>Ultra HD (4K), 3840 x 2160</td>\n",
       "      <td>Yes</td>\n",
       "      <td>60 Hz</td>\n",
       "      <td>LED</td>\n",
       "      <td>3 (Rear) HDMI | 1 (Rear) USB</td>\n",
       "      <td>33250</td>\n",
       "      <td>Ultra HD (4K), 3840</td>\n",
       "      <td>2160</td>\n",
       "    </tr>\n",
       "    <tr>\n",
       "      <th>371</th>\n",
       "      <td>SONY</td>\n",
       "      <td>189</td>\n",
       "      <td>Google TV</td>\n",
       "      <td>Ultra HD (4K), 3840 x 2160</td>\n",
       "      <td>Yes</td>\n",
       "      <td>50 Hz</td>\n",
       "      <td>LED</td>\n",
       "      <td>4 (Rear) HDMI | 2 USB</td>\n",
       "      <td>148490</td>\n",
       "      <td>Ultra HD (4K), 3840</td>\n",
       "      <td>2160</td>\n",
       "    </tr>\n",
       "    <tr>\n",
       "      <th>289</th>\n",
       "      <td>KODAK</td>\n",
       "      <td>126</td>\n",
       "      <td>Google TV</td>\n",
       "      <td>Ultra HD (4K), 3840 x 2160</td>\n",
       "      <td>Yes</td>\n",
       "      <td>60 Hz</td>\n",
       "      <td>LED</td>\n",
       "      <td>3 HDMI | 2 USB</td>\n",
       "      <td>24699</td>\n",
       "      <td>Ultra HD (4K), 3840</td>\n",
       "      <td>2160</td>\n",
       "    </tr>\n",
       "    <tr>\n",
       "      <th>184</th>\n",
       "      <td>Dyanora</td>\n",
       "      <td>60</td>\n",
       "      <td>NaN</td>\n",
       "      <td>HD Ready, 1366 x 768</td>\n",
       "      <td>No</td>\n",
       "      <td>60 Hz</td>\n",
       "      <td>LED</td>\n",
       "      <td>1 Rear HDMI | 1 USB</td>\n",
       "      <td>5799</td>\n",
       "      <td>HD Ready, 1366</td>\n",
       "      <td>768</td>\n",
       "    </tr>\n",
       "  </tbody>\n",
       "</table>\n",
       "</div>"
      ],
      "text/plain": [
       "       Brand Display Size Operating System             Picture Quality  \\\n",
       "198  Thomson          108        Google TV  Ultra HD (4K), 3840 × 2160   \n",
       "558  SAMSUNG          108            Tizen  Ultra HD (4K), 3840 x 2160   \n",
       "371     SONY          189        Google TV  Ultra HD (4K), 3840 x 2160   \n",
       "289    KODAK          126        Google TV  Ultra HD (4K), 3840 x 2160   \n",
       "184  Dyanora           60              NaN        HD Ready, 1366 x 768   \n",
       "\n",
       "    Smart Tv Refresh Rate Screen Type                  Connectivity   Price  \\\n",
       "198      Yes        60 Hz        QLED  3 (Rear) HDMI | 2 (Rear) USB   20999   \n",
       "558      Yes        60 Hz         LED  3 (Rear) HDMI | 1 (Rear) USB   33250   \n",
       "371      Yes        50 Hz         LED         4 (Rear) HDMI | 2 USB  148490   \n",
       "289      Yes        60 Hz         LED                3 HDMI | 2 USB   24699   \n",
       "184       No        60 Hz         LED           1 Rear HDMI | 1 USB    5799   \n",
       "\n",
       "                          X_res  Y_res  \n",
       "198  Ultra HD (4K), 3840 × 2160   None  \n",
       "558        Ultra HD (4K), 3840    2160  \n",
       "371        Ultra HD (4K), 3840    2160  \n",
       "289        Ultra HD (4K), 3840    2160  \n",
       "184             HD Ready, 1366     768  "
      ]
     },
     "execution_count": 203,
     "metadata": {},
     "output_type": "execute_result"
    }
   ],
   "source": [
    "df['X_res'] = new[0]\n",
    "df['Y_res'] = new[1]\n",
    "df.sample(5)"
   ]
  },
  {
   "cell_type": "code",
   "execution_count": 204,
   "id": "6e899128",
   "metadata": {},
   "outputs": [],
   "source": [
    "df['X_res'] = df['X_res'].str.replace(',','').str.findall(r'(\\d+\\.?\\d+)')"
   ]
  },
  {
   "cell_type": "code",
   "execution_count": 205,
   "id": "2b71c658",
   "metadata": {},
   "outputs": [],
   "source": [
    "df['X_res'] = df['X_res'].apply(lambda x: x[0] if isinstance(x, list) and len(x) > 0 else np.nan)"
   ]
  },
  {
   "cell_type": "code",
   "execution_count": 206,
   "id": "f5d178ff",
   "metadata": {},
   "outputs": [],
   "source": [
    "df['Y_res'] = df['Y_res'].str.replace(',','').str.findall(r'(\\d+\\.?\\d+)')\n",
    "df['Y_res'] = df['Y_res'].apply(lambda x: x[0] if isinstance(x, list) and len(x) > 0 else np.nan)\n",
    "df['Y_res'] = df['Y_res'].astype('float')\n",
    "df['X_res'] = df['X_res'].astype('float')\n",
    "df['Y_res'].fillna(df['Y_res'].mean(),inplace=True)\n",
    "df['X_res'].fillna(df['X_res'].mean(),inplace=True)"
   ]
  },
  {
   "cell_type": "code",
   "execution_count": 207,
   "id": "edfc0407",
   "metadata": {},
   "outputs": [],
   "source": [
    "df['Display Size'] = df['Display Size'].astype('float')\n",
    "df['ppcm'] = (((df['X_res']**2) + (df['Y_res']**2))**0.5/df['Display Size']).astype('float')"
   ]
  },
  {
   "cell_type": "code",
   "execution_count": 208,
   "id": "b6a5a7a0",
   "metadata": {},
   "outputs": [
    {
     "data": {
      "text/html": [
       "<div>\n",
       "<style scoped>\n",
       "    .dataframe tbody tr th:only-of-type {\n",
       "        vertical-align: middle;\n",
       "    }\n",
       "\n",
       "    .dataframe tbody tr th {\n",
       "        vertical-align: top;\n",
       "    }\n",
       "\n",
       "    .dataframe thead th {\n",
       "        text-align: right;\n",
       "    }\n",
       "</style>\n",
       "<table border=\"1\" class=\"dataframe\">\n",
       "  <thead>\n",
       "    <tr style=\"text-align: right;\">\n",
       "      <th></th>\n",
       "      <th>Display Size</th>\n",
       "      <th>Price</th>\n",
       "      <th>X_res</th>\n",
       "      <th>Y_res</th>\n",
       "      <th>ppcm</th>\n",
       "    </tr>\n",
       "  </thead>\n",
       "  <tbody>\n",
       "    <tr>\n",
       "      <th>Display Size</th>\n",
       "      <td>1.000000</td>\n",
       "      <td>0.590202</td>\n",
       "      <td>0.722106</td>\n",
       "      <td>0.730597</td>\n",
       "      <td>-0.364374</td>\n",
       "    </tr>\n",
       "    <tr>\n",
       "      <th>Price</th>\n",
       "      <td>0.590202</td>\n",
       "      <td>1.000000</td>\n",
       "      <td>0.467851</td>\n",
       "      <td>0.474966</td>\n",
       "      <td>-0.041193</td>\n",
       "    </tr>\n",
       "    <tr>\n",
       "      <th>X_res</th>\n",
       "      <td>0.722106</td>\n",
       "      <td>0.467851</td>\n",
       "      <td>1.000000</td>\n",
       "      <td>0.963242</td>\n",
       "      <td>0.159711</td>\n",
       "    </tr>\n",
       "    <tr>\n",
       "      <th>Y_res</th>\n",
       "      <td>0.730597</td>\n",
       "      <td>0.474966</td>\n",
       "      <td>0.963242</td>\n",
       "      <td>1.000000</td>\n",
       "      <td>0.150733</td>\n",
       "    </tr>\n",
       "    <tr>\n",
       "      <th>ppcm</th>\n",
       "      <td>-0.364374</td>\n",
       "      <td>-0.041193</td>\n",
       "      <td>0.159711</td>\n",
       "      <td>0.150733</td>\n",
       "      <td>1.000000</td>\n",
       "    </tr>\n",
       "  </tbody>\n",
       "</table>\n",
       "</div>"
      ],
      "text/plain": [
       "              Display Size     Price     X_res     Y_res      ppcm\n",
       "Display Size      1.000000  0.590202  0.722106  0.730597 -0.364374\n",
       "Price             0.590202  1.000000  0.467851  0.474966 -0.041193\n",
       "X_res             0.722106  0.467851  1.000000  0.963242  0.159711\n",
       "Y_res             0.730597  0.474966  0.963242  1.000000  0.150733\n",
       "ppcm             -0.364374 -0.041193  0.159711  0.150733  1.000000"
      ]
     },
     "execution_count": 208,
     "metadata": {},
     "output_type": "execute_result"
    }
   ],
   "source": [
    "df.corr(numeric_only=True)"
   ]
  },
  {
   "cell_type": "code",
   "execution_count": 209,
   "id": "14ba65cf",
   "metadata": {},
   "outputs": [],
   "source": [
    "df.drop(columns=\"ppcm\",inplace=True)"
   ]
  },
  {
   "cell_type": "code",
   "execution_count": 210,
   "id": "f864790d",
   "metadata": {},
   "outputs": [],
   "source": [
    "df['Smart Tv'] = df['Smart Tv'].fillna(df['Smart Tv'].mode())\n",
    "df['Smart Tv'] = df['Smart Tv'].str.replace(\"Yes\", \"1\").str.replace(\"No\", \"0\").astype(\"float\")\n"
   ]
  },
  {
   "cell_type": "code",
   "execution_count": 211,
   "id": "195d6433",
   "metadata": {},
   "outputs": [
    {
     "data": {
      "text/plain": [
       "0      60.0\n",
       "1      60.0\n",
       "2      60.0\n",
       "3      50.0\n",
       "4      60.0\n",
       "       ... \n",
       "970    60.0\n",
       "971    60.0\n",
       "972    60.0\n",
       "973    60.0\n",
       "974    60.0\n",
       "Name: Refresh Rate, Length: 975, dtype: float64"
      ]
     },
     "execution_count": 211,
     "metadata": {},
     "output_type": "execute_result"
    }
   ],
   "source": [
    "df['Refresh Rate'] = df['Refresh Rate'].str.replace(\"Hz\",'').str.replace(\"W\",'').str.replace(\"HZ\",'').astype('float')\n",
    "df['Refresh Rate'].fillna(df['Refresh Rate'].mode())"
   ]
  },
  {
   "cell_type": "code",
   "execution_count": 212,
   "id": "03e1d5d1",
   "metadata": {},
   "outputs": [
    {
     "data": {
      "text/plain": [
       "Screen Type\n",
       "LED     608\n",
       "QLED    303\n",
       "OLED     38\n",
       "QNED      2\n",
       "LCD       1\n",
       "Name: count, dtype: int64"
      ]
     },
     "execution_count": 212,
     "metadata": {},
     "output_type": "execute_result"
    }
   ],
   "source": [
    "df['Screen Type'].value_counts()"
   ]
  },
  {
   "cell_type": "code",
   "execution_count": 213,
   "id": "3d2f0614",
   "metadata": {},
   "outputs": [],
   "source": [
    "df = df[~df['Screen Type'].isin(['QNED', 'LCD'])]"
   ]
  },
  {
   "cell_type": "code",
   "execution_count": 214,
   "id": "53b5fc99",
   "metadata": {},
   "outputs": [
    {
     "data": {
      "text/plain": [
       "Screen Type\n",
       "LED     608\n",
       "QLED    303\n",
       "OLED     38\n",
       "Name: count, dtype: int64"
      ]
     },
     "execution_count": 214,
     "metadata": {},
     "output_type": "execute_result"
    }
   ],
   "source": [
    "df['Screen Type'].value_counts()"
   ]
  },
  {
   "cell_type": "code",
   "execution_count": 215,
   "id": "b185dded",
   "metadata": {},
   "outputs": [
    {
     "data": {
      "text/plain": [
       "Connectivity\n",
       "3 HDMI | 2 USB                                                                                             266\n",
       "3 Rear HDMI | 2 USB                                                                                        145\n",
       "3 (Rear) HDMI | 2 (Rear) USB                                                                                93\n",
       "2 HDMI | 2 USB                                                                                              67\n",
       "2 Rear HDMI | 2 USB                                                                                         58\n",
       "4 HDMI | 2 USB                                                                                              58\n",
       "2 HDMI | 1 USB                                                                                              55\n",
       "1 Rear HDMI | 2 USB                                                                                         43\n",
       "3 HDMI | 1 USB                                                                                              29\n",
       "4 HDMI | 3 USB                                                                                              27\n",
       "1 Rear HDMI | 1 USB                                                                                         27\n",
       "2 (Rear) HDMI | 2 USB                                                                                       21\n",
       "2 (Rear) HDMI | 2 (Rear) USB                                                                                10\n",
       "4 (Rear) HDMI | 2 USB                                                                                       10\n",
       "3 (Rear) HDMI | 2 USB                                                                                        5\n",
       "3 HDMI (1 HDMI eARC Supported) HDMI | Dual USB (2.0+3.0) USB                                                 5\n",
       "3 Rear HDMI | 2 Rear USB                                                                                     4\n",
       "2 HDMI (1 HDMI eARC Supported) HDMI | Dual USB (2.0+3.0) USB                                                 3\n",
       "3 HDMI | 3 USB                                                                                               3\n",
       "1 HDMI | 2 USB                                                                                               3\n",
       "3 (Rear) HDMI | 1 (Rear) USB                                                                                 3\n",
       "4 Rear HDMI | 2 USB                                                                                          3\n",
       "3 (Rear) HDMI | 1 USB                                                                                        3\n",
       "3 side HDMI | 2 USB                                                                                          2\n",
       "2 (Rear) HDMI | 1 (Rear) USB                                                                                 2\n",
       "2 Rear HDMI | 2 Rear USB                                                                                     2\n",
       "1 (Rear) HDMI | 2 USB                                                                                        2\n",
       "4 (Rear) HDMI | 2 (Rear) USB                                                                                 2\n",
       "4 Rear HDMI | 3 Rear USB                                                                                     2\n",
       "3 (Rear) HDMI | 3 (Rear) USB                                                                                 2\n",
       "1 HDMI | 1 USB                                                                                               2\n",
       "2 HDMI ports to connect set top box HDMI | 2 USB ports to connect hard drives and other USB devices USB      1\n",
       "Back side HDMI | Back side USB                                                                               1\n",
       "2 HDMI | 3 USB                                                                                               1\n",
       "BACK SIDE HDMI | BACK SIDE USB                                                                               1\n",
       "3 HDMI | 1 Rear USB                                                                                          1\n",
       "4 (Bottom) HDMI | 3 USB                                                                                      1\n",
       "Rear HDMI | Rear USB                                                                                         1\n",
       "2(rear) HDMI | 2 (Rear) USB                                                                                  1\n",
       "3 Rear HDMI | 2 (Rear) USB                                                                                   1\n",
       "side HDMI | side USB                                                                                         1\n",
       "2 HDMI | 1 left Rear USB                                                                                     1\n",
       "2 Back HDMI | 2 Back USB                                                                                     1\n",
       "3 HDMI | 2 USB Ports, USB 2.0 USB                                                                            1\n",
       "3 HDMI | 2 (Rear) USB                                                                                        1\n",
       "1 HDMI | Back Panel USB                                                                                      1\n",
       "Name: count, dtype: int64"
      ]
     },
     "execution_count": 215,
     "metadata": {},
     "output_type": "execute_result"
    }
   ],
   "source": [
    "df['Connectivity'].value_counts()"
   ]
  },
  {
   "cell_type": "code",
   "execution_count": 216,
   "id": "d784a55c",
   "metadata": {},
   "outputs": [
    {
     "data": {
      "text/html": [
       "<div>\n",
       "<style scoped>\n",
       "    .dataframe tbody tr th:only-of-type {\n",
       "        vertical-align: middle;\n",
       "    }\n",
       "\n",
       "    .dataframe tbody tr th {\n",
       "        vertical-align: top;\n",
       "    }\n",
       "\n",
       "    .dataframe thead th {\n",
       "        text-align: right;\n",
       "    }\n",
       "</style>\n",
       "<table border=\"1\" class=\"dataframe\">\n",
       "  <thead>\n",
       "    <tr style=\"text-align: right;\">\n",
       "      <th></th>\n",
       "      <th>0</th>\n",
       "      <th>1</th>\n",
       "    </tr>\n",
       "  </thead>\n",
       "  <tbody>\n",
       "    <tr>\n",
       "      <th>0</th>\n",
       "      <td>2 HDMI</td>\n",
       "      <td>2 USB</td>\n",
       "    </tr>\n",
       "    <tr>\n",
       "      <th>1</th>\n",
       "      <td>3 HDMI</td>\n",
       "      <td>2 USB</td>\n",
       "    </tr>\n",
       "    <tr>\n",
       "      <th>2</th>\n",
       "      <td>3 HDMI</td>\n",
       "      <td>2 USB</td>\n",
       "    </tr>\n",
       "    <tr>\n",
       "      <th>3</th>\n",
       "      <td>3 (Rear) HDMI</td>\n",
       "      <td>1 (Rear) USB</td>\n",
       "    </tr>\n",
       "    <tr>\n",
       "      <th>4</th>\n",
       "      <td>3 HDMI</td>\n",
       "      <td>2 USB</td>\n",
       "    </tr>\n",
       "    <tr>\n",
       "      <th>...</th>\n",
       "      <td>...</td>\n",
       "      <td>...</td>\n",
       "    </tr>\n",
       "    <tr>\n",
       "      <th>970</th>\n",
       "      <td>3 HDMI</td>\n",
       "      <td>2 USB</td>\n",
       "    </tr>\n",
       "    <tr>\n",
       "      <th>971</th>\n",
       "      <td>3 HDMI</td>\n",
       "      <td>2 USB</td>\n",
       "    </tr>\n",
       "    <tr>\n",
       "      <th>972</th>\n",
       "      <td>2 (Rear) HDMI</td>\n",
       "      <td>2 (Rear) USB</td>\n",
       "    </tr>\n",
       "    <tr>\n",
       "      <th>973</th>\n",
       "      <td>2 HDMI</td>\n",
       "      <td>2 USB</td>\n",
       "    </tr>\n",
       "    <tr>\n",
       "      <th>974</th>\n",
       "      <td>2 Rear HDMI</td>\n",
       "      <td>2 USB</td>\n",
       "    </tr>\n",
       "  </tbody>\n",
       "</table>\n",
       "<p>972 rows × 2 columns</p>\n",
       "</div>"
      ],
      "text/plain": [
       "                  0              1\n",
       "0           2 HDMI           2 USB\n",
       "1           3 HDMI           2 USB\n",
       "2           3 HDMI           2 USB\n",
       "3    3 (Rear) HDMI    1 (Rear) USB\n",
       "4           3 HDMI           2 USB\n",
       "..              ...            ...\n",
       "970         3 HDMI           2 USB\n",
       "971         3 HDMI           2 USB\n",
       "972  2 (Rear) HDMI    2 (Rear) USB\n",
       "973         2 HDMI           2 USB\n",
       "974    2 Rear HDMI           2 USB\n",
       "\n",
       "[972 rows x 2 columns]"
      ]
     },
     "execution_count": 216,
     "metadata": {},
     "output_type": "execute_result"
    }
   ],
   "source": [
    "df['Connectivity'].str.replace(\"Dual\",\"2\")\n",
    "new_conn = df['Connectivity'].str.split(\"|\",n=1,expand=True)\n",
    "new_conn"
   ]
  },
  {
   "cell_type": "code",
   "execution_count": 217,
   "id": "393347e7",
   "metadata": {},
   "outputs": [],
   "source": [
    "df['HDMI'] = new_conn[0]\n",
    "df['USB'] = new_conn[1]"
   ]
  },
  {
   "cell_type": "code",
   "execution_count": 218,
   "id": "b5792184",
   "metadata": {},
   "outputs": [],
   "source": [
    "df['HDMI'] = df['HDMI'].str.findall(r'(\\d)')\n",
    "df['HDMI'] = df['HDMI'].apply(lambda x: x[0] if isinstance(x, list) and len(x) > 0 else \"1\").astype(\"int\")\n",
    "df['USB'] = df['USB'].str.findall(r'(\\d)')\n",
    "df['USB'] = df['USB'].apply(lambda x: x[0] if isinstance(x, list) and len(x) > 0 else \"1\").astype(\"int\")"
   ]
  },
  {
   "cell_type": "code",
   "execution_count": 219,
   "id": "bb757a56",
   "metadata": {},
   "outputs": [],
   "source": [
    "df.drop(columns=\"Connectivity\",inplace=True)\n",
    "df.drop(columns=\"Picture Quality\",inplace=True)"
   ]
  },
  {
   "cell_type": "code",
   "execution_count": 220,
   "id": "6b09d8c4",
   "metadata": {},
   "outputs": [
    {
     "name": "stdout",
     "output_type": "stream",
     "text": [
      "<class 'pandas.core.frame.DataFrame'>\n",
      "Index: 972 entries, 0 to 974\n",
      "Data columns (total 11 columns):\n",
      " #   Column            Non-Null Count  Dtype  \n",
      "---  ------            --------------  -----  \n",
      " 0   Brand             972 non-null    object \n",
      " 1   Display Size      972 non-null    float64\n",
      " 2   Operating System  812 non-null    object \n",
      " 3   Smart Tv          949 non-null    float64\n",
      " 4   Refresh Rate      944 non-null    float64\n",
      " 5   Screen Type       949 non-null    object \n",
      " 6   Price             972 non-null    int32  \n",
      " 7   X_res             972 non-null    float64\n",
      " 8   Y_res             972 non-null    float64\n",
      " 9   HDMI              972 non-null    int32  \n",
      " 10  USB               972 non-null    int32  \n",
      "dtypes: float64(5), int32(3), object(3)\n",
      "memory usage: 79.7+ KB\n"
     ]
    }
   ],
   "source": [
    "df.info()"
   ]
  },
  {
   "cell_type": "code",
   "execution_count": 221,
   "id": "d5e538a3",
   "metadata": {},
   "outputs": [
    {
     "data": {
      "text/plain": [
       "447"
      ]
     },
     "execution_count": 221,
     "metadata": {},
     "output_type": "execute_result"
    }
   ],
   "source": [
    "df.duplicated().sum()"
   ]
  },
  {
   "cell_type": "code",
   "execution_count": 222,
   "id": "26100c48",
   "metadata": {},
   "outputs": [],
   "source": [
    "df.drop_duplicates(inplace=True)"
   ]
  },
  {
   "cell_type": "code",
   "execution_count": 223,
   "id": "2d8f1ef0",
   "metadata": {},
   "outputs": [],
   "source": [
    "df['Operating System'].fillna(df['Operating System'].mode().iloc[0],inplace=True)\n",
    "df['Smart Tv'].fillna(df['Smart Tv'].mode().iloc[0],inplace=True)\n",
    "df['Refresh Rate'].fillna(df['Refresh Rate'].mode().iloc[0],inplace=True)\n",
    "df['Screen Type'].fillna(df['Screen Type'].mode().iloc[0],inplace=True)"
   ]
  },
  {
   "cell_type": "code",
   "execution_count": 224,
   "id": "94b71ba6",
   "metadata": {},
   "outputs": [
    {
     "name": "stdout",
     "output_type": "stream",
     "text": [
      "<class 'pandas.core.frame.DataFrame'>\n",
      "Index: 525 entries, 0 to 971\n",
      "Data columns (total 11 columns):\n",
      " #   Column            Non-Null Count  Dtype  \n",
      "---  ------            --------------  -----  \n",
      " 0   Brand             525 non-null    object \n",
      " 1   Display Size      525 non-null    float64\n",
      " 2   Operating System  525 non-null    object \n",
      " 3   Smart Tv          525 non-null    float64\n",
      " 4   Refresh Rate      525 non-null    float64\n",
      " 5   Screen Type       525 non-null    object \n",
      " 6   Price             525 non-null    int32  \n",
      " 7   X_res             525 non-null    float64\n",
      " 8   Y_res             525 non-null    float64\n",
      " 9   HDMI              525 non-null    int32  \n",
      " 10  USB               525 non-null    int32  \n",
      "dtypes: float64(5), int32(3), object(3)\n",
      "memory usage: 43.1+ KB\n"
     ]
    }
   ],
   "source": [
    "df.info()"
   ]
  },
  {
   "cell_type": "code",
   "execution_count": 159,
   "id": "9a066184",
   "metadata": {},
   "outputs": [],
   "source": [
    "df.dropna(inplace=True)"
   ]
  },
  {
   "cell_type": "code",
   "execution_count": 225,
   "id": "ae36e726",
   "metadata": {},
   "outputs": [
    {
     "name": "stdout",
     "output_type": "stream",
     "text": [
      "<class 'pandas.core.frame.DataFrame'>\n",
      "Index: 525 entries, 0 to 971\n",
      "Data columns (total 11 columns):\n",
      " #   Column            Non-Null Count  Dtype  \n",
      "---  ------            --------------  -----  \n",
      " 0   Brand             525 non-null    object \n",
      " 1   Display Size      525 non-null    float64\n",
      " 2   Operating System  525 non-null    object \n",
      " 3   Smart Tv          525 non-null    float64\n",
      " 4   Refresh Rate      525 non-null    float64\n",
      " 5   Screen Type       525 non-null    object \n",
      " 6   Price             525 non-null    int32  \n",
      " 7   X_res             525 non-null    float64\n",
      " 8   Y_res             525 non-null    float64\n",
      " 9   HDMI              525 non-null    int32  \n",
      " 10  USB               525 non-null    int32  \n",
      "dtypes: float64(5), int32(3), object(3)\n",
      "memory usage: 43.1+ KB\n"
     ]
    }
   ],
   "source": [
    "df.info()"
   ]
  },
  {
   "cell_type": "code",
   "execution_count": 226,
   "id": "4d70eda7",
   "metadata": {},
   "outputs": [
    {
     "data": {
      "text/plain": [
       "<Axes: >"
      ]
     },
     "execution_count": 226,
     "metadata": {},
     "output_type": "execute_result"
    },
    {
     "data": {
      "image/png": "[encoded data removed]",
      "text/plain": [
       "<Figure size 640x480 with 2 Axes>"
      ]
     },
     "metadata": {},
     "output_type": "display_data"
    }
   ],
   "source": [
    "sns.heatmap(df.corr(numeric_only=True))"
   ]
  },
  {
   "cell_type": "code",
   "execution_count": 227,
   "id": "23cca86c",
   "metadata": {},
   "outputs": [
    {
     "data": {
      "text/plain": [
       "<Axes: xlabel='Price', ylabel='Density'>"
      ]
     },
     "execution_count": 227,
     "metadata": {},
     "output_type": "execute_result"
    },
    {
     "data": {
      "image/png": "[encoded data removed]",
      "text/plain": [
       "<Figure size 640x480 with 1 Axes>"
      ]
     },
     "metadata": {},
     "output_type": "display_data"
    }
   ],
   "source": [
    "sns.distplot(df.Price)"
   ]
  },
  {
   "cell_type": "code",
   "execution_count": 228,
   "id": "0cefa2b4",
   "metadata": {},
   "outputs": [
    {
     "data": {
      "text/plain": [
       "<Axes: xlabel='Operating System'>"
      ]
     },
     "execution_count": 228,
     "metadata": {},
     "output_type": "execute_result"
    },
    {
     "data": {
      "image/png": "[encoded data removed]",
      "text/plain": [
       "<Figure size 640x480 with 1 Axes>"
      ]
     },
     "metadata": {},
     "output_type": "display_data"
    }
   ],
   "source": [
    "df['Operating System'].value_counts().plot(kind = 'bar')"
   ]
  },
  {
   "cell_type": "code",
   "execution_count": 229,
   "id": "d9231e93",
   "metadata": {},
   "outputs": [
    {
     "data": {
      "text/plain": [
       "<Axes: xlabel='Brand'>"
      ]
     },
     "execution_count": 229,
     "metadata": {},
     "output_type": "execute_result"
    },
    {
     "data": {
      "image/png": "[encoded data removed]",
      "text/plain": [
       "<Figure size 640x480 with 1 Axes>"
      ]
     },
     "metadata": {},
     "output_type": "display_data"
    }
   ],
   "source": [
    "df['Brand'].value_counts().plot(kind = 'bar')"
   ]
  },
  {
   "cell_type": "code",
   "execution_count": 230,
   "id": "b11a05a6",
   "metadata": {},
   "outputs": [
    {
     "data": {
      "image/png": "[encoded data removed]",
      "text/plain": [
       "<Figure size 640x480 with 1 Axes>"
      ]
     },
     "metadata": {},
     "output_type": "display_data"
    }
   ],
   "source": [
    "sns.barplot(x=df.Brand,y=df.Price)\n",
    "plt.xticks(rotation = 'vertical')\n",
    "plt.show()"
   ]
  },
  {
   "cell_type": "code",
   "execution_count": 231,
   "id": "39511247",
   "metadata": {},
   "outputs": [],
   "source": [
    "from sklearn.pipeline import Pipeline\n",
    "from sklearn.model_selection import train_test_split"
   ]
  },
  {
   "cell_type": "code",
   "execution_count": 232,
   "id": "7a773766",
   "metadata": {},
   "outputs": [
    {
     "data": {
      "text/plain": [
       "<Axes: xlabel='Price', ylabel='Density'>"
      ]
     },
     "execution_count": 232,
     "metadata": {},
     "output_type": "execute_result"
    },
    {
     "data": {
      "image/png": "[encoded data removed]",
      "text/plain": [
       "<Figure size 640x480 with 1 Axes>"
      ]
     },
     "metadata": {},
     "output_type": "display_data"
    }
   ],
   "source": [
    "X= df.drop(columns=\"Price\")\n",
    "Y = np.log(df['Price'])\n",
    "sns.distplot(Y)"
   ]
  },
  {
   "cell_type": "code",
   "execution_count": 233,
   "id": "81987727",
   "metadata": {},
   "outputs": [],
   "source": [
    "X_train,X_test,Y_train,Y_test = train_test_split(X,Y,test_size=0.2)"
   ]
  },
  {
   "cell_type": "code",
   "execution_count": 234,
   "id": "a8e54de5",
   "metadata": {},
   "outputs": [
    {
     "data": {
      "text/html": [
       "<div>\n",
       "<style scoped>\n",
       "    .dataframe tbody tr th:only-of-type {\n",
       "        vertical-align: middle;\n",
       "    }\n",
       "\n",
       "    .dataframe tbody tr th {\n",
       "        vertical-align: top;\n",
       "    }\n",
       "\n",
       "    .dataframe thead th {\n",
       "        text-align: right;\n",
       "    }\n",
       "</style>\n",
       "<table border=\"1\" class=\"dataframe\">\n",
       "  <thead>\n",
       "    <tr style=\"text-align: right;\">\n",
       "      <th></th>\n",
       "      <th>Brand</th>\n",
       "      <th>Display Size</th>\n",
       "      <th>Operating System</th>\n",
       "      <th>Smart Tv</th>\n",
       "      <th>Refresh Rate</th>\n",
       "      <th>Screen Type</th>\n",
       "      <th>X_res</th>\n",
       "      <th>Y_res</th>\n",
       "      <th>HDMI</th>\n",
       "      <th>USB</th>\n",
       "    </tr>\n",
       "  </thead>\n",
       "  <tbody>\n",
       "    <tr>\n",
       "      <th>809</th>\n",
       "      <td>Others</td>\n",
       "      <td>109.0</td>\n",
       "      <td>WebOS</td>\n",
       "      <td>1.0</td>\n",
       "      <td>60.0</td>\n",
       "      <td>LED</td>\n",
       "      <td>3080.32</td>\n",
       "      <td>1718.930101</td>\n",
       "      <td>3</td>\n",
       "      <td>2</td>\n",
       "    </tr>\n",
       "    <tr>\n",
       "      <th>40</th>\n",
       "      <td>Thomson</td>\n",
       "      <td>126.0</td>\n",
       "      <td>Google TV</td>\n",
       "      <td>1.0</td>\n",
       "      <td>60.0</td>\n",
       "      <td>QLED</td>\n",
       "      <td>3840.00</td>\n",
       "      <td>2160.000000</td>\n",
       "      <td>3</td>\n",
       "      <td>2</td>\n",
       "    </tr>\n",
       "    <tr>\n",
       "      <th>951</th>\n",
       "      <td>TCL</td>\n",
       "      <td>215.0</td>\n",
       "      <td>Google TV</td>\n",
       "      <td>1.0</td>\n",
       "      <td>60.0</td>\n",
       "      <td>LED</td>\n",
       "      <td>3840.00</td>\n",
       "      <td>1718.930101</td>\n",
       "      <td>3</td>\n",
       "      <td>2</td>\n",
       "    </tr>\n",
       "    <tr>\n",
       "      <th>864</th>\n",
       "      <td>Panasonic</td>\n",
       "      <td>100.0</td>\n",
       "      <td>Android</td>\n",
       "      <td>1.0</td>\n",
       "      <td>60.0</td>\n",
       "      <td>LED</td>\n",
       "      <td>1920.00</td>\n",
       "      <td>1080.000000</td>\n",
       "      <td>2</td>\n",
       "      <td>2</td>\n",
       "    </tr>\n",
       "    <tr>\n",
       "      <th>573</th>\n",
       "      <td>LG</td>\n",
       "      <td>139.0</td>\n",
       "      <td>WebOS</td>\n",
       "      <td>1.0</td>\n",
       "      <td>50.0</td>\n",
       "      <td>LED</td>\n",
       "      <td>3840.00</td>\n",
       "      <td>2160.000000</td>\n",
       "      <td>4</td>\n",
       "      <td>3</td>\n",
       "    </tr>\n",
       "    <tr>\n",
       "      <th>...</th>\n",
       "      <td>...</td>\n",
       "      <td>...</td>\n",
       "      <td>...</td>\n",
       "      <td>...</td>\n",
       "      <td>...</td>\n",
       "      <td>...</td>\n",
       "      <td>...</td>\n",
       "      <td>...</td>\n",
       "      <td>...</td>\n",
       "      <td>...</td>\n",
       "    </tr>\n",
       "    <tr>\n",
       "      <th>38</th>\n",
       "      <td>TCL</td>\n",
       "      <td>126.0</td>\n",
       "      <td>Google TV</td>\n",
       "      <td>1.0</td>\n",
       "      <td>60.0</td>\n",
       "      <td>QLED</td>\n",
       "      <td>3840.00</td>\n",
       "      <td>2160.000000</td>\n",
       "      <td>3</td>\n",
       "      <td>1</td>\n",
       "    </tr>\n",
       "    <tr>\n",
       "      <th>24</th>\n",
       "      <td>Thomson</td>\n",
       "      <td>108.0</td>\n",
       "      <td>Google TV</td>\n",
       "      <td>1.0</td>\n",
       "      <td>60.0</td>\n",
       "      <td>QLED</td>\n",
       "      <td>3840.00</td>\n",
       "      <td>1718.930101</td>\n",
       "      <td>3</td>\n",
       "      <td>2</td>\n",
       "    </tr>\n",
       "    <tr>\n",
       "      <th>41</th>\n",
       "      <td>Blaupunkt</td>\n",
       "      <td>189.0</td>\n",
       "      <td>Google TV</td>\n",
       "      <td>1.0</td>\n",
       "      <td>60.0</td>\n",
       "      <td>QLED</td>\n",
       "      <td>3840.00</td>\n",
       "      <td>2160.000000</td>\n",
       "      <td>3</td>\n",
       "      <td>2</td>\n",
       "    </tr>\n",
       "    <tr>\n",
       "      <th>73</th>\n",
       "      <td>Others</td>\n",
       "      <td>108.0</td>\n",
       "      <td>Android</td>\n",
       "      <td>1.0</td>\n",
       "      <td>60.0</td>\n",
       "      <td>LED</td>\n",
       "      <td>1920.00</td>\n",
       "      <td>1080.000000</td>\n",
       "      <td>3</td>\n",
       "      <td>2</td>\n",
       "    </tr>\n",
       "    <tr>\n",
       "      <th>383</th>\n",
       "      <td>SONY</td>\n",
       "      <td>138.8</td>\n",
       "      <td>Google TV</td>\n",
       "      <td>1.0</td>\n",
       "      <td>50.0</td>\n",
       "      <td>LED</td>\n",
       "      <td>3840.00</td>\n",
       "      <td>2160.000000</td>\n",
       "      <td>4</td>\n",
       "      <td>2</td>\n",
       "    </tr>\n",
       "  </tbody>\n",
       "</table>\n",
       "<p>420 rows × 10 columns</p>\n",
       "</div>"
      ],
      "text/plain": [
       "         Brand  Display Size Operating System  Smart Tv  Refresh Rate  \\\n",
       "809     Others         109.0            WebOS       1.0          60.0   \n",
       "40     Thomson         126.0        Google TV       1.0          60.0   \n",
       "951        TCL         215.0        Google TV       1.0          60.0   \n",
       "864  Panasonic         100.0          Android       1.0          60.0   \n",
       "573         LG         139.0            WebOS       1.0          50.0   \n",
       "..         ...           ...              ...       ...           ...   \n",
       "38         TCL         126.0        Google TV       1.0          60.0   \n",
       "24     Thomson         108.0        Google TV       1.0          60.0   \n",
       "41   Blaupunkt         189.0        Google TV       1.0          60.0   \n",
       "73      Others         108.0          Android       1.0          60.0   \n",
       "383       SONY         138.8        Google TV       1.0          50.0   \n",
       "\n",
       "    Screen Type    X_res        Y_res  HDMI  USB  \n",
       "809         LED  3080.32  1718.930101     3    2  \n",
       "40         QLED  3840.00  2160.000000     3    2  \n",
       "951         LED  3840.00  1718.930101     3    2  \n",
       "864         LED  1920.00  1080.000000     2    2  \n",
       "573         LED  3840.00  2160.000000     4    3  \n",
       "..          ...      ...          ...   ...  ...  \n",
       "38         QLED  3840.00  2160.000000     3    1  \n",
       "24         QLED  3840.00  1718.930101     3    2  \n",
       "41         QLED  3840.00  2160.000000     3    2  \n",
       "73          LED  1920.00  1080.000000     3    2  \n",
       "383         LED  3840.00  2160.000000     4    2  \n",
       "\n",
       "[420 rows x 10 columns]"
      ]
     },
     "execution_count": 234,
     "metadata": {},
     "output_type": "execute_result"
    }
   ],
   "source": [
    "X_train"
   ]
  },
  {
   "cell_type": "code",
   "execution_count": 236,
   "id": "768c205a",
   "metadata": {},
   "outputs": [
    {
     "name": "stdout",
     "output_type": "stream",
     "text": [
      "R2 score 0.8818102874901573\n",
      "MAE 0.19525721367494364\n"
     ]
    }
   ],
   "source": [
    "step_1 = ColumnTransformer(transformers=[\n",
    "    ('col_tnf', OneHotEncoder(sparse_output=False, drop='first'),[0,2,5])\n",
    "],remainder='passthrough')\n",
    "step_2  = LinearRegression()\n",
    "pipe = Pipeline([('step1',step_1),\n",
    "                ('step2',step_2)])\n",
    "pipe.fit(X_train,Y_train)\n",
    "y_pred = pipe.predict(X_test)\n",
    "\n",
    "print('R2 score',r2_score(Y_test,y_pred))\n",
    "print('MAE',mean_absolute_error(Y_test,y_pred))"
   ]
  },
  {
   "cell_type": "code",
   "execution_count": 237,
   "id": "b708c010",
   "metadata": {},
   "outputs": [
    {
     "name": "stdout",
     "output_type": "stream",
     "text": [
      "R2 score 0.9249839843829984\n",
      "MAE 0.18409878475638297\n"
     ]
    }
   ],
   "source": [
    "step_1 = ColumnTransformer(transformers=[\n",
    "    ('col_tnf', OneHotEncoder(sparse_output=False, drop='first',handle_unknown=\"ignore\"),[0,2,5])\n",
    "],remainder='passthrough')\n",
    "step_2  = RandomForestRegressor()\n",
    "pipe_rf = Pipeline([('step1',step_1),\n",
    "                ('step2',step_2)])\n",
    "pipe_rf.fit(X_train,Y_train)\n",
    "y_pred = pipe_rf.predict(X_test)\n",
    "\n",
    "print('R2 score',r2_score(Y_test,y_pred))\n",
    "print('MAE',mean_absolute_error(Y_test,y_pred))\n"
   ]
  },
  {
   "cell_type": "code",
   "execution_count": 243,
   "id": "0c987f7b",
   "metadata": {},
   "outputs": [
    {
     "name": "stdout",
     "output_type": "stream",
     "text": [
      "R2 score 0.9270596426215709\n",
      "MAE 0.20972577882765275\n"
     ]
    }
   ],
   "source": [
    "step_1 = ColumnTransformer(transformers=[\n",
    "    ('col_tnf', OneHotEncoder(sparse_output=False, drop='first'),[0,2,5])\n",
    "],remainder='passthrough')\n",
    "step_2  = KNeighborsRegressor(n_neighbors=3)\n",
    "pipe = Pipeline([('step1',step_1),\n",
    "                ('step2',step_2)])\n",
    "pipe.fit(X_train,Y_train)\n",
    "y_pred = pipe.predict(X_test)\n",
    "\n",
    "print('R2 score',r2_score(Y_test,y_pred))\n",
    "print('MAE',mean_absolute_error(Y_test,y_pred))"
   ]
  },
  {
   "cell_type": "code",
   "execution_count": 244,
   "id": "0846060c",
   "metadata": {},
   "outputs": [
    {
     "name": "stdout",
     "output_type": "stream",
     "text": [
      "R2 score 0.8895194416427266\n",
      "MAE 0.22832027910230906\n"
     ]
    }
   ],
   "source": [
    "from sklearn.tree import DecisionTreeRegressor\n",
    "step_1 = ColumnTransformer(transformers=[\n",
    "    ('col_tnf', OneHotEncoder(sparse_output=False, drop='first'),[0,2,5])\n",
    "],remainder='passthrough')\n",
    "step_2  = DecisionTreeRegressor()\n",
    "pipe = Pipeline([('step1',step_1),\n",
    "                ('step2',step_2)])\n",
    "pipe.fit(X_train,Y_train)\n",
    "y_pred = pipe.predict(X_test)\n",
    "\n",
    "print('R2 score',r2_score(Y_test,y_pred))\n",
    "print('MAE',mean_absolute_error(Y_test,y_pred))"
   ]
  },
  {
   "cell_type": "code",
   "execution_count": 238,
   "id": "ab2b4f50",
   "metadata": {},
   "outputs": [],
   "source": [
    "def best_rs(X,Y):\n",
    "    r2_score_ =[]\n",
    "    try:\n",
    "        for i in range(1,100):\n",
    "            X_train,X_test,Y_train,Y_test = train_test_split(X,Y,test_size=0.2,random_state=i)\n",
    "            pipe_rf.fit(X_train,Y_train)\n",
    "            y_pred = pipe_rf.predict(X_test)\n",
    "            r2_score_.append(r2_score(Y_test,y_pred))\n",
    "        return r2_score_\n",
    "    except ValueError as e:\n",
    "        print(\"error\")"
   ]
  },
  {
   "cell_type": "code",
   "execution_count": 239,
   "id": "fefe6dc6",
   "metadata": {},
   "outputs": [],
   "source": [
    "import warnings\n",
    "warnings.simplefilter(\"ignore\") "
   ]
  },
  {
   "cell_type": "code",
   "execution_count": 240,
   "id": "c025db5a",
   "metadata": {},
   "outputs": [
    {
     "name": "stdout",
     "output_type": "stream",
     "text": [
      "70\n"
     ]
    }
   ],
   "source": [
    "result = best_rs(X,Y)\n",
    "print(np.argmax(result))"
   ]
  },
  {
   "cell_type": "code",
   "execution_count": 241,
   "id": "33d662e9",
   "metadata": {},
   "outputs": [],
   "source": [
    "X_train,X_test,Y_train,Y_test = train_test_split(X,Y,test_size=0.2,random_state=71)\n"
   ]
  },
  {
   "cell_type": "code",
   "execution_count": 242,
   "id": "a555e11f",
   "metadata": {},
   "outputs": [
    {
     "name": "stdout",
     "output_type": "stream",
     "text": [
      "Best Parameters using grid search: \n",
      " {'step2__criterion': 'absolute_error', 'step2__max_depth': None, 'step2__max_features': None, 'step2__max_samples': 1.0, 'step2__n_estimators': 100}\n"
     ]
    }
   ],
   "source": [
    "np.random.seed(42)\n",
    "from sklearn.model_selection import GridSearchCV\n",
    "param_dist = {'step2__n_estimators': [50,100,150,200,500],\n",
    "              'step2__max_depth': [2, 3, 4, 8, 15,None],\n",
    "              \n",
    "              'step2__max_samples': [0.5, 0.75, 1.0],\n",
    "              'step2__max_features': ['sqrt', 'log2', None],\n",
    "              'step2__criterion': [\"squared_error\", \"absolute_error\"]}\n",
    "\n",
    "cv_rf = GridSearchCV(estimator=pipe_rf, \n",
    "                     cv = 5,\n",
    "                     param_grid=param_dist,\n",
    "                     n_jobs = -1)\n",
    "\n",
    "cv_rf.fit(X,Y)\n",
    "\n",
    "print('Best Parameters using grid search: \\n',\n",
    "      cv_rf.best_params_)"
   ]
  },
  {
   "cell_type": "code",
   "execution_count": 245,
   "id": "d53cb0dc",
   "metadata": {},
   "outputs": [
    {
     "name": "stdout",
     "output_type": "stream",
     "text": [
      "R2 score 0.9481717337525201\n",
      "MAE 0.16850778705496108\n"
     ]
    }
   ],
   "source": [
    "X_train,X_test,Y_train,Y_test = train_test_split(X,Y,test_size=0.2,random_state=71)\n",
    "step_1 = ColumnTransformer(transformers=[\n",
    "    ('col_tnf', OneHotEncoder(sparse_output=False, drop='first',handle_unknown=\"ignore\"),[0,2,5])\n",
    "],remainder='passthrough')\n",
    "step_2  = RandomForestRegressor(n_estimators=100,\n",
    "                               criterion='absolute_error',\n",
    "                               max_depth=None,\n",
    "                               max_features=None,\n",
    "                               max_samples=1.0)\n",
    "pipe_rf = Pipeline([('step1',step_1),\n",
    "                ('step2',step_2)])\n",
    "pipe_rf.fit(X_train,Y_train)\n",
    "y_pred = pipe_rf.predict(X_test)\n",
    "\n",
    "print('R2 score',r2_score(Y_test,y_pred))\n",
    "print('MAE',mean_absolute_error(Y_test,y_pred))"
   ]
  },
  {
   "cell_type": "code",
   "execution_count": 246,
   "id": "efd1e858",
   "metadata": {},
   "outputs": [
    {
     "name": "stdout",
     "output_type": "stream",
     "text": [
      "Cross-Validation Scores: [0.90680931 0.84493391 0.87836057 0.91712493 0.87563116]\n"
     ]
    }
   ],
   "source": [
    "from sklearn.model_selection import cross_val_score, KFold\n",
    "\n",
    "kf = KFold(n_splits=5, shuffle=True, random_state=42)\n",
    "\n",
    "cross_val_scores = cross_val_score(pipe_rf, X_train, Y_train, cv=kf)\n",
    "\n",
    "print(\"Cross-Validation Scores:\", cross_val_scores)"
   ]
  },
  {
   "cell_type": "code",
   "execution_count": 247,
   "id": "c11e3225",
   "metadata": {},
   "outputs": [],
   "source": [
    "import pickle\n",
    "\n",
    "pickle.dump(df,open('df_TV.pkl','wb'))\n",
    "pickle.dump(pipe_rf,open('pipe_rf_TV.pkl','wb'))\n"
   ]
  },
  {
   "cell_type": "code",
   "execution_count": null,
   "id": "3c1c4326",
   "metadata": {},
   "outputs": [],
   "source": []
  }
 ],
 "metadata": {
  "kernelspec": {
   "display_name": "Python 3 (ipykernel)",
   "language": "python",
   "name": "python3"
  },
  "language_info": {
   "codemirror_mode": {
    "name": "ipython",
    "version": 3
   },
   "file_extension": ".py",
   "mimetype": "text/x-python",
   "name": "python",
   "nbconvert_exporter": "python",
   "pygments_lexer": "ipython3",
   "version": "3.11.5"
  }
 },
 "nbformat": 4,
 "nbformat_minor": 5
}
