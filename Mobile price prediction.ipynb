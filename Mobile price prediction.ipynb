{
 "cells": [
  {
   "cell_type": "code",
   "execution_count": 1,
   "id": "284d87c1",
   "metadata": {},
   "outputs": [],
   "source": [
    "import pandas as pd\n",
    "import numpy as np\n",
    "from sklearn.preprocessing import OneHotEncoder\n",
    "from sklearn.preprocessing import StandardScaler\n",
    "from sklearn.compose import ColumnTransformer\n",
    "from sklearn.ensemble import RandomForestRegressor,GradientBoostingRegressor\n",
    "from sklearn.linear_model import LinearRegression\n",
    "from sklearn.neighbors import KNeighborsRegressor\n",
    "from sklearn.metrics import r2_score,mean_absolute_error\n",
    "import seaborn as sns\n",
    "import matplotlib.pyplot as plt"
   ]
  },
  {
   "cell_type": "code",
   "execution_count": 2,
   "id": "a60dde1d",
   "metadata": {
    "scrolled": true
   },
   "outputs": [
    {
     "data": {
      "text/html": [
       "<div>\n",
       "<style scoped>\n",
       "    .dataframe tbody tr th:only-of-type {\n",
       "        vertical-align: middle;\n",
       "    }\n",
       "\n",
       "    .dataframe tbody tr th {\n",
       "        vertical-align: top;\n",
       "    }\n",
       "\n",
       "    .dataframe thead th {\n",
       "        text-align: right;\n",
       "    }\n",
       "</style>\n",
       "<table border=\"1\" class=\"dataframe\">\n",
       "  <thead>\n",
       "    <tr style=\"text-align: right;\">\n",
       "      <th></th>\n",
       "      <th>Unnamed: 0</th>\n",
       "      <th>Brand</th>\n",
       "      <th>Model Name</th>\n",
       "      <th>Display Size</th>\n",
       "      <th>Operating System</th>\n",
       "      <th>Processor</th>\n",
       "      <th>Storage</th>\n",
       "      <th>RAM</th>\n",
       "      <th>Primary camera</th>\n",
       "      <th>Front Camera</th>\n",
       "      <th>Network</th>\n",
       "      <th>battery</th>\n",
       "      <th>Price</th>\n",
       "    </tr>\n",
       "  </thead>\n",
       "  <tbody>\n",
       "    <tr>\n",
       "      <th>0</th>\n",
       "      <td>0</td>\n",
       "      <td>SAMSUNG</td>\n",
       "      <td>Galaxy F13</td>\n",
       "      <td>16.76 cm (6.6 inch)</td>\n",
       "      <td>Android 12</td>\n",
       "      <td>Exynos 850</td>\n",
       "      <td>64 GB</td>\n",
       "      <td>4 GB</td>\n",
       "      <td>50MP + 5MP + 2MP</td>\n",
       "      <td>8MP Front Camera</td>\n",
       "      <td>4G, 3G, 2G</td>\n",
       "      <td>6000 mAh</td>\n",
       "      <td>₹7,499</td>\n",
       "    </tr>\n",
       "    <tr>\n",
       "      <th>1</th>\n",
       "      <td>1</td>\n",
       "      <td>SAMSUNG</td>\n",
       "      <td>Galaxy F13</td>\n",
       "      <td>16.76 cm (6.6 inch)</td>\n",
       "      <td>Android 12</td>\n",
       "      <td>Exynos 850</td>\n",
       "      <td>64 GB</td>\n",
       "      <td>4 GB</td>\n",
       "      <td>50MP + 5MP + 2MP</td>\n",
       "      <td>8MP Front Camera</td>\n",
       "      <td>4G, 3G, 2G</td>\n",
       "      <td>6000 mAh</td>\n",
       "      <td>₹7,499</td>\n",
       "    </tr>\n",
       "    <tr>\n",
       "      <th>2</th>\n",
       "      <td>2</td>\n",
       "      <td>SAMSUNG</td>\n",
       "      <td>Galaxy F13</td>\n",
       "      <td>16.76 cm (6.6 inch)</td>\n",
       "      <td>Android 12</td>\n",
       "      <td>Exynos 850</td>\n",
       "      <td>64 GB</td>\n",
       "      <td>4 GB</td>\n",
       "      <td>50MP + 5MP + 2MP</td>\n",
       "      <td>8MP Front Camera</td>\n",
       "      <td>4G, 3G, 2G</td>\n",
       "      <td>6000 mAh</td>\n",
       "      <td>₹7,499</td>\n",
       "    </tr>\n",
       "    <tr>\n",
       "      <th>3</th>\n",
       "      <td>3</td>\n",
       "      <td>Apple</td>\n",
       "      <td>iPhone 15</td>\n",
       "      <td>15.49 cm (6.1 inch)</td>\n",
       "      <td>iOS 17</td>\n",
       "      <td>A16 Bionic Chip, 6 Core Processor</td>\n",
       "      <td>128 GB</td>\n",
       "      <td>NaN</td>\n",
       "      <td>48MP + 12MP</td>\n",
       "      <td>12MP Front Camera</td>\n",
       "      <td>5G, 4G VOLTE, 4G, 3G, 2G</td>\n",
       "      <td>3349 mAh</td>\n",
       "      <td>₹67,499</td>\n",
       "    </tr>\n",
       "    <tr>\n",
       "      <th>4</th>\n",
       "      <td>4</td>\n",
       "      <td>SAMSUNG</td>\n",
       "      <td>Galaxy F04</td>\n",
       "      <td>16.51 cm (6.5 inch)</td>\n",
       "      <td>Android 12</td>\n",
       "      <td>Mediatek Helio P35</td>\n",
       "      <td>64 GB</td>\n",
       "      <td>4 GB</td>\n",
       "      <td>13MP + 2MP</td>\n",
       "      <td>5MP Front Camera</td>\n",
       "      <td>4G, 3G, 2G</td>\n",
       "      <td>5000 mAh</td>\n",
       "      <td>₹5,999</td>\n",
       "    </tr>\n",
       "  </tbody>\n",
       "</table>\n",
       "</div>"
      ],
      "text/plain": [
       "   Unnamed: 0    Brand  Model Name         Display Size Operating System  \\\n",
       "0           0  SAMSUNG  Galaxy F13  16.76 cm (6.6 inch)       Android 12   \n",
       "1           1  SAMSUNG  Galaxy F13  16.76 cm (6.6 inch)       Android 12   \n",
       "2           2  SAMSUNG  Galaxy F13  16.76 cm (6.6 inch)       Android 12   \n",
       "3           3    Apple   iPhone 15  15.49 cm (6.1 inch)           iOS 17   \n",
       "4           4  SAMSUNG  Galaxy F04  16.51 cm (6.5 inch)       Android 12   \n",
       "\n",
       "                           Processor Storage   RAM    Primary camera  \\\n",
       "0                         Exynos 850   64 GB  4 GB  50MP + 5MP + 2MP   \n",
       "1                         Exynos 850   64 GB  4 GB  50MP + 5MP + 2MP   \n",
       "2                         Exynos 850   64 GB  4 GB  50MP + 5MP + 2MP   \n",
       "3  A16 Bionic Chip, 6 Core Processor  128 GB   NaN       48MP + 12MP   \n",
       "4                 Mediatek Helio P35   64 GB  4 GB        13MP + 2MP   \n",
       "\n",
       "        Front Camera                   Network   battery    Price  \n",
       "0   8MP Front Camera                4G, 3G, 2G  6000 mAh   ₹7,499  \n",
       "1   8MP Front Camera                4G, 3G, 2G  6000 mAh   ₹7,499  \n",
       "2   8MP Front Camera                4G, 3G, 2G  6000 mAh   ₹7,499  \n",
       "3  12MP Front Camera  5G, 4G VOLTE, 4G, 3G, 2G  3349 mAh  ₹67,499  \n",
       "4   5MP Front Camera                4G, 3G, 2G  5000 mAh   ₹5,999  "
      ]
     },
     "execution_count": 2,
     "metadata": {},
     "output_type": "execute_result"
    }
   ],
   "source": [
    "df= pd.read_csv(\"D:\\Pritesh\\ML\\web scrapping\\Mobile.csv\")\n",
    "df.head()"
   ]
  },
  {
   "cell_type": "code",
   "execution_count": 3,
   "id": "e257b30e",
   "metadata": {},
   "outputs": [
    {
     "name": "stdout",
     "output_type": "stream",
     "text": [
      "<class 'pandas.core.frame.DataFrame'>\n",
      "RangeIndex: 979 entries, 0 to 978\n",
      "Data columns (total 13 columns):\n",
      " #   Column            Non-Null Count  Dtype \n",
      "---  ------            --------------  ----- \n",
      " 0   Unnamed: 0        979 non-null    int64 \n",
      " 1   Brand             979 non-null    object\n",
      " 2   Model Name        979 non-null    object\n",
      " 3   Display Size      979 non-null    object\n",
      " 4   Operating System  797 non-null    object\n",
      " 5   Processor         600 non-null    object\n",
      " 6   Storage           967 non-null    object\n",
      " 7   RAM               907 non-null    object\n",
      " 8   Primary camera    979 non-null    object\n",
      " 9   Front Camera      595 non-null    object\n",
      " 10  Network           974 non-null    object\n",
      " 11  battery           969 non-null    object\n",
      " 12  Price             979 non-null    object\n",
      "dtypes: int64(1), object(12)\n",
      "memory usage: 99.6+ KB\n"
     ]
    }
   ],
   "source": [
    "df.info()"
   ]
  },
  {
   "cell_type": "code",
   "execution_count": 4,
   "id": "c10a689c",
   "metadata": {},
   "outputs": [],
   "source": [
    "df.drop(columns='Unnamed: 0',inplace= True)"
   ]
  },
  {
   "cell_type": "code",
   "execution_count": 5,
   "id": "fc4f20b2",
   "metadata": {},
   "outputs": [],
   "source": [
    "df.drop(columns='Model Name',inplace= True)"
   ]
  },
  {
   "cell_type": "code",
   "execution_count": 6,
   "id": "937c7b7e",
   "metadata": {},
   "outputs": [],
   "source": [
    "df.drop_duplicates(inplace=True)"
   ]
  },
  {
   "cell_type": "code",
   "execution_count": 7,
   "id": "e2f9404a",
   "metadata": {},
   "outputs": [],
   "source": [
    "df.Price = df.Price.str.replace(\"₹\",\"\")\n",
    "df.Price = df.Price.str.replace(\",\",\"\")\n",
    "df['Price'] = df['Price'].astype(int)"
   ]
  },
  {
   "cell_type": "code",
   "execution_count": 8,
   "id": "d5da7a22",
   "metadata": {},
   "outputs": [
    {
     "data": {
      "text/plain": [
       "(378, 11)"
      ]
     },
     "execution_count": 8,
     "metadata": {},
     "output_type": "execute_result"
    }
   ],
   "source": [
    "df = df.loc[df['Price'] >= 2440]\n",
    "df.shape"
   ]
  },
  {
   "cell_type": "code",
   "execution_count": 9,
   "id": "6694f57b",
   "metadata": {},
   "outputs": [
    {
     "data": {
      "text/plain": [
       "Display Size\n",
       "17.02 cm (6.7 inch)      44\n",
       "16.76 cm (6.6 inch)      42\n",
       "17.12 cm (6.74 inch)     38\n",
       "17.07 cm (6.72 inch)     30\n",
       "16.51 cm (6.5 inch)      28\n",
       "17.22 cm (6.78 inch)     28\n",
       "16.94 cm (6.67 inch)     23\n",
       "15.49 cm (6.1 inch)      20\n",
       "16.66 cm (6.56 inch)     16\n",
       "16.71 cm (6.58 inch)     13\n",
       "17.25 cm (6.79 inch)     13\n",
       "16.33 cm (6.43 inch)     12\n",
       "16.26 cm (6.4 inch)       8\n",
       "16.56 cm (6.52 inch)      6\n",
       "6.1 cm (2.4 inch)         6\n",
       "16.54 cm (6.51 inch)      6\n",
       "7.11 cm (2.8 inch)        5\n",
       "17.27 cm (6.8 inch)       5\n",
       "16.55 cm (6.517 inch)     4\n",
       "15.75 cm (6.2 inch)       4\n",
       "16.97 cm (6.68 inch)      4\n",
       "16.64 cm (6.55 inch)      4\n",
       "12.7 cm (5 inch)          3\n",
       "16.74 cm (6.59 inch)      2\n",
       "17.04 cm (6.71 inch)      2\n",
       "16.59 cm (6.53 inch)      2\n",
       "16.21 cm (6.38 inch)      2\n",
       "4.57 cm (1.8 inch)        1\n",
       "5.08 cm (2 inch)          1\n",
       "17.22 cm (6.78 Inch)      1\n",
       "16.0 cm (6.3 inch)        1\n",
       "17.32 cm (6.82 inch)      1\n",
       "17.2 cm (6.77 inch)       1\n",
       "16.36 cm (6.44 inch)      1\n",
       "16.87 cm (6.64 inch)      1\n",
       "Name: count, dtype: int64"
      ]
     },
     "execution_count": 9,
     "metadata": {},
     "output_type": "execute_result"
    }
   ],
   "source": [
    "df['Display Size'].value_counts()"
   ]
  },
  {
   "cell_type": "code",
   "execution_count": 10,
   "id": "8a51b882",
   "metadata": {},
   "outputs": [],
   "source": [
    "df['Display Size'] = df['Display Size'].apply(lambda x:\"\".join(x.split(\" \")[0]))"
   ]
  },
  {
   "cell_type": "code",
   "execution_count": 11,
   "id": "3fea9b0a",
   "metadata": {
    "scrolled": true
   },
   "outputs": [
    {
     "data": {
      "text/plain": [
       "Operating System\n",
       "Android 13                                     156\n",
       "Android 12                                      68\n",
       "Android Android 13.0                            18\n",
       "Android Android 13                              13\n",
       "iOS 17                                          11\n",
       "Android 11                                      10\n",
       "Android Q 12                                     8\n",
       "Android Q 13                                     7\n",
       "Android 14                                       6\n",
       "iOS 16                                           6\n",
       "Android Oxygen OxygenOS based on Android 13      5\n",
       "Android 10                                       4\n",
       "Android 13 Go                                    4\n",
       "Android 13 (Go Edition)                          3\n",
       "Android Oxygen 12                                3\n",
       "Android Oxygen Android 13.1                      3\n",
       "Android Oxygen 13                                3\n",
       "0                                                3\n",
       "Android Q 13.0                                   3\n",
       "Android 12 Go                                    2\n",
       "Android Q                                        2\n",
       "Series 30+                                       2\n",
       "Android Android 12                               2\n",
       "Android OxygenOS based on Android 13             2\n",
       "iOS 15                                           2\n",
       "Android Android 13 With MIUI 14                  2\n",
       "Android MIUI 14 With Android 13                  2\n",
       "iOS 14                                           2\n",
       "Android Q ANDRIOD 12                             1\n",
       "Android Android 13 (Go edition), HIOS 13         1\n",
       "Android Pie 9                                    1\n",
       "Android Q Andriod 13.0                           1\n",
       "Android Android 12 OS with Anonymous             1\n",
       "Android Q ANDRIOD 11                             1\n",
       "Android Lollipop 5.1                             1\n",
       "Android Q 11                                     1\n",
       "Android Android 13 Go, Android 13.0              1\n",
       "Android Funtouch OS 13 Based On Android 13       1\n",
       "Android Android 12.0                             1\n",
       "iOS 14.2                                         1\n",
       "Android 12 Go Edition                            1\n",
       "Android Q MIUI 14, Android 13.0                  1\n",
       "Android Android 13 OxygenOS                      1\n",
       "Android ?Android 13.0                            1\n",
       "Android Android12                                1\n",
       "Android Android 13 WIth MIUI 14                  1\n",
       "Name: count, dtype: int64"
      ]
     },
     "execution_count": 11,
     "metadata": {},
     "output_type": "execute_result"
    }
   ],
   "source": [
    "df['Operating System'].value_counts()"
   ]
  },
  {
   "cell_type": "code",
   "execution_count": 12,
   "id": "e7b3176e",
   "metadata": {},
   "outputs": [],
   "source": [
    "def os(data):\n",
    "    if 'Android' in str(data):\n",
    "        return \"Android\"\n",
    "    elif 'iOS' in str(data):\n",
    "        return \"iOS\"\n",
    "    else:\n",
    "        return \"Others\"\n",
    "\n",
    "df['Operating System'] = df['Operating System'].apply(os)"
   ]
  },
  {
   "cell_type": "code",
   "execution_count": 13,
   "id": "d52d14d5",
   "metadata": {},
   "outputs": [
    {
     "data": {
      "text/plain": [
       "array(['Exynos 850', 'A16 Bionic Chip, 6 Core Processor',\n",
       "       'Mediatek Helio P35', 'A15 Bionic Chip, 6 Core Processor',\n",
       "       'Dimensity 6020', 'Exynos 1330, Octa Core', 'Dimensity 7030',\n",
       "       'Dimensity 7020', 'Snapdragon 4 Gen 2', 'Dimensity 6100+',\n",
       "       'Helio G36', 'T612', 'Mediatek Helio G85',\n",
       "       'Qualcomm Snapdragon 680', 'Helio G88', 'Qualcomm Snapdragon 695',\n",
       "       'Dimensity 7200', 'T606', 'Helio G85', nan, 'Unisoc T606',\n",
       "       'Dimensity 6080', 'Dimensity 7200 Ultra 5G', 'G37',\n",
       "       'Dimensity 8020', 'Mediatek Helio G99', 'Dimensity 7050',\n",
       "       'Mediatek Dimensity 1080', '7s Gen 2 Mobile Platform 5G',\n",
       "       'Tensor G2', 'Octa Core', 'Exynos 1280', 'Mediatek Dimensity 700',\n",
       "       'T616', 'Qualcomm Snapdragon 8+ Gen 1', 'Samsung Exynos 2200',\n",
       "       'Snapdragon 888', 'OCTA CORE', 'Qualcomm Snapdragon 8 Gen 2',\n",
       "       'Snapdragon 685', 'Google Tensor G2', 'A15 Bionic Chip',\n",
       "       'Snapdragon 8 Gen 1', 'Mediatek Helio G35',\n",
       "       'Qualcomm Snapdragon 4 Gen 1',\n",
       "       'A14 Bionic Chip with Next Generation Neural Engine',\n",
       "       'Dimensity 6020 5G', 'Tensor G3', 'Mediatek Dimensity 7050',\n",
       "       '778G', 'SEC S5E8535 (Exynos 1330)', 'Dimensity 1080, Octa Core',\n",
       "       'Unisoc Spreadtrum SC9863A1', 'Qualcomm Snapdragon 888 Octa-Core',\n",
       "       'Exynos 1380, Octa Core', 'Spreadtrum \\nSC9863A1',\n",
       "       'Spreadtrum SC9863A1', 'T107', 'Snapdragon 8 Gen 2',\n",
       "       'Snapdragon 695', 'Helio P35', '0 0 0 208MHz',\n",
       "       'Mediatek Dimensity 7200 5G', 'Qualcomm Snapdragon 888',\n",
       "       'Mediatek Helio G96', 'A17 Pro Chip, 6 Core Processor', '4 Gen 1',\n",
       "       'Unisoc Tiger T606', 'MediaTek Helio P35',\n",
       "       'Qualcomm Snapdragon 778G', 'YES', 'Mediatek MT6769H Helio G88',\n",
       "       '6261D', 'MediaTek G37', 'Dimensity 8200', 'Snapdragon 680',\n",
       "       'Qualcomm Snapdragon 732G', 'MT6260A', 'Mediatek Helio A22',\n",
       "       'Dimensity 810', 'Mediatek Dimensity 920', 'MediaTek Helio G35',\n",
       "       'Unisoc SC9863A1', 'Helio G99', 'SC9863A1', 'Mediatek Helio G37',\n",
       "       'MediaTek Dimensity 700 Octa-core Processor', 'Unisoc UMS9117-N',\n",
       "       'A13 Bionic Chip', 'MediaTek Dimensity 6080 Processor',\n",
       "       'Snapdragon 778G 5G', 'Helio G70 (MT6769)', 'Unisoc T616',\n",
       "       'Qualcomm Snapdragon 695 (SM6375)', 'Qualcomm Snapdragon 662',\n",
       "       'Single Core', 'Mediatek MT6769Z Helio G85', 'Unisoc 6531F',\n",
       "       'MediaTek Helio A22', 'Mediatek Dimensity 8200',\n",
       "       'Mediatek Helio A22 Processor, Upto 2.0 GHz', 'MediaTek Helio G37',\n",
       "       'Unisco T606', 'Mediatek Helio processor', 'Snapdragon 8+ Gen 1',\n",
       "       '2?GHz, Quad Core Processor', 'Mediatek MT6765 Helio G37',\n",
       "       'Unisoc', 'Mediatek MT6781 Helio G96',\n",
       "       'Qualcomm Snapdragon 695 5G', 'Octa Core Processor',\n",
       "       'MediaTek Helio G80'], dtype=object)"
      ]
     },
     "execution_count": 13,
     "metadata": {},
     "output_type": "execute_result"
    }
   ],
   "source": [
    "df['Processor'].unique()"
   ]
  },
  {
   "cell_type": "code",
   "execution_count": 14,
   "id": "940daddb",
   "metadata": {},
   "outputs": [],
   "source": [
    "def processor(text):\n",
    "    if any(m in str(text) for m in [\"Dimensity\", \"Helio\", \"Mediatek\"]):\n",
    "        return \"MediaTek\"\n",
    "    \n",
    "    elif any(m in str(text) for m in ['Qualcomm', \"Snapdragon\"]):\n",
    "        return 'Snapdragon'\n",
    "    \n",
    "    elif any(m in str(text) for m in [\"Tensor\", \"Google\"]):\n",
    "        return \"Google\"\n",
    "    \n",
    "    elif any(m in str(text) for m in ['Exynos', 'Samsung']):\n",
    "        return \"Samsung\"\n",
    "    \n",
    "    elif any(m in str(text) for m in ['Bionic','A17 Pro Chip']):\n",
    "        return \"Apple\"\n",
    "    \n",
    "    else:\n",
    "        return \"Others\"\n",
    "\n",
    "df[\"Processor\"] = df['Processor'].apply(processor)"
   ]
  },
  {
   "cell_type": "code",
   "execution_count": 15,
   "id": "f864790d",
   "metadata": {},
   "outputs": [
    {
     "data": {
      "text/plain": [
       "Storage\n",
       "128 GB      212\n",
       "256 GB       76\n",
       "64 GB        58\n",
       "512 GB        9\n",
       "32 GB         7\n",
       "32 MB         4\n",
       "16 MB         3\n",
       "4 MB          2\n",
       "0.125 GB      2\n",
       "48 MB         1\n",
       "16 GB         1\n",
       "8 GB          1\n",
       "32+3 GB       1\n",
       "Name: count, dtype: int64"
      ]
     },
     "execution_count": 15,
     "metadata": {},
     "output_type": "execute_result"
    }
   ],
   "source": [
    "df['Storage'].value_counts()"
   ]
  },
  {
   "cell_type": "code",
   "execution_count": 16,
   "id": "1f114642",
   "metadata": {},
   "outputs": [],
   "source": [
    "for i in df['Storage']:\n",
    "    if \"MB\" in str(i):\n",
    "        df.loc[df['Storage'] == i, 'Storage'] = np.nan\n",
    "\n",
    "    elif \"32+3\" in str(i):\n",
    "        df.loc[df['Storage'] == i, 'Storage'] = '32'\n",
    "\n",
    "\n",
    "df['Storage'] = df['Storage'].str.replace(\"GB\", \"\")"
   ]
  },
  {
   "cell_type": "code",
   "execution_count": 17,
   "id": "de9aae17",
   "metadata": {},
   "outputs": [],
   "source": [
    "df['Storage'] = df['Storage'].astype(float)\n",
    "def storage(data):\n",
    "    return np.nan if data<32 else data\n",
    "df['Storage'] = df['Storage'].apply(storage)\n"
   ]
  },
  {
   "cell_type": "code",
   "execution_count": 18,
   "id": "35a5755b",
   "metadata": {},
   "outputs": [
    {
     "data": {
      "text/plain": [
       "RAM\n",
       "8 GB           138\n",
       "4 GB            80\n",
       "6 GB            73\n",
       "12 GB           27\n",
       "3 GB            12\n",
       "2 GB             9\n",
       "32 MB            4\n",
       "16 GB            3\n",
       "4 MB             2\n",
       "8 MB             2\n",
       "0.046875 GB      2\n",
       "128 MB           1\n",
       "1 GB             1\n",
       "Name: count, dtype: int64"
      ]
     },
     "execution_count": 18,
     "metadata": {},
     "output_type": "execute_result"
    }
   ],
   "source": [
    "df['RAM'].value_counts()"
   ]
  },
  {
   "cell_type": "code",
   "execution_count": 19,
   "id": "ff86b1c4",
   "metadata": {},
   "outputs": [],
   "source": [
    "for i in df['RAM']:\n",
    "    if \"MB\" in str(i):\n",
    "        df.loc[df['RAM'] == i, 'RAM'] = np.nan\n",
    "    elif \"0.\" in str(i):\n",
    "        df.loc[df['RAM'] == i, 'RAM'] = np.nan\n",
    "    \n",
    "\n",
    "\n",
    "df['RAM'] = df['RAM'].str.replace(\"GB\", \"\")\n",
    "df['RAM'] = df['RAM'].astype(float)\n",
    "def ram(data):\n",
    "    return np.nan if data<2 else data\n",
    "df['RAM'] = df['RAM'].apply(ram)\n"
   ]
  },
  {
   "cell_type": "code",
   "execution_count": 20,
   "id": "fb412f9a",
   "metadata": {},
   "outputs": [
    {
     "data": {
      "text/plain": [
       "RAM\n",
       "8.0     138\n",
       "4.0      80\n",
       "6.0      73\n",
       "12.0     27\n",
       "3.0      12\n",
       "2.0       9\n",
       "16.0      3\n",
       "Name: count, dtype: int64"
      ]
     },
     "execution_count": 20,
     "metadata": {},
     "output_type": "execute_result"
    }
   ],
   "source": [
    "df['RAM'].value_counts()"
   ]
  },
  {
   "cell_type": "code",
   "execution_count": 21,
   "id": "13e48285",
   "metadata": {},
   "outputs": [
    {
     "data": {
      "text/plain": [
       "Primary camera\n",
       "50MP Rear Camera        81\n",
       "50MP + 2MP              24\n",
       "64MP Rear Camera        23\n",
       "13MP Rear Camera        20\n",
       "12MP + 12MP             13\n",
       "                        ..\n",
       "50MP + 50MP + 8MP        1\n",
       "0.08MP Rear Camera       1\n",
       "50MP + 0.3MP + 0.3MP     1\n",
       "64MP (OIS) + 13MP        1\n",
       "50MP + 48MP + 12MP       1\n",
       "Name: count, Length: 78, dtype: int64"
      ]
     },
     "execution_count": 21,
     "metadata": {},
     "output_type": "execute_result"
    }
   ],
   "source": [
    "df['Primary camera'].value_counts()"
   ]
  },
  {
   "cell_type": "code",
   "execution_count": 22,
   "id": "4339dd56",
   "metadata": {},
   "outputs": [],
   "source": [
    "df['Primary camera'] = df['Primary camera'].str.replace(\"MP\",\"\")\n",
    "df['Primary camera'] = df['Primary camera'].str.replace(\"Rear Camera\",\"\")\n",
    "\n",
    "df['Primary camera'] = df['Primary camera'].str.split(\"+\")"
   ]
  },
  {
   "cell_type": "code",
   "execution_count": 23,
   "id": "e5b82d6f",
   "metadata": {},
   "outputs": [
    {
     "data": {
      "text/plain": [
       "Primary camera\n",
       "[50 ]                 81\n",
       "[50 ,  2]             24\n",
       "[64 ]                 23\n",
       "[13 ]                 20\n",
       "[12 ,  12]            13\n",
       "                      ..\n",
       "[50 ,  50 ,  8]        1\n",
       "[0.08 ]                1\n",
       "[50 ,  0.3 ,  0.3]     1\n",
       "[64 (OIS) ,  13]       1\n",
       "[50 ,  48 ,  12]       1\n",
       "Name: count, Length: 78, dtype: int64"
      ]
     },
     "execution_count": 23,
     "metadata": {},
     "output_type": "execute_result"
    }
   ],
   "source": [
    "df['Primary camera'].value_counts()"
   ]
  },
  {
   "cell_type": "code",
   "execution_count": 24,
   "id": "34bb2e41",
   "metadata": {},
   "outputs": [],
   "source": [
    "df['Camera1'] = df['Primary camera'].str[0]\n",
    "df['Camera2'] = df['Primary camera'].str[1]\n",
    "df['Camera3'] = df['Primary camera'].str[2]\n",
    "df['Camera4'] = df['Primary camera'].str[3]"
   ]
  },
  {
   "cell_type": "code",
   "execution_count": 25,
   "id": "13883061",
   "metadata": {},
   "outputs": [],
   "source": [
    "df['Camera1'] = df['Camera1'].str.replace(\" (OIS)\",\"\")\n",
    "df['Camera1'] = df['Camera1'].str.replace(\" Dual\",\"\")\n",
    "df['Camera1'] = df['Camera1'].str.replace(\" Camera\",\"\")\n",
    "df['Camera1'] = df['Camera1'].str.replace(\" Triple AI \",\"\")\n",
    "df['Camera1'] = df['Camera1'].str.replace(\"0.3\",\"0\")\n"
   ]
  },
  {
   "cell_type": "code",
   "execution_count": 26,
   "id": "69f431cd",
   "metadata": {},
   "outputs": [
    {
     "data": {
      "text/plain": [
       "array(['50 ', '48 ', '13 ', '12 ', '64 ', '8 ', '108 ', '108  ', '200 ',\n",
       "       '100 ', '50  ', '0.08 ', '0 ', '2 ', '13', '5 ', '16 ', '32 ', '8'],\n",
       "      dtype=object)"
      ]
     },
     "execution_count": 26,
     "metadata": {},
     "output_type": "execute_result"
    }
   ],
   "source": [
    "df['Camera1'].unique()"
   ]
  },
  {
   "cell_type": "code",
   "execution_count": 27,
   "id": "4e3079ac",
   "metadata": {},
   "outputs": [],
   "source": [
    "df['Camera2'] = df['Camera2'].str.replace(\" AI Lens\",\"0\")\n",
    "df['Camera2'] = df['Camera2'].str.replace(\"Depth Lens \",\"\")\n",
    "df['Camera2'] = df['Camera2'].str.replace(\"Depth Sensor \",\"\")\n",
    "df['Camera2'] = df['Camera2'].str.replace(\"front camera\",\"\")\n",
    "df['Camera2'] = df['Camera2'].str.replace(\" Depth Lens\",\"0\")\n"
   ]
  },
  {
   "cell_type": "code",
   "execution_count": 28,
   "id": "2a39509a",
   "metadata": {},
   "outputs": [
    {
     "data": {
      "text/plain": [
       "array([' 5 ', ' 12', ' 2', ' 13', ' 8', nan, ' 0.08', ' 8 ', '0', '0 ',\n",
       "       ' 2 ', '50', ' 12 ', ' 13 ', ' 10 ', ' 0.3 ', ' 32 ', ' 50 ',\n",
       "       ' 48 ', ' 0.3', ' 5', ' 64 ', ' 2  ', ' 0', ' 0.8'], dtype=object)"
      ]
     },
     "execution_count": 28,
     "metadata": {},
     "output_type": "execute_result"
    }
   ],
   "source": [
    "df['Camera2'].unique()"
   ]
  },
  {
   "cell_type": "code",
   "execution_count": 29,
   "id": "775aff80",
   "metadata": {},
   "outputs": [
    {
     "data": {
      "text/plain": [
       "Camera3\n",
       " 2                 63\n",
       " 12                 8\n",
       " 8                  8\n",
       " 5                  5\n",
       " 10                 3\n",
       " AI Lens            2\n",
       " 2 Macro Sensor     2\n",
       " 8 (OIS)            2\n",
       " 48                 2\n",
       " 0.3                1\n",
       " 12                 1\n",
       " AI lens            1\n",
       "Name: count, dtype: int64"
      ]
     },
     "execution_count": 29,
     "metadata": {},
     "output_type": "execute_result"
    }
   ],
   "source": [
    "df['Camera3'].value_counts()"
   ]
  },
  {
   "cell_type": "code",
   "execution_count": 30,
   "id": "b5e4f18e",
   "metadata": {},
   "outputs": [],
   "source": [
    "df['Camera3'] = df['Camera3'].str.replace(\"AI Lens\",\"0\")\n",
    "df['Camera3'] = df['Camera3'].str.replace(\" (OIS)\",\"\")\n",
    "df['Camera3'] = df['Camera3'].str.replace(\"Macro Sensor\",\"\")\n"
   ]
  },
  {
   "cell_type": "code",
   "execution_count": 31,
   "id": "2fdc5dbc",
   "metadata": {},
   "outputs": [],
   "source": [
    "df.loc[df['Camera3'] == \" \", 'Camera3'] = \"0\""
   ]
  },
  {
   "cell_type": "code",
   "execution_count": 32,
   "id": "6b23e262",
   "metadata": {},
   "outputs": [
    {
     "data": {
      "text/html": [
       "<div>\n",
       "<style scoped>\n",
       "    .dataframe tbody tr th:only-of-type {\n",
       "        vertical-align: middle;\n",
       "    }\n",
       "\n",
       "    .dataframe tbody tr th {\n",
       "        vertical-align: top;\n",
       "    }\n",
       "\n",
       "    .dataframe thead th {\n",
       "        text-align: right;\n",
       "    }\n",
       "</style>\n",
       "<table border=\"1\" class=\"dataframe\">\n",
       "  <thead>\n",
       "    <tr style=\"text-align: right;\">\n",
       "      <th></th>\n",
       "      <th>Brand</th>\n",
       "      <th>Display Size</th>\n",
       "      <th>Operating System</th>\n",
       "      <th>Processor</th>\n",
       "      <th>Storage</th>\n",
       "      <th>RAM</th>\n",
       "      <th>Front Camera</th>\n",
       "      <th>Network</th>\n",
       "      <th>battery</th>\n",
       "      <th>Price</th>\n",
       "      <th>Camera1</th>\n",
       "      <th>Camera2</th>\n",
       "      <th>Camera3</th>\n",
       "      <th>Camera4</th>\n",
       "    </tr>\n",
       "  </thead>\n",
       "  <tbody>\n",
       "    <tr>\n",
       "      <th>0</th>\n",
       "      <td>SAMSUNG</td>\n",
       "      <td>16.76</td>\n",
       "      <td>Android</td>\n",
       "      <td>Samsung</td>\n",
       "      <td>64.0</td>\n",
       "      <td>4.0</td>\n",
       "      <td>8MP Front Camera</td>\n",
       "      <td>4G, 3G, 2G</td>\n",
       "      <td>6000 mAh</td>\n",
       "      <td>7499</td>\n",
       "      <td>50</td>\n",
       "      <td>5</td>\n",
       "      <td>2</td>\n",
       "      <td>NaN</td>\n",
       "    </tr>\n",
       "    <tr>\n",
       "      <th>3</th>\n",
       "      <td>Apple</td>\n",
       "      <td>15.49</td>\n",
       "      <td>iOS</td>\n",
       "      <td>Apple</td>\n",
       "      <td>128.0</td>\n",
       "      <td>NaN</td>\n",
       "      <td>12MP Front Camera</td>\n",
       "      <td>5G, 4G VOLTE, 4G, 3G, 2G</td>\n",
       "      <td>3349 mAh</td>\n",
       "      <td>67499</td>\n",
       "      <td>48</td>\n",
       "      <td>12</td>\n",
       "      <td>NaN</td>\n",
       "      <td>NaN</td>\n",
       "    </tr>\n",
       "    <tr>\n",
       "      <th>4</th>\n",
       "      <td>SAMSUNG</td>\n",
       "      <td>16.51</td>\n",
       "      <td>Android</td>\n",
       "      <td>MediaTek</td>\n",
       "      <td>64.0</td>\n",
       "      <td>4.0</td>\n",
       "      <td>5MP Front Camera</td>\n",
       "      <td>4G, 3G, 2G</td>\n",
       "      <td>5000 mAh</td>\n",
       "      <td>5999</td>\n",
       "      <td>13</td>\n",
       "      <td>2</td>\n",
       "      <td>NaN</td>\n",
       "      <td>NaN</td>\n",
       "    </tr>\n",
       "    <tr>\n",
       "      <th>6</th>\n",
       "      <td>Apple</td>\n",
       "      <td>15.49</td>\n",
       "      <td>iOS</td>\n",
       "      <td>Apple</td>\n",
       "      <td>128.0</td>\n",
       "      <td>NaN</td>\n",
       "      <td>12MP Front Camera</td>\n",
       "      <td>5G, 4G VOLTE, 4G, 3G, 2G</td>\n",
       "      <td>3279 mAh</td>\n",
       "      <td>58999</td>\n",
       "      <td>12</td>\n",
       "      <td>12</td>\n",
       "      <td>NaN</td>\n",
       "      <td>NaN</td>\n",
       "    </tr>\n",
       "    <tr>\n",
       "      <th>10</th>\n",
       "      <td>vivo</td>\n",
       "      <td>16.71</td>\n",
       "      <td>Android</td>\n",
       "      <td>MediaTek</td>\n",
       "      <td>128.0</td>\n",
       "      <td>8.0</td>\n",
       "      <td>8MP Front Camera</td>\n",
       "      <td>5G, 4G, 3G</td>\n",
       "      <td>5000 mAh</td>\n",
       "      <td>14999</td>\n",
       "      <td>50</td>\n",
       "      <td>2</td>\n",
       "      <td>NaN</td>\n",
       "      <td>NaN</td>\n",
       "    </tr>\n",
       "  </tbody>\n",
       "</table>\n",
       "</div>"
      ],
      "text/plain": [
       "      Brand Display Size Operating System Processor  Storage  RAM  \\\n",
       "0   SAMSUNG        16.76          Android   Samsung     64.0  4.0   \n",
       "3     Apple        15.49              iOS     Apple    128.0  NaN   \n",
       "4   SAMSUNG        16.51          Android  MediaTek     64.0  4.0   \n",
       "6     Apple        15.49              iOS     Apple    128.0  NaN   \n",
       "10     vivo        16.71          Android  MediaTek    128.0  8.0   \n",
       "\n",
       "         Front Camera                   Network   battery  Price Camera1  \\\n",
       "0    8MP Front Camera                4G, 3G, 2G  6000 mAh   7499     50    \n",
       "3   12MP Front Camera  5G, 4G VOLTE, 4G, 3G, 2G  3349 mAh  67499     48    \n",
       "4    5MP Front Camera                4G, 3G, 2G  5000 mAh   5999     13    \n",
       "6   12MP Front Camera  5G, 4G VOLTE, 4G, 3G, 2G  3279 mAh  58999     12    \n",
       "10   8MP Front Camera                5G, 4G, 3G  5000 mAh  14999     50    \n",
       "\n",
       "   Camera2 Camera3 Camera4  \n",
       "0       5        2     NaN  \n",
       "3       12     NaN     NaN  \n",
       "4        2     NaN     NaN  \n",
       "6       12     NaN     NaN  \n",
       "10       2     NaN     NaN  "
      ]
     },
     "execution_count": 32,
     "metadata": {},
     "output_type": "execute_result"
    }
   ],
   "source": [
    "df.drop(columns='Primary camera',inplace=True)\n",
    "df.head()"
   ]
  },
  {
   "cell_type": "code",
   "execution_count": 33,
   "id": "b577d2c8",
   "metadata": {},
   "outputs": [
    {
     "data": {
      "text/plain": [
       "Front Camera\n",
       "8MP Front Camera               61\n",
       "16MP Front Camera              45\n",
       "5MP Front Camera               30\n",
       "32MP Front Camera              28\n",
       "12MP Front Camera              25\n",
       "13MP Front Camera              19\n",
       "50MP Front Camera              13\n",
       "10MP Front Camera               5\n",
       "10.5MP Front Camera             4\n",
       "0MP Front Camera                3\n",
       "10.8MP Front Camera             2\n",
       "5MP + 5MP Dual Front Camera     1\n",
       "2MP Front Camera                1\n",
       "8MP + 8MP Dual Front Camera     1\n",
       "0.8MP Front Camera              1\n",
       "8MP + 2MP Dual Front Camera     1\n",
       "Name: count, dtype: int64"
      ]
     },
     "execution_count": 33,
     "metadata": {},
     "output_type": "execute_result"
    }
   ],
   "source": [
    "df['Front Camera'].value_counts()"
   ]
  },
  {
   "cell_type": "code",
   "execution_count": 34,
   "id": "ff50cf8c",
   "metadata": {},
   "outputs": [
    {
     "data": {
      "text/plain": [
       "Front Camera\n",
       "8          61\n",
       "16         45\n",
       "5          30\n",
       "32         28\n",
       "12         25\n",
       "13         19\n",
       "50         13\n",
       "10          5\n",
       "10.5        4\n",
       "0           3\n",
       "10.8        2\n",
       "5 + 5       1\n",
       "2           1\n",
       "8 + 8       1\n",
       "0.8         1\n",
       "8 + 2       1\n",
       "Name: count, dtype: int64"
      ]
     },
     "execution_count": 34,
     "metadata": {},
     "output_type": "execute_result"
    }
   ],
   "source": [
    "df['Front Camera'] = df['Front Camera'].str.replace(\"Front Camera\",\"\")\n",
    "df['Front Camera'] = df['Front Camera'].str.replace(\"Dual\",\"\")\n",
    "df['Front Camera'] = df['Front Camera'].str.replace(\"MP\",\"\")\n",
    "df['Front Camera'].value_counts()"
   ]
  },
  {
   "cell_type": "code",
   "execution_count": 35,
   "id": "1cd6bc6f",
   "metadata": {},
   "outputs": [
    {
     "data": {
      "text/plain": [
       "Front Camera\n",
       "8        63\n",
       "16       45\n",
       "5        31\n",
       "32       28\n",
       "12       25\n",
       "13       19\n",
       "50       13\n",
       "10        5\n",
       "10.5      4\n",
       "0         3\n",
       "10.8      2\n",
       "2         1\n",
       "0.8       1\n",
       "Name: count, dtype: int64"
      ]
     },
     "execution_count": 35,
     "metadata": {},
     "output_type": "execute_result"
    }
   ],
   "source": [
    "df['Front Camera'] = df['Front Camera'].str.replace(\" + 5 \",\"\")\n",
    "df['Front Camera'] = df['Front Camera'].str.replace(\" + 8 \",\"\")\n",
    "df['Front Camera'] = df['Front Camera'].str.replace(\" + 2 \",\"\")\n",
    "df['Front Camera'].value_counts()"
   ]
  },
  {
   "cell_type": "code",
   "execution_count": 36,
   "id": "aece830a",
   "metadata": {},
   "outputs": [
    {
     "data": {
      "text/html": [
       "<div>\n",
       "<style scoped>\n",
       "    .dataframe tbody tr th:only-of-type {\n",
       "        vertical-align: middle;\n",
       "    }\n",
       "\n",
       "    .dataframe tbody tr th {\n",
       "        vertical-align: top;\n",
       "    }\n",
       "\n",
       "    .dataframe thead th {\n",
       "        text-align: right;\n",
       "    }\n",
       "</style>\n",
       "<table border=\"1\" class=\"dataframe\">\n",
       "  <thead>\n",
       "    <tr style=\"text-align: right;\">\n",
       "      <th></th>\n",
       "      <th>Brand</th>\n",
       "      <th>Display Size</th>\n",
       "      <th>Operating System</th>\n",
       "      <th>Processor</th>\n",
       "      <th>Storage</th>\n",
       "      <th>RAM</th>\n",
       "      <th>Front Camera</th>\n",
       "      <th>Network</th>\n",
       "      <th>battery</th>\n",
       "      <th>Price</th>\n",
       "      <th>Camera1</th>\n",
       "      <th>Camera2</th>\n",
       "      <th>Camera3</th>\n",
       "      <th>Camera4</th>\n",
       "    </tr>\n",
       "  </thead>\n",
       "  <tbody>\n",
       "    <tr>\n",
       "      <th>383</th>\n",
       "      <td>REDMI</td>\n",
       "      <td>16.94</td>\n",
       "      <td>Android</td>\n",
       "      <td>Snapdragon</td>\n",
       "      <td>256.0</td>\n",
       "      <td>8.0</td>\n",
       "      <td>13</td>\n",
       "      <td>5G, 4G VOLTE, 4G, 3G, 2G</td>\n",
       "      <td>5000 mAh</td>\n",
       "      <td>18999</td>\n",
       "      <td>48</td>\n",
       "      <td>8</td>\n",
       "      <td>2</td>\n",
       "      <td>0</td>\n",
       "    </tr>\n",
       "    <tr>\n",
       "      <th>122</th>\n",
       "      <td>realme</td>\n",
       "      <td>17.02</td>\n",
       "      <td>Android</td>\n",
       "      <td>MediaTek</td>\n",
       "      <td>256.0</td>\n",
       "      <td>8.0</td>\n",
       "      <td>32</td>\n",
       "      <td>5G, 4G VOLTE, 4G, 3G, 2G</td>\n",
       "      <td>5000 mAh</td>\n",
       "      <td>25999</td>\n",
       "      <td>200</td>\n",
       "      <td>8</td>\n",
       "      <td>2</td>\n",
       "      <td>0</td>\n",
       "    </tr>\n",
       "    <tr>\n",
       "      <th>555</th>\n",
       "      <td>Nokia</td>\n",
       "      <td>6.1</td>\n",
       "      <td>Others</td>\n",
       "      <td>Others</td>\n",
       "      <td>NaN</td>\n",
       "      <td>NaN</td>\n",
       "      <td>0</td>\n",
       "      <td>4G, 3G, 2G</td>\n",
       "      <td>1450 mAh</td>\n",
       "      <td>4699</td>\n",
       "      <td>0</td>\n",
       "      <td>0</td>\n",
       "      <td>0</td>\n",
       "      <td>0</td>\n",
       "    </tr>\n",
       "    <tr>\n",
       "      <th>418</th>\n",
       "      <td>Infinix</td>\n",
       "      <td>17.32</td>\n",
       "      <td>Android</td>\n",
       "      <td>Others</td>\n",
       "      <td>64.0</td>\n",
       "      <td>4.0</td>\n",
       "      <td>8</td>\n",
       "      <td>4G, 3G, 2G</td>\n",
       "      <td>6000 mAh</td>\n",
       "      <td>7499</td>\n",
       "      <td>50</td>\n",
       "      <td>0</td>\n",
       "      <td>0</td>\n",
       "      <td>0</td>\n",
       "    </tr>\n",
       "    <tr>\n",
       "      <th>172</th>\n",
       "      <td>Apple</td>\n",
       "      <td>17.02</td>\n",
       "      <td>iOS</td>\n",
       "      <td>Apple</td>\n",
       "      <td>128.0</td>\n",
       "      <td>NaN</td>\n",
       "      <td>12</td>\n",
       "      <td>5G, 4G VOLTE, 4G, 3G, 2G</td>\n",
       "      <td>4323 mAh</td>\n",
       "      <td>65999</td>\n",
       "      <td>12</td>\n",
       "      <td>12</td>\n",
       "      <td>0</td>\n",
       "      <td>0</td>\n",
       "    </tr>\n",
       "    <tr>\n",
       "      <th>51</th>\n",
       "      <td>REDMI</td>\n",
       "      <td>17.25</td>\n",
       "      <td>Android</td>\n",
       "      <td>MediaTek</td>\n",
       "      <td>128.0</td>\n",
       "      <td>4.0</td>\n",
       "      <td>8</td>\n",
       "      <td>2G, 3G, 4G, 4G VOLTE</td>\n",
       "      <td>5000 mAh</td>\n",
       "      <td>9499</td>\n",
       "      <td>50</td>\n",
       "      <td>8</td>\n",
       "      <td>2</td>\n",
       "      <td>0</td>\n",
       "    </tr>\n",
       "    <tr>\n",
       "      <th>718</th>\n",
       "      <td>OnePlus</td>\n",
       "      <td>16.33</td>\n",
       "      <td>Android</td>\n",
       "      <td>Others</td>\n",
       "      <td>128.0</td>\n",
       "      <td>8.0</td>\n",
       "      <td>0</td>\n",
       "      <td>5G</td>\n",
       "      <td>4500 mAh</td>\n",
       "      <td>22785</td>\n",
       "      <td>64</td>\n",
       "      <td>0</td>\n",
       "      <td>0</td>\n",
       "      <td>0</td>\n",
       "    </tr>\n",
       "    <tr>\n",
       "      <th>345</th>\n",
       "      <td>vivo</td>\n",
       "      <td>17.22</td>\n",
       "      <td>Android</td>\n",
       "      <td>Snapdragon</td>\n",
       "      <td>256.0</td>\n",
       "      <td>8.0</td>\n",
       "      <td>50</td>\n",
       "      <td>2G, 3G, 4G, 5G</td>\n",
       "      <td>5000 mAh</td>\n",
       "      <td>28999</td>\n",
       "      <td>64</td>\n",
       "      <td>8</td>\n",
       "      <td>0</td>\n",
       "      <td>0</td>\n",
       "    </tr>\n",
       "    <tr>\n",
       "      <th>275</th>\n",
       "      <td>vivo</td>\n",
       "      <td>16.71</td>\n",
       "      <td>Android</td>\n",
       "      <td>MediaTek</td>\n",
       "      <td>128.0</td>\n",
       "      <td>8.0</td>\n",
       "      <td>16</td>\n",
       "      <td>5G, 4G, 3G, 2G</td>\n",
       "      <td>5000 mAh</td>\n",
       "      <td>17999</td>\n",
       "      <td>50</td>\n",
       "      <td>2</td>\n",
       "      <td>0</td>\n",
       "      <td>0</td>\n",
       "    </tr>\n",
       "    <tr>\n",
       "      <th>131</th>\n",
       "      <td>Google</td>\n",
       "      <td>15.49</td>\n",
       "      <td>Android</td>\n",
       "      <td>Google</td>\n",
       "      <td>128.0</td>\n",
       "      <td>8.0</td>\n",
       "      <td>13</td>\n",
       "      <td>5G</td>\n",
       "      <td>4300 mAh</td>\n",
       "      <td>38999</td>\n",
       "      <td>64</td>\n",
       "      <td>13</td>\n",
       "      <td>0</td>\n",
       "      <td>0</td>\n",
       "    </tr>\n",
       "  </tbody>\n",
       "</table>\n",
       "</div>"
      ],
      "text/plain": [
       "       Brand Display Size Operating System   Processor  Storage  RAM  \\\n",
       "383    REDMI        16.94          Android  Snapdragon    256.0  8.0   \n",
       "122   realme        17.02          Android    MediaTek    256.0  8.0   \n",
       "555    Nokia          6.1           Others      Others      NaN  NaN   \n",
       "418  Infinix        17.32          Android      Others     64.0  4.0   \n",
       "172    Apple        17.02              iOS       Apple    128.0  NaN   \n",
       "51     REDMI        17.25          Android    MediaTek    128.0  4.0   \n",
       "718  OnePlus        16.33          Android      Others    128.0  8.0   \n",
       "345     vivo        17.22          Android  Snapdragon    256.0  8.0   \n",
       "275     vivo        16.71          Android    MediaTek    128.0  8.0   \n",
       "131   Google        15.49          Android      Google    128.0  8.0   \n",
       "\n",
       "    Front Camera                   Network   battery  Price Camera1 Camera2  \\\n",
       "383          13   5G, 4G VOLTE, 4G, 3G, 2G  5000 mAh  18999     48       8    \n",
       "122          32   5G, 4G VOLTE, 4G, 3G, 2G  5000 mAh  25999    200       8    \n",
       "555            0                4G, 3G, 2G  1450 mAh   4699      0        0   \n",
       "418           8                 4G, 3G, 2G  6000 mAh   7499     50        0   \n",
       "172          12   5G, 4G VOLTE, 4G, 3G, 2G  4323 mAh  65999     12       12   \n",
       "51            8       2G, 3G, 4G, 4G VOLTE  5000 mAh   9499     50       8    \n",
       "718            0                        5G  4500 mAh  22785     64        0   \n",
       "345          50             2G, 3G, 4G, 5G  5000 mAh  28999     64        8   \n",
       "275          16             5G, 4G, 3G, 2G  5000 mAh  17999     50        2   \n",
       "131          13                         5G  4300 mAh  38999     64       13   \n",
       "\n",
       "    Camera3 Camera4  \n",
       "383       2       0  \n",
       "122       2       0  \n",
       "555       0       0  \n",
       "418       0       0  \n",
       "172       0       0  \n",
       "51        2       0  \n",
       "718       0       0  \n",
       "345       0       0  \n",
       "275       0       0  \n",
       "131       0       0  "
      ]
     },
     "execution_count": 36,
     "metadata": {},
     "output_type": "execute_result"
    }
   ],
   "source": [
    "df['Front Camera'].fillna(0,inplace=True)\n",
    "df['Camera1'].fillna(0,inplace=True)\n",
    "df['Camera2'].fillna(0,inplace=True)\n",
    "df['Camera3'].fillna(0,inplace=True)\n",
    "df['Camera4'].fillna(0,inplace=True)\n",
    "df.sample(10)"
   ]
  },
  {
   "cell_type": "code",
   "execution_count": 37,
   "id": "c04dc823",
   "metadata": {},
   "outputs": [],
   "source": [
    "df['battery'] = df['battery'].str.replace(\"mAh\",'')"
   ]
  },
  {
   "cell_type": "code",
   "execution_count": 38,
   "id": "9789fc16",
   "metadata": {},
   "outputs": [],
   "source": [
    "df['battery'].dropna(inplace=True)"
   ]
  },
  {
   "cell_type": "code",
   "execution_count": 39,
   "id": "f2dea6dc",
   "metadata": {},
   "outputs": [
    {
     "data": {
      "text/plain": [
       "Network\n",
       "5G                          78\n",
       "5G, 4G, 3G, 2G              44\n",
       "5G, 4G VOLTE, 4G, 3G, 2G    43\n",
       "4G, 3G, 2G                  41\n",
       "2G, 3G, 4G, 5G              29\n",
       "4G VOLTE                    25\n",
       "4G                          21\n",
       "2G, 3G, 4G                  19\n",
       "4G VOLTE, 4G, 3G, 2G        15\n",
       "4G VOLTE, 4G                13\n",
       "2G, 3G, 4G, 4G VOLTE         8\n",
       "2G, 3G, 4G, 4G VOLTE, 5G     8\n",
       "2G                           8\n",
       "5G, 4G, 3G                   7\n",
       "3G, 4G, 5G                   5\n",
       "5G, 4G VOLTE, 4G             3\n",
       "4G, 4G VOLTE                 3\n",
       "5G, 4G VOLTE                 3\n",
       "5G, 4G                       2\n",
       "2G, 3G, 4G VOLTE, 5G         2\n",
       "Name: count, dtype: int64"
      ]
     },
     "execution_count": 39,
     "metadata": {},
     "output_type": "execute_result"
    }
   ],
   "source": [
    "df['Network'].value_counts()"
   ]
  },
  {
   "cell_type": "code",
   "execution_count": 40,
   "id": "899a93df",
   "metadata": {},
   "outputs": [],
   "source": [
    "df['Network'] = df['Network'].str.replace(\"VOLTE\", '').str.replace(\"G\", '')"
   ]
  },
  {
   "cell_type": "code",
   "execution_count": 41,
   "id": "e3759f47",
   "metadata": {},
   "outputs": [],
   "source": [
    "df['Network'] = df['Network'].apply(lambda x: max(str(x).split(',')) if pd.notna(x) else x)"
   ]
  },
  {
   "cell_type": "code",
   "execution_count": 42,
   "id": "53b5fc99",
   "metadata": {},
   "outputs": [
    {
     "data": {
      "text/html": [
       "<div>\n",
       "<style scoped>\n",
       "    .dataframe tbody tr th:only-of-type {\n",
       "        vertical-align: middle;\n",
       "    }\n",
       "\n",
       "    .dataframe tbody tr th {\n",
       "        vertical-align: top;\n",
       "    }\n",
       "\n",
       "    .dataframe thead th {\n",
       "        text-align: right;\n",
       "    }\n",
       "</style>\n",
       "<table border=\"1\" class=\"dataframe\">\n",
       "  <thead>\n",
       "    <tr style=\"text-align: right;\">\n",
       "      <th></th>\n",
       "      <th>Brand</th>\n",
       "      <th>Display Size</th>\n",
       "      <th>Operating System</th>\n",
       "      <th>Processor</th>\n",
       "      <th>Storage</th>\n",
       "      <th>RAM</th>\n",
       "      <th>Front Camera</th>\n",
       "      <th>Network</th>\n",
       "      <th>battery</th>\n",
       "      <th>Price</th>\n",
       "      <th>Camera1</th>\n",
       "      <th>Camera2</th>\n",
       "      <th>Camera3</th>\n",
       "      <th>Camera4</th>\n",
       "    </tr>\n",
       "  </thead>\n",
       "  <tbody>\n",
       "    <tr>\n",
       "      <th>0</th>\n",
       "      <td>SAMSUNG</td>\n",
       "      <td>16.76</td>\n",
       "      <td>Android</td>\n",
       "      <td>Samsung</td>\n",
       "      <td>64.0</td>\n",
       "      <td>4.0</td>\n",
       "      <td>8</td>\n",
       "      <td>4</td>\n",
       "      <td>6000</td>\n",
       "      <td>7499</td>\n",
       "      <td>50</td>\n",
       "      <td>5</td>\n",
       "      <td>2</td>\n",
       "      <td>0</td>\n",
       "    </tr>\n",
       "    <tr>\n",
       "      <th>3</th>\n",
       "      <td>Apple</td>\n",
       "      <td>15.49</td>\n",
       "      <td>iOS</td>\n",
       "      <td>Apple</td>\n",
       "      <td>128.0</td>\n",
       "      <td>NaN</td>\n",
       "      <td>12</td>\n",
       "      <td>5</td>\n",
       "      <td>3349</td>\n",
       "      <td>67499</td>\n",
       "      <td>48</td>\n",
       "      <td>12</td>\n",
       "      <td>0</td>\n",
       "      <td>0</td>\n",
       "    </tr>\n",
       "    <tr>\n",
       "      <th>4</th>\n",
       "      <td>SAMSUNG</td>\n",
       "      <td>16.51</td>\n",
       "      <td>Android</td>\n",
       "      <td>MediaTek</td>\n",
       "      <td>64.0</td>\n",
       "      <td>4.0</td>\n",
       "      <td>5</td>\n",
       "      <td>4</td>\n",
       "      <td>5000</td>\n",
       "      <td>5999</td>\n",
       "      <td>13</td>\n",
       "      <td>2</td>\n",
       "      <td>0</td>\n",
       "      <td>0</td>\n",
       "    </tr>\n",
       "    <tr>\n",
       "      <th>6</th>\n",
       "      <td>Apple</td>\n",
       "      <td>15.49</td>\n",
       "      <td>iOS</td>\n",
       "      <td>Apple</td>\n",
       "      <td>128.0</td>\n",
       "      <td>NaN</td>\n",
       "      <td>12</td>\n",
       "      <td>5</td>\n",
       "      <td>3279</td>\n",
       "      <td>58999</td>\n",
       "      <td>12</td>\n",
       "      <td>12</td>\n",
       "      <td>0</td>\n",
       "      <td>0</td>\n",
       "    </tr>\n",
       "    <tr>\n",
       "      <th>10</th>\n",
       "      <td>vivo</td>\n",
       "      <td>16.71</td>\n",
       "      <td>Android</td>\n",
       "      <td>MediaTek</td>\n",
       "      <td>128.0</td>\n",
       "      <td>8.0</td>\n",
       "      <td>8</td>\n",
       "      <td>5</td>\n",
       "      <td>5000</td>\n",
       "      <td>14999</td>\n",
       "      <td>50</td>\n",
       "      <td>2</td>\n",
       "      <td>0</td>\n",
       "      <td>0</td>\n",
       "    </tr>\n",
       "    <tr>\n",
       "      <th>...</th>\n",
       "      <td>...</td>\n",
       "      <td>...</td>\n",
       "      <td>...</td>\n",
       "      <td>...</td>\n",
       "      <td>...</td>\n",
       "      <td>...</td>\n",
       "      <td>...</td>\n",
       "      <td>...</td>\n",
       "      <td>...</td>\n",
       "      <td>...</td>\n",
       "      <td>...</td>\n",
       "      <td>...</td>\n",
       "      <td>...</td>\n",
       "      <td>...</td>\n",
       "    </tr>\n",
       "    <tr>\n",
       "      <th>962</th>\n",
       "      <td>Nokia</td>\n",
       "      <td>16.55</td>\n",
       "      <td>Android</td>\n",
       "      <td>Others</td>\n",
       "      <td>64.0</td>\n",
       "      <td>4.0</td>\n",
       "      <td>8</td>\n",
       "      <td>4</td>\n",
       "      <td>5000</td>\n",
       "      <td>7869</td>\n",
       "      <td>50</td>\n",
       "      <td>2</td>\n",
       "      <td>0</td>\n",
       "      <td>0</td>\n",
       "    </tr>\n",
       "    <tr>\n",
       "      <th>967</th>\n",
       "      <td>vivo</td>\n",
       "      <td>16.71</td>\n",
       "      <td>Android</td>\n",
       "      <td>MediaTek</td>\n",
       "      <td>128.0</td>\n",
       "      <td>8.0</td>\n",
       "      <td>16</td>\n",
       "      <td>4</td>\n",
       "      <td>5000</td>\n",
       "      <td>13999</td>\n",
       "      <td>50</td>\n",
       "      <td>2</td>\n",
       "      <td>2</td>\n",
       "      <td>0</td>\n",
       "    </tr>\n",
       "    <tr>\n",
       "      <th>970</th>\n",
       "      <td>LAVA</td>\n",
       "      <td>16.66</td>\n",
       "      <td>Android</td>\n",
       "      <td>Others</td>\n",
       "      <td>128.0</td>\n",
       "      <td>6.0</td>\n",
       "      <td>0</td>\n",
       "      <td>5</td>\n",
       "      <td>5000</td>\n",
       "      <td>11449</td>\n",
       "      <td>50</td>\n",
       "      <td>0</td>\n",
       "      <td>0</td>\n",
       "      <td>0</td>\n",
       "    </tr>\n",
       "    <tr>\n",
       "      <th>971</th>\n",
       "      <td>Apple</td>\n",
       "      <td>17.02</td>\n",
       "      <td>iOS</td>\n",
       "      <td>Apple</td>\n",
       "      <td>512.0</td>\n",
       "      <td>NaN</td>\n",
       "      <td>12</td>\n",
       "      <td>5</td>\n",
       "      <td>4422</td>\n",
       "      <td>176900</td>\n",
       "      <td>48</td>\n",
       "      <td>12</td>\n",
       "      <td>12</td>\n",
       "      <td>0</td>\n",
       "    </tr>\n",
       "    <tr>\n",
       "      <th>976</th>\n",
       "      <td>realme</td>\n",
       "      <td>16.33</td>\n",
       "      <td>Android</td>\n",
       "      <td>Others</td>\n",
       "      <td>128.0</td>\n",
       "      <td>8.0</td>\n",
       "      <td>0</td>\n",
       "      <td>5</td>\n",
       "      <td>5000</td>\n",
       "      <td>16623</td>\n",
       "      <td>64</td>\n",
       "      <td>0</td>\n",
       "      <td>0</td>\n",
       "      <td>0</td>\n",
       "    </tr>\n",
       "  </tbody>\n",
       "</table>\n",
       "<p>378 rows × 14 columns</p>\n",
       "</div>"
      ],
      "text/plain": [
       "       Brand Display Size Operating System Processor  Storage  RAM  \\\n",
       "0    SAMSUNG        16.76          Android   Samsung     64.0  4.0   \n",
       "3      Apple        15.49              iOS     Apple    128.0  NaN   \n",
       "4    SAMSUNG        16.51          Android  MediaTek     64.0  4.0   \n",
       "6      Apple        15.49              iOS     Apple    128.0  NaN   \n",
       "10      vivo        16.71          Android  MediaTek    128.0  8.0   \n",
       "..       ...          ...              ...       ...      ...  ...   \n",
       "962    Nokia        16.55          Android    Others     64.0  4.0   \n",
       "967     vivo        16.71          Android  MediaTek    128.0  8.0   \n",
       "970     LAVA        16.66          Android    Others    128.0  6.0   \n",
       "971    Apple        17.02              iOS     Apple    512.0  NaN   \n",
       "976   realme        16.33          Android    Others    128.0  8.0   \n",
       "\n",
       "    Front Camera Network battery   Price Camera1 Camera2 Camera3 Camera4  \n",
       "0             8        4   6000     7499     50       5        2       0  \n",
       "3            12        5   3349    67499     48       12       0       0  \n",
       "4             5        4   5000     5999     13        2       0       0  \n",
       "6            12        5   3279    58999     12       12       0       0  \n",
       "10            8        5   5000    14999     50        2       0       0  \n",
       "..           ...     ...     ...     ...     ...     ...     ...     ...  \n",
       "962           8        4   5000     7869     50        2       0       0  \n",
       "967          16        4   5000    13999     50       2        2       0  \n",
       "970            0       5   5000    11449     50        0       0       0  \n",
       "971          12        5   4422   176900     48      12       12       0  \n",
       "976            0       5   5000    16623     64        0       0       0  \n",
       "\n",
       "[378 rows x 14 columns]"
      ]
     },
     "execution_count": 42,
     "metadata": {},
     "output_type": "execute_result"
    }
   ],
   "source": [
    "df"
   ]
  },
  {
   "cell_type": "code",
   "execution_count": 43,
   "id": "7609eff0",
   "metadata": {},
   "outputs": [],
   "source": [
    "df.loc[df['Brand'] == 'Apple', 'RAM'].fillna(6, inplace=True)"
   ]
  },
  {
   "cell_type": "code",
   "execution_count": 44,
   "id": "f0db3b2a",
   "metadata": {},
   "outputs": [],
   "source": [
    "df['Storage'].fillna(df['Storage'].median(),inplace = True)\n",
    "df['RAM'].fillna(df['RAM'].median(),inplace = True)"
   ]
  },
  {
   "cell_type": "code",
   "execution_count": 49,
   "id": "145ce0c2",
   "metadata": {},
   "outputs": [],
   "source": [
    "df['Camera3'] = df['Camera3'].str.replace('AI lens','0')"
   ]
  },
  {
   "cell_type": "code",
   "execution_count": 50,
   "id": "dcda584b",
   "metadata": {},
   "outputs": [],
   "source": [
    "df['Display Size'] = df['Display Size'].astype(float)\n",
    "df['Front Camera'] = df['Front Camera'].astype(float)\n",
    "df['Network'] = df['Network'].astype(float)\n",
    "df['battery'] = df['battery'].astype(float)\n",
    "df['Camera1'] = df['Camera1'].astype(float)\n",
    "df['Camera2'] = df['Camera2'].astype(float)\n",
    "df['Camera3'] = df['Camera3'].astype(float)\n",
    "df['Camera4'] = df['Camera4'].astype(float)"
   ]
  },
  {
   "cell_type": "code",
   "execution_count": 51,
   "id": "71db50b3",
   "metadata": {},
   "outputs": [],
   "source": [
    "df['battery'].fillna(df['battery'].mean(),inplace = True)\n",
    "df['Network'].fillna(df['Network'].median(),inplace = True)"
   ]
  },
  {
   "cell_type": "code",
   "execution_count": 52,
   "id": "e60a9b20",
   "metadata": {
    "scrolled": true
   },
   "outputs": [],
   "source": [
    "df['Camera3'].fillna(0,inplace=True)"
   ]
  },
  {
   "cell_type": "code",
   "execution_count": 53,
   "id": "94b71ba6",
   "metadata": {},
   "outputs": [
    {
     "name": "stdout",
     "output_type": "stream",
     "text": [
      "<class 'pandas.core.frame.DataFrame'>\n",
      "Index: 378 entries, 0 to 976\n",
      "Data columns (total 14 columns):\n",
      " #   Column            Non-Null Count  Dtype  \n",
      "---  ------            --------------  -----  \n",
      " 0   Brand             378 non-null    object \n",
      " 1   Display Size      378 non-null    float64\n",
      " 2   Operating System  378 non-null    object \n",
      " 3   Processor         378 non-null    object \n",
      " 4   Storage           378 non-null    float64\n",
      " 5   RAM               378 non-null    float64\n",
      " 6   Front Camera      378 non-null    float64\n",
      " 7   Network           378 non-null    float64\n",
      " 8   battery           378 non-null    float64\n",
      " 9   Price             378 non-null    int32  \n",
      " 10  Camera1           378 non-null    float64\n",
      " 11  Camera2           378 non-null    float64\n",
      " 12  Camera3           378 non-null    float64\n",
      " 13  Camera4           378 non-null    float64\n",
      "dtypes: float64(10), int32(1), object(3)\n",
      "memory usage: 42.8+ KB\n"
     ]
    }
   ],
   "source": [
    "df.info()"
   ]
  },
  {
   "cell_type": "code",
   "execution_count": 54,
   "id": "4d70eda7",
   "metadata": {},
   "outputs": [
    {
     "data": {
      "text/plain": [
       "<Axes: >"
      ]
     },
     "execution_count": 54,
     "metadata": {},
     "output_type": "execute_result"
    },
    {
     "data": {
      "image/png": "[encoded data removed]",
      "text/plain": [
       "<Figure size 640x480 with 2 Axes>"
      ]
     },
     "metadata": {},
     "output_type": "display_data"
    }
   ],
   "source": [
    "sns.heatmap(df.corr(numeric_only=True))"
   ]
  },
  {
   "cell_type": "code",
   "execution_count": 55,
   "id": "23cca86c",
   "metadata": {},
   "outputs": [
    {
     "name": "stderr",
     "output_type": "stream",
     "text": [
      "C:\\Users\\admin\\AppData\\Local\\Temp\\ipykernel_17308\\824416946.py:1: UserWarning: \n",
      "\n",
      "`distplot` is a deprecated function and will be removed in seaborn v0.14.0.\n",
      "\n",
      "Please adapt your code to use either `displot` (a figure-level function with\n",
      "similar flexibility) or `histplot` (an axes-level function for histograms).\n",
      "\n",
      "For a guide to updating your code to use the new functions, please see\n",
      "https://gist.github.com/mwaskom/de44147ed2974457ad6372750bbe5751\n",
      "\n",
      "  sns.distplot(df.Price)\n"
     ]
    },
    {
     "data": {
      "text/plain": [
       "<Axes: xlabel='Price', ylabel='Density'>"
      ]
     },
     "execution_count": 55,
     "metadata": {},
     "output_type": "execute_result"
    },
    {
     "data": {
      "image/png": "[encoded data removed]",
      "text/plain": [
       "<Figure size 640x480 with 1 Axes>"
      ]
     },
     "metadata": {},
     "output_type": "display_data"
    }
   ],
   "source": [
    "sns.distplot(df.Price)"
   ]
  },
  {
   "cell_type": "code",
   "execution_count": 56,
   "id": "0cefa2b4",
   "metadata": {},
   "outputs": [
    {
     "data": {
      "text/plain": [
       "<Axes: xlabel='Processor'>"
      ]
     },
     "execution_count": 56,
     "metadata": {},
     "output_type": "execute_result"
    },
    {
     "data": {
      "image/png": "[encoded data removed]",
      "text/plain": [
       "<Figure size 640x480 with 1 Axes>"
      ]
     },
     "metadata": {},
     "output_type": "display_data"
    }
   ],
   "source": [
    "df['Processor'].value_counts().plot(kind = 'bar')"
   ]
  },
  {
   "cell_type": "code",
   "execution_count": 57,
   "id": "d9231e93",
   "metadata": {},
   "outputs": [
    {
     "data": {
      "text/plain": [
       "<Axes: xlabel='Brand'>"
      ]
     },
     "execution_count": 57,
     "metadata": {},
     "output_type": "execute_result"
    },
    {
     "data": {
      "image/png": "[encoded data removed]",
      "text/plain": [
       "<Figure size 640x480 with 1 Axes>"
      ]
     },
     "metadata": {},
     "output_type": "display_data"
    }
   ],
   "source": [
    "df['Brand'].value_counts().plot(kind = 'bar')"
   ]
  },
  {
   "cell_type": "code",
   "execution_count": 63,
   "id": "fb72888a",
   "metadata": {},
   "outputs": [],
   "source": [
    "df['Brand'] = df['Brand'].str.replace(\"Mi\",'REDMI')\n",
    "df['Brand'] = df['Brand'].str.replace(\"Xiaomi\",'REDMI')\n",
    "df['Brand'] = df['Brand'].str.replace(\"Samsung\",'SAMSUNG')\n",
    "df['Brand'] = df['Brand'].str.replace(\"Easyfone\",'Others')\n",
    "df['Brand'] = df['Brand'].str.replace(\"LYF\",'Others')\n",
    "df['Brand'] = df['Brand'].str.replace(\"Snexian\",'Others')\n",
    "df['Brand'] = df['Brand'].str.replace(r'\\bI\\b','Others',regex=True)\n"
   ]
  },
  {
   "cell_type": "code",
   "execution_count": 64,
   "id": "aca8496d",
   "metadata": {},
   "outputs": [
    {
     "data": {
      "text/plain": [
       "<Axes: xlabel='Brand'>"
      ]
     },
     "execution_count": 64,
     "metadata": {},
     "output_type": "execute_result"
    },
    {
     "data": {
      "image/png": "[encoded data removed]",
      "text/plain": [
       "<Figure size 640x480 with 1 Axes>"
      ]
     },
     "metadata": {},
     "output_type": "display_data"
    }
   ],
   "source": [
    "df['Brand'].value_counts().plot(kind = 'bar')"
   ]
  },
  {
   "cell_type": "code",
   "execution_count": 65,
   "id": "b11a05a6",
   "metadata": {},
   "outputs": [
    {
     "data": {
      "image/png": "[encoded data removed]",
      "text/plain": [
       "<Figure size 640x480 with 1 Axes>"
      ]
     },
     "metadata": {},
     "output_type": "display_data"
    }
   ],
   "source": [
    "sns.barplot(x=df.Brand,y=df.Price)\n",
    "plt.xticks(rotation = 'vertical')\n",
    "plt.show()"
   ]
  },
  {
   "cell_type": "code",
   "execution_count": 66,
   "id": "39511247",
   "metadata": {},
   "outputs": [],
   "source": [
    "from sklearn.pipeline import Pipeline\n",
    "from sklearn.model_selection import train_test_split"
   ]
  },
  {
   "cell_type": "code",
   "execution_count": 67,
   "id": "7a773766",
   "metadata": {},
   "outputs": [
    {
     "name": "stderr",
     "output_type": "stream",
     "text": [
      "C:\\Users\\admin\\AppData\\Local\\Temp\\ipykernel_17308\\3309387210.py:3: UserWarning: \n",
      "\n",
      "`distplot` is a deprecated function and will be removed in seaborn v0.14.0.\n",
      "\n",
      "Please adapt your code to use either `displot` (a figure-level function with\n",
      "similar flexibility) or `histplot` (an axes-level function for histograms).\n",
      "\n",
      "For a guide to updating your code to use the new functions, please see\n",
      "https://gist.github.com/mwaskom/de44147ed2974457ad6372750bbe5751\n",
      "\n",
      "  sns.distplot(Y)\n"
     ]
    },
    {
     "data": {
      "text/plain": [
       "<Axes: xlabel='Price', ylabel='Density'>"
      ]
     },
     "execution_count": 67,
     "metadata": {},
     "output_type": "execute_result"
    },
    {
     "data": {
      "image/png": "[encoded data removed]",
      "text/plain": [
       "<Figure size 640x480 with 1 Axes>"
      ]
     },
     "metadata": {},
     "output_type": "display_data"
    }
   ],
   "source": [
    "X= df.drop(columns=\"Price\")\n",
    "Y = np.log(df['Price'])\n",
    "sns.distplot(Y)"
   ]
  },
  {
   "cell_type": "code",
   "execution_count": 68,
   "id": "81987727",
   "metadata": {},
   "outputs": [],
   "source": [
    "X_train,X_test,Y_train,Y_test = train_test_split(X,Y,test_size=0.2,random_state=83)"
   ]
  },
  {
   "cell_type": "code",
   "execution_count": 69,
   "id": "a8e54de5",
   "metadata": {},
   "outputs": [
    {
     "data": {
      "text/html": [
       "<div>\n",
       "<style scoped>\n",
       "    .dataframe tbody tr th:only-of-type {\n",
       "        vertical-align: middle;\n",
       "    }\n",
       "\n",
       "    .dataframe tbody tr th {\n",
       "        vertical-align: top;\n",
       "    }\n",
       "\n",
       "    .dataframe thead th {\n",
       "        text-align: right;\n",
       "    }\n",
       "</style>\n",
       "<table border=\"1\" class=\"dataframe\">\n",
       "  <thead>\n",
       "    <tr style=\"text-align: right;\">\n",
       "      <th></th>\n",
       "      <th>Brand</th>\n",
       "      <th>Display Size</th>\n",
       "      <th>Operating System</th>\n",
       "      <th>Processor</th>\n",
       "      <th>Storage</th>\n",
       "      <th>RAM</th>\n",
       "      <th>Front Camera</th>\n",
       "      <th>Network</th>\n",
       "      <th>battery</th>\n",
       "      <th>Camera1</th>\n",
       "      <th>Camera2</th>\n",
       "      <th>Camera3</th>\n",
       "      <th>Camera4</th>\n",
       "    </tr>\n",
       "  </thead>\n",
       "  <tbody>\n",
       "    <tr>\n",
       "      <th>752</th>\n",
       "      <td>Apple</td>\n",
       "      <td>15.49</td>\n",
       "      <td>iOS</td>\n",
       "      <td>Apple</td>\n",
       "      <td>512.0</td>\n",
       "      <td>6.0</td>\n",
       "      <td>12.0</td>\n",
       "      <td>5.0</td>\n",
       "      <td>4804.820856</td>\n",
       "      <td>12.0</td>\n",
       "      <td>12.0</td>\n",
       "      <td>0.0</td>\n",
       "      <td>0.0</td>\n",
       "    </tr>\n",
       "    <tr>\n",
       "      <th>230</th>\n",
       "      <td>Infinix</td>\n",
       "      <td>17.22</td>\n",
       "      <td>Android</td>\n",
       "      <td>MediaTek</td>\n",
       "      <td>128.0</td>\n",
       "      <td>4.0</td>\n",
       "      <td>8.0</td>\n",
       "      <td>2.0</td>\n",
       "      <td>6000.000000</td>\n",
       "      <td>50.0</td>\n",
       "      <td>0.0</td>\n",
       "      <td>0.0</td>\n",
       "      <td>0.0</td>\n",
       "    </tr>\n",
       "    <tr>\n",
       "      <th>182</th>\n",
       "      <td>SAMSUNG</td>\n",
       "      <td>16.26</td>\n",
       "      <td>Android</td>\n",
       "      <td>Snapdragon</td>\n",
       "      <td>128.0</td>\n",
       "      <td>8.0</td>\n",
       "      <td>32.0</td>\n",
       "      <td>5.0</td>\n",
       "      <td>4500.000000</td>\n",
       "      <td>12.0</td>\n",
       "      <td>12.0</td>\n",
       "      <td>8.0</td>\n",
       "      <td>0.0</td>\n",
       "    </tr>\n",
       "    <tr>\n",
       "      <th>200</th>\n",
       "      <td>REDMI</td>\n",
       "      <td>17.12</td>\n",
       "      <td>Android</td>\n",
       "      <td>Others</td>\n",
       "      <td>128.0</td>\n",
       "      <td>6.0</td>\n",
       "      <td>0.0</td>\n",
       "      <td>4.0</td>\n",
       "      <td>5000.000000</td>\n",
       "      <td>50.0</td>\n",
       "      <td>0.0</td>\n",
       "      <td>0.0</td>\n",
       "      <td>0.0</td>\n",
       "    </tr>\n",
       "    <tr>\n",
       "      <th>244</th>\n",
       "      <td>vivo</td>\n",
       "      <td>17.22</td>\n",
       "      <td>Android</td>\n",
       "      <td>Others</td>\n",
       "      <td>128.0</td>\n",
       "      <td>8.0</td>\n",
       "      <td>50.0</td>\n",
       "      <td>3.0</td>\n",
       "      <td>4600.000000</td>\n",
       "      <td>50.0</td>\n",
       "      <td>8.0</td>\n",
       "      <td>2.0</td>\n",
       "      <td>0.0</td>\n",
       "    </tr>\n",
       "    <tr>\n",
       "      <th>...</th>\n",
       "      <td>...</td>\n",
       "      <td>...</td>\n",
       "      <td>...</td>\n",
       "      <td>...</td>\n",
       "      <td>...</td>\n",
       "      <td>...</td>\n",
       "      <td>...</td>\n",
       "      <td>...</td>\n",
       "      <td>...</td>\n",
       "      <td>...</td>\n",
       "      <td>...</td>\n",
       "      <td>...</td>\n",
       "      <td>...</td>\n",
       "    </tr>\n",
       "    <tr>\n",
       "      <th>967</th>\n",
       "      <td>vivo</td>\n",
       "      <td>16.71</td>\n",
       "      <td>Android</td>\n",
       "      <td>MediaTek</td>\n",
       "      <td>128.0</td>\n",
       "      <td>8.0</td>\n",
       "      <td>16.0</td>\n",
       "      <td>4.0</td>\n",
       "      <td>5000.000000</td>\n",
       "      <td>50.0</td>\n",
       "      <td>2.0</td>\n",
       "      <td>2.0</td>\n",
       "      <td>0.0</td>\n",
       "    </tr>\n",
       "    <tr>\n",
       "      <th>565</th>\n",
       "      <td>LAVA</td>\n",
       "      <td>16.51</td>\n",
       "      <td>Android</td>\n",
       "      <td>Others</td>\n",
       "      <td>64.0</td>\n",
       "      <td>4.0</td>\n",
       "      <td>0.0</td>\n",
       "      <td>4.0</td>\n",
       "      <td>5000.000000</td>\n",
       "      <td>13.0</td>\n",
       "      <td>0.0</td>\n",
       "      <td>0.0</td>\n",
       "      <td>0.0</td>\n",
       "    </tr>\n",
       "    <tr>\n",
       "      <th>687</th>\n",
       "      <td>Nokia</td>\n",
       "      <td>7.11</td>\n",
       "      <td>Others</td>\n",
       "      <td>Others</td>\n",
       "      <td>128.0</td>\n",
       "      <td>6.0</td>\n",
       "      <td>0.0</td>\n",
       "      <td>2.0</td>\n",
       "      <td>1150.000000</td>\n",
       "      <td>0.0</td>\n",
       "      <td>0.0</td>\n",
       "      <td>0.0</td>\n",
       "      <td>0.0</td>\n",
       "    </tr>\n",
       "    <tr>\n",
       "      <th>44</th>\n",
       "      <td>REDMI</td>\n",
       "      <td>17.25</td>\n",
       "      <td>Android</td>\n",
       "      <td>MediaTek</td>\n",
       "      <td>128.0</td>\n",
       "      <td>6.0</td>\n",
       "      <td>8.0</td>\n",
       "      <td>2.0</td>\n",
       "      <td>5000.000000</td>\n",
       "      <td>50.0</td>\n",
       "      <td>8.0</td>\n",
       "      <td>2.0</td>\n",
       "      <td>0.0</td>\n",
       "    </tr>\n",
       "    <tr>\n",
       "      <th>173</th>\n",
       "      <td>REDMI</td>\n",
       "      <td>17.25</td>\n",
       "      <td>Android</td>\n",
       "      <td>Others</td>\n",
       "      <td>128.0</td>\n",
       "      <td>6.0</td>\n",
       "      <td>0.0</td>\n",
       "      <td>5.0</td>\n",
       "      <td>5000.000000</td>\n",
       "      <td>50.0</td>\n",
       "      <td>0.0</td>\n",
       "      <td>0.0</td>\n",
       "      <td>0.0</td>\n",
       "    </tr>\n",
       "  </tbody>\n",
       "</table>\n",
       "<p>302 rows × 13 columns</p>\n",
       "</div>"
      ],
      "text/plain": [
       "       Brand  Display Size Operating System   Processor  Storage  RAM  \\\n",
       "752    Apple         15.49              iOS       Apple    512.0  6.0   \n",
       "230  Infinix         17.22          Android    MediaTek    128.0  4.0   \n",
       "182  SAMSUNG         16.26          Android  Snapdragon    128.0  8.0   \n",
       "200    REDMI         17.12          Android      Others    128.0  6.0   \n",
       "244     vivo         17.22          Android      Others    128.0  8.0   \n",
       "..       ...           ...              ...         ...      ...  ...   \n",
       "967     vivo         16.71          Android    MediaTek    128.0  8.0   \n",
       "565     LAVA         16.51          Android      Others     64.0  4.0   \n",
       "687    Nokia          7.11           Others      Others    128.0  6.0   \n",
       "44     REDMI         17.25          Android    MediaTek    128.0  6.0   \n",
       "173    REDMI         17.25          Android      Others    128.0  6.0   \n",
       "\n",
       "     Front Camera  Network      battery  Camera1  Camera2  Camera3  Camera4  \n",
       "752          12.0      5.0  4804.820856     12.0     12.0      0.0      0.0  \n",
       "230           8.0      2.0  6000.000000     50.0      0.0      0.0      0.0  \n",
       "182          32.0      5.0  4500.000000     12.0     12.0      8.0      0.0  \n",
       "200           0.0      4.0  5000.000000     50.0      0.0      0.0      0.0  \n",
       "244          50.0      3.0  4600.000000     50.0      8.0      2.0      0.0  \n",
       "..            ...      ...          ...      ...      ...      ...      ...  \n",
       "967          16.0      4.0  5000.000000     50.0      2.0      2.0      0.0  \n",
       "565           0.0      4.0  5000.000000     13.0      0.0      0.0      0.0  \n",
       "687           0.0      2.0  1150.000000      0.0      0.0      0.0      0.0  \n",
       "44            8.0      2.0  5000.000000     50.0      8.0      2.0      0.0  \n",
       "173           0.0      5.0  5000.000000     50.0      0.0      0.0      0.0  \n",
       "\n",
       "[302 rows x 13 columns]"
      ]
     },
     "execution_count": 69,
     "metadata": {},
     "output_type": "execute_result"
    }
   ],
   "source": [
    "X_train"
   ]
  },
  {
   "cell_type": "code",
   "execution_count": 70,
   "id": "768c205a",
   "metadata": {},
   "outputs": [
    {
     "name": "stdout",
     "output_type": "stream",
     "text": [
      "R2 score 0.859157460083176\n",
      "MAE 0.20607834390962054\n"
     ]
    }
   ],
   "source": [
    "step_1 = ColumnTransformer(transformers=[\n",
    "    ('col_tnf', OneHotEncoder(sparse_output=False, drop='first'),[0,2,3])\n",
    "],remainder='passthrough')\n",
    "step_2  = LinearRegression()\n",
    "pipe = Pipeline([('step1',step_1),\n",
    "                ('step2',step_2)])\n",
    "pipe.fit(X_train,Y_train)\n",
    "y_pred = pipe.predict(X_test)\n",
    "\n",
    "print('R2 score',r2_score(Y_test,y_pred))\n",
    "print('MAE',mean_absolute_error(Y_test,y_pred))"
   ]
  },
  {
   "cell_type": "code",
   "execution_count": 71,
   "id": "b708c010",
   "metadata": {},
   "outputs": [
    {
     "name": "stdout",
     "output_type": "stream",
     "text": [
      "R2 score 0.923126185857497\n",
      "MAE 0.15468037086845163\n"
     ]
    }
   ],
   "source": [
    "step_1 = ColumnTransformer(transformers=[\n",
    "    ('col_tnf', OneHotEncoder(sparse_output=False, drop='first',handle_unknown=\"ignore\"),[0,2,3])\n",
    "],remainder='passthrough')\n",
    "step_2  = RandomForestRegressor()\n",
    "pipe_rf = Pipeline([('step1',step_1),\n",
    "                ('step2',step_2)])\n",
    "pipe_rf.fit(X_train,Y_train)\n",
    "y_pred = pipe_rf.predict(X_test)\n",
    "\n",
    "print('R2 score',r2_score(Y_test,y_pred))\n",
    "print('MAE',mean_absolute_error(Y_test,y_pred))\n"
   ]
  },
  {
   "cell_type": "code",
   "execution_count": 72,
   "id": "0c987f7b",
   "metadata": {},
   "outputs": [
    {
     "name": "stdout",
     "output_type": "stream",
     "text": [
      "R2 score 0.8672111177620666\n",
      "MAE 0.2111942192913057\n"
     ]
    }
   ],
   "source": [
    "step_1 = ColumnTransformer(transformers=[\n",
    "    ('col_tnf', OneHotEncoder(sparse_output=False, drop='first'),[0,2,3])\n",
    "],remainder='passthrough')\n",
    "step_2  = KNeighborsRegressor(n_neighbors=3)\n",
    "pipe = Pipeline([('step1',step_1),\n",
    "                ('step2',step_2)])\n",
    "pipe.fit(X_train,Y_train)\n",
    "y_pred = pipe.predict(X_test)\n",
    "\n",
    "print('R2 score',r2_score(Y_test,y_pred))\n",
    "print('MAE',mean_absolute_error(Y_test,y_pred))"
   ]
  },
  {
   "cell_type": "code",
   "execution_count": 73,
   "id": "0846060c",
   "metadata": {},
   "outputs": [
    {
     "name": "stdout",
     "output_type": "stream",
     "text": [
      "R2 score 0.8637777222222037\n",
      "MAE 0.1843444389601132\n"
     ]
    }
   ],
   "source": [
    "from sklearn.tree import DecisionTreeRegressor\n",
    "step_1 = ColumnTransformer(transformers=[\n",
    "    ('col_tnf', OneHotEncoder(sparse_output=False, drop='first'),[0,2,3])\n",
    "],remainder='passthrough')\n",
    "step_2  = DecisionTreeRegressor()\n",
    "pipe = Pipeline([('step1',step_1),\n",
    "                ('step2',step_2)])\n",
    "pipe.fit(X_train,Y_train)\n",
    "y_pred = pipe.predict(X_test)\n",
    "\n",
    "print('R2 score',r2_score(Y_test,y_pred))\n",
    "print('MAE',mean_absolute_error(Y_test,y_pred))"
   ]
  },
  {
   "cell_type": "code",
   "execution_count": 74,
   "id": "ab2b4f50",
   "metadata": {},
   "outputs": [],
   "source": [
    "def best_rs(X,Y):\n",
    "    r2_score_ =[]\n",
    "    try:\n",
    "        for i in range(1,100):\n",
    "            X_train,X_test,Y_train,Y_test = train_test_split(X,Y,test_size=0.2,random_state=i)\n",
    "            pipe_rf.fit(X_train,Y_train)\n",
    "            y_pred = pipe_rf.predict(X_test)\n",
    "            r2_score_.append(r2_score(Y_test,y_pred))\n",
    "        return r2_score_\n",
    "    except ValueError as e:\n",
    "        print(\"error\")"
   ]
  },
  {
   "cell_type": "code",
   "execution_count": 75,
   "id": "fefe6dc6",
   "metadata": {},
   "outputs": [],
   "source": [
    "import warnings\n",
    "warnings.simplefilter(\"ignore\") "
   ]
  },
  {
   "cell_type": "code",
   "execution_count": 102,
   "id": "c025db5a",
   "metadata": {},
   "outputs": [
    {
     "name": "stdout",
     "output_type": "stream",
     "text": [
      "40\n"
     ]
    }
   ],
   "source": [
    "result = best_rs(X,Y)\n",
    "print(np.argmax(result))"
   ]
  },
  {
   "cell_type": "code",
   "execution_count": 76,
   "id": "33d662e9",
   "metadata": {},
   "outputs": [
    {
     "name": "stdout",
     "output_type": "stream",
     "text": [
      "R2 score 0.9688522580878822\n",
      "MAE 0.1174899918057131\n"
     ]
    }
   ],
   "source": [
    "X_train,X_test,Y_train,Y_test = train_test_split(X,Y,test_size=0.2,random_state=41)\n",
    "step_1 = ColumnTransformer(transformers=[\n",
    "    ('col_tnf', OneHotEncoder(sparse_output=False, drop='first',handle_unknown=\"ignore\"),[0,2,3])\n",
    "],remainder='passthrough')\n",
    "step_2  = RandomForestRegressor()\n",
    "pipe_rf = Pipeline([('step1',step_1),\n",
    "                ('step2',step_2)])\n",
    "pipe_rf.fit(X_train,Y_train)\n",
    "y_pred = pipe_rf.predict(X_test)\n",
    "\n",
    "print('R2 score',r2_score(Y_test,y_pred))\n",
    "print('MAE',mean_absolute_error(Y_test,y_pred))"
   ]
  },
  {
   "cell_type": "code",
   "execution_count": 77,
   "id": "efd1e858",
   "metadata": {},
   "outputs": [
    {
     "name": "stdout",
     "output_type": "stream",
     "text": [
      "Cross-Validation Scores: [0.9117195  0.8929515  0.9259628  0.91946221 0.88327025]\n"
     ]
    }
   ],
   "source": [
    "from sklearn.model_selection import cross_val_score, KFold\n",
    "\n",
    "kf = KFold(n_splits=5, shuffle=True, random_state=42)\n",
    "\n",
    "cross_val_scores = cross_val_score(pipe_rf, X_train, Y_train, cv=kf)\n",
    "\n",
    "print(\"Cross-Validation Scores:\", cross_val_scores)"
   ]
  },
  {
   "cell_type": "code",
   "execution_count": 78,
   "id": "c11e3225",
   "metadata": {},
   "outputs": [],
   "source": [
    "import pickle\n",
    "\n",
    "pickle.dump(df,open('df_mobile.pkl','wb'))\n",
    "pickle.dump(pipe_rf,open('pipe_rf_mobile.pkl','wb'))\n"
   ]
  },
  {
   "cell_type": "code",
   "execution_count": null,
   "id": "b3c4da93",
   "metadata": {},
   "outputs": [],
   "source": []
  }
 ],
 "metadata": {
  "kernelspec": {
   "display_name": "Python 3 (ipykernel)",
   "language": "python",
   "name": "python3"
  },
  "language_info": {
   "codemirror_mode": {
    "name": "ipython",
    "version": 3
   },
   "file_extension": ".py",
   "mimetype": "text/x-python",
   "name": "python",
   "nbconvert_exporter": "python",
   "pygments_lexer": "ipython3",
   "version": "3.11.5"
  }
 },
 "nbformat": 4,
 "nbformat_minor": 5
}
