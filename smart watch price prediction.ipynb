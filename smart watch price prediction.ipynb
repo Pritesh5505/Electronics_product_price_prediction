{
 "cells": [
  {
   "cell_type": "code",
   "execution_count": 10,
   "id": "689a1c5e",
   "metadata": {},
   "outputs": [],
   "source": [
    "import pandas as pd\n",
    "import numpy as np\n",
    "from sklearn.preprocessing import OneHotEncoder\n",
    "from sklearn.preprocessing import StandardScaler\n",
    "from sklearn.compose import ColumnTransformer\n",
    "from sklearn.ensemble import RandomForestRegressor,GradientBoostingRegressor\n",
    "from sklearn.linear_model import LinearRegression\n",
    "from sklearn.neighbors import KNeighborsRegressor\n",
    "from sklearn.metrics import r2_score,mean_absolute_error\n",
    "import seaborn as sns\n",
    "import matplotlib.pyplot as plt"
   ]
  },
  {
   "cell_type": "code",
   "execution_count": 11,
   "id": "ed5ae034",
   "metadata": {},
   "outputs": [
    {
     "data": {
      "text/html": [
       "<div>\n",
       "<style scoped>\n",
       "    .dataframe tbody tr th:only-of-type {\n",
       "        vertical-align: middle;\n",
       "    }\n",
       "\n",
       "    .dataframe tbody tr th {\n",
       "        vertical-align: top;\n",
       "    }\n",
       "\n",
       "    .dataframe thead th {\n",
       "        text-align: right;\n",
       "    }\n",
       "</style>\n",
       "<table border=\"1\" class=\"dataframe\">\n",
       "  <thead>\n",
       "    <tr style=\"text-align: right;\">\n",
       "      <th></th>\n",
       "      <th>Unnamed: 0</th>\n",
       "      <th>Brand</th>\n",
       "      <th>Model Name</th>\n",
       "      <th>Display Size</th>\n",
       "      <th>Operating System</th>\n",
       "      <th>Call Function</th>\n",
       "      <th>Bluetooth</th>\n",
       "      <th>Wi_Fi</th>\n",
       "      <th>GPS</th>\n",
       "      <th>Display_Type</th>\n",
       "      <th>Display_Resolution</th>\n",
       "      <th>Touchscreen</th>\n",
       "      <th>Water_Resistance</th>\n",
       "      <th>Battery_Life</th>\n",
       "      <th>Price</th>\n",
       "    </tr>\n",
       "  </thead>\n",
       "  <tbody>\n",
       "    <tr>\n",
       "      <th>0</th>\n",
       "      <td>0</td>\n",
       "      <td>beatXP Marv Neo</td>\n",
       "      <td>Marv Neo 1.85''</td>\n",
       "      <td>46.00</td>\n",
       "      <td>Android &amp; iOS</td>\n",
       "      <td>Yes</td>\n",
       "      <td>Yes</td>\n",
       "      <td>No</td>\n",
       "      <td>No</td>\n",
       "      <td>Other</td>\n",
       "      <td>260.0</td>\n",
       "      <td>Yes</td>\n",
       "      <td>NaN</td>\n",
       "      <td>7.0</td>\n",
       "      <td>1299</td>\n",
       "    </tr>\n",
       "    <tr>\n",
       "      <th>1</th>\n",
       "      <td>1</td>\n",
       "      <td>Boult Craft 1.83\"</td>\n",
       "      <td>Craft 1.83\" HD</td>\n",
       "      <td>46.48</td>\n",
       "      <td>Android &amp; iOS</td>\n",
       "      <td>Yes</td>\n",
       "      <td>Yes</td>\n",
       "      <td>No</td>\n",
       "      <td>No</td>\n",
       "      <td>IPS TFt</td>\n",
       "      <td>262.0</td>\n",
       "      <td>Yes</td>\n",
       "      <td>1.5</td>\n",
       "      <td>7.0</td>\n",
       "      <td>1099</td>\n",
       "    </tr>\n",
       "    <tr>\n",
       "      <th>2</th>\n",
       "      <td>2</td>\n",
       "      <td>beatXP Vega X</td>\n",
       "      <td>Vega X 1.43\"</td>\n",
       "      <td>36.32</td>\n",
       "      <td>Android &amp; iOS</td>\n",
       "      <td>Yes</td>\n",
       "      <td>Yes</td>\n",
       "      <td>No</td>\n",
       "      <td>No</td>\n",
       "      <td>Super AMOLED</td>\n",
       "      <td>466.0</td>\n",
       "      <td>Yes</td>\n",
       "      <td>1.5</td>\n",
       "      <td>7.0</td>\n",
       "      <td>1999</td>\n",
       "    </tr>\n",
       "    <tr>\n",
       "      <th>3</th>\n",
       "      <td>3</td>\n",
       "      <td>beatXP Sigma 1.38''</td>\n",
       "      <td>Sigma 1.38'' HD</td>\n",
       "      <td>35.05</td>\n",
       "      <td>Android &amp; iOS</td>\n",
       "      <td>Yes</td>\n",
       "      <td>Yes</td>\n",
       "      <td>No</td>\n",
       "      <td>No</td>\n",
       "      <td>Other</td>\n",
       "      <td>NaN</td>\n",
       "      <td>Yes</td>\n",
       "      <td>NaN</td>\n",
       "      <td>7.0</td>\n",
       "      <td>1199</td>\n",
       "    </tr>\n",
       "    <tr>\n",
       "      <th>4</th>\n",
       "      <td>4</td>\n",
       "      <td>KARBONN KX30</td>\n",
       "      <td>KX30</td>\n",
       "      <td>61.00</td>\n",
       "      <td>NaN</td>\n",
       "      <td>No</td>\n",
       "      <td>No</td>\n",
       "      <td>No</td>\n",
       "      <td>No</td>\n",
       "      <td>IPS TFt</td>\n",
       "      <td>NaN</td>\n",
       "      <td>No</td>\n",
       "      <td>NaN</td>\n",
       "      <td>NaN</td>\n",
       "      <td>1299</td>\n",
       "    </tr>\n",
       "  </tbody>\n",
       "</table>\n",
       "</div>"
      ],
      "text/plain": [
       "   Unnamed: 0                Brand       Model Name  Display Size  \\\n",
       "0           0      beatXP Marv Neo  Marv Neo 1.85''         46.00   \n",
       "1           1    Boult Craft 1.83\"   Craft 1.83\" HD         46.48   \n",
       "2           2        beatXP Vega X     Vega X 1.43\"         36.32   \n",
       "3           3  beatXP Sigma 1.38''  Sigma 1.38'' HD         35.05   \n",
       "4           4       KARBONN KX30               KX30         61.00   \n",
       "\n",
       "  Operating System Call Function Bluetooth Wi_Fi GPS  Display_Type  \\\n",
       "0    Android & iOS           Yes       Yes    No  No         Other   \n",
       "1    Android & iOS           Yes       Yes    No  No       IPS TFt   \n",
       "2    Android & iOS           Yes       Yes    No  No  Super AMOLED   \n",
       "3    Android & iOS           Yes       Yes    No  No         Other   \n",
       "4              NaN            No        No    No  No       IPS TFt   \n",
       "\n",
       "   Display_Resolution Touchscreen  Water_Resistance  Battery_Life  Price  \n",
       "0               260.0         Yes               NaN           7.0   1299  \n",
       "1               262.0         Yes               1.5           7.0   1099  \n",
       "2               466.0         Yes               1.5           7.0   1999  \n",
       "3                 NaN         Yes               NaN           7.0   1199  \n",
       "4                 NaN          No               NaN           NaN   1299  "
      ]
     },
     "execution_count": 11,
     "metadata": {},
     "output_type": "execute_result"
    }
   ],
   "source": [
    "df= pd.read_csv(\"D:\\Pritesh\\ML\\web scrapping\\Smart Watch.csv\")\n",
    "df.head()"
   ]
  },
  {
   "cell_type": "code",
   "execution_count": 12,
   "id": "d5aaacb7",
   "metadata": {
    "scrolled": true
   },
   "outputs": [
    {
     "name": "stdout",
     "output_type": "stream",
     "text": [
      "<class 'pandas.core.frame.DataFrame'>\n",
      "RangeIndex: 569 entries, 0 to 568\n",
      "Data columns (total 15 columns):\n",
      " #   Column              Non-Null Count  Dtype  \n",
      "---  ------              --------------  -----  \n",
      " 0   Unnamed: 0          569 non-null    int64  \n",
      " 1   Brand               569 non-null    object \n",
      " 2   Model Name          569 non-null    object \n",
      " 3   Display Size        550 non-null    float64\n",
      " 4   Operating System    498 non-null    object \n",
      " 5   Call Function       569 non-null    object \n",
      " 6   Bluetooth           569 non-null    object \n",
      " 7   Wi_Fi               569 non-null    object \n",
      " 8   GPS                 569 non-null    object \n",
      " 9   Display_Type        569 non-null    object \n",
      " 10  Display_Resolution  438 non-null    float64\n",
      " 11  Touchscreen         569 non-null    object \n",
      " 12  Water_Resistance    273 non-null    float64\n",
      " 13  Battery_Life        495 non-null    float64\n",
      " 14  Price               569 non-null    int64  \n",
      "dtypes: float64(4), int64(2), object(9)\n",
      "memory usage: 66.8+ KB\n"
     ]
    }
   ],
   "source": [
    "df.info()"
   ]
  },
  {
   "cell_type": "code",
   "execution_count": 13,
   "id": "34fc73af",
   "metadata": {},
   "outputs": [
    {
     "data": {
      "text/plain": [
       "0"
      ]
     },
     "execution_count": 13,
     "metadata": {},
     "output_type": "execute_result"
    }
   ],
   "source": [
    "df.duplicated().sum()"
   ]
  },
  {
   "cell_type": "code",
   "execution_count": 14,
   "id": "854418ca",
   "metadata": {},
   "outputs": [
    {
     "data": {
      "text/plain": [
       "Unnamed: 0              0\n",
       "Brand                   0\n",
       "Model Name              0\n",
       "Display Size           19\n",
       "Operating System       71\n",
       "Call Function           0\n",
       "Bluetooth               0\n",
       "Wi_Fi                   0\n",
       "GPS                     0\n",
       "Display_Type            0\n",
       "Display_Resolution    131\n",
       "Touchscreen             0\n",
       "Water_Resistance      296\n",
       "Battery_Life           74\n",
       "Price                   0\n",
       "dtype: int64"
      ]
     },
     "execution_count": 14,
     "metadata": {},
     "output_type": "execute_result"
    }
   ],
   "source": [
    "df.isnull().sum()"
   ]
  },
  {
   "cell_type": "code",
   "execution_count": 15,
   "id": "9189f545",
   "metadata": {},
   "outputs": [],
   "source": [
    "df.drop(columns='Unnamed: 0',inplace=True)\n",
    "df.drop(columns='Model Name',inplace=True)\n",
    "df.drop(columns='Water_Resistance',inplace=True)"
   ]
  },
  {
   "cell_type": "code",
   "execution_count": 16,
   "id": "665ae697",
   "metadata": {},
   "outputs": [],
   "source": [
    "df['Brand'] = df['Brand'].str.split(\" \",n=1,expand=True)[0]"
   ]
  },
  {
   "cell_type": "code",
   "execution_count": 17,
   "id": "7983ebbd",
   "metadata": {},
   "outputs": [],
   "source": [
    "brand = df['Brand'].value_counts()"
   ]
  },
  {
   "cell_type": "code",
   "execution_count": 18,
   "id": "0208eea3",
   "metadata": {},
   "outputs": [],
   "source": [
    "other_brand = brand[brand<5].index.to_list()\n",
    "df['Brand'] = df['Brand'].apply([lambda x: \"others\" if x in other_brand else x])"
   ]
  },
  {
   "cell_type": "code",
   "execution_count": 19,
   "id": "b1d6e5ec",
   "metadata": {},
   "outputs": [],
   "source": [
    "df['Display Size'].fillna(df['Display Size'].mean(),inplace=True)"
   ]
  },
  {
   "cell_type": "code",
   "execution_count": 22,
   "id": "3ca9d413",
   "metadata": {},
   "outputs": [],
   "source": [
    "df['Operating System'] = df['Operating System'].str.replace(\"Proprietary OS\",\"Others\").str.replace(\"Windows\",\"Others\")\n"
   ]
  },
  {
   "cell_type": "code",
   "execution_count": 29,
   "id": "1bc7cf0f",
   "metadata": {},
   "outputs": [],
   "source": [
    "df['Operating System'].fillna(df['Operating System'].mode().iloc[0],inplace=True)"
   ]
  },
  {
   "cell_type": "code",
   "execution_count": 34,
   "id": "b7966d02",
   "metadata": {},
   "outputs": [],
   "source": [
    "df['Call Function'] = df[\"Call Function\"].str.replace(\"Yes\",\"1\").str.replace(\"No\",\"0\").astype(\"int\")"
   ]
  },
  {
   "cell_type": "code",
   "execution_count": 37,
   "id": "6d1711de",
   "metadata": {},
   "outputs": [],
   "source": [
    "df['GPS'] = df[\"GPS\"].str.replace(\"Yes\",\"1\").str.replace(\"No\",\"0\").astype(\"int\")\n",
    "df['Bluetooth'] = df[\"Bluetooth\"].str.replace(\"Yes\",\"1\").str.replace(\"No\",\"0\").astype(\"int\")\n",
    "df['Wi_Fi'] = df[\"Wi_Fi\"].str.replace(\"Yes\",\"1\").str.replace(\"No\",\"0\").astype(\"int\")\n",
    "df['Touchscreen'] = df[\"Touchscreen\"].str.replace(\"Yes\",\"1\").str.replace(\"No\",\"0\").astype(\"int\")"
   ]
  },
  {
   "cell_type": "code",
   "execution_count": 43,
   "id": "70ec9548",
   "metadata": {},
   "outputs": [],
   "source": [
    "df['Display_Resolution'].fillna(df['Display_Resolution'].mean(),inplace=True)"
   ]
  },
  {
   "cell_type": "code",
   "execution_count": 45,
   "id": "b59034f6",
   "metadata": {},
   "outputs": [],
   "source": [
    "df['Battery_Life'].fillna(df['Battery_Life'].mean(),inplace=True)"
   ]
  },
  {
   "cell_type": "code",
   "execution_count": 46,
   "id": "bb122622",
   "metadata": {},
   "outputs": [
    {
     "data": {
      "text/plain": [
       "0      1299\n",
       "1      1099\n",
       "2      1999\n",
       "3      1199\n",
       "4      1299\n",
       "       ... \n",
       "564     800\n",
       "565    3999\n",
       "566     650\n",
       "567    1499\n",
       "568    2999\n",
       "Name: Price, Length: 569, dtype: int64"
      ]
     },
     "execution_count": 46,
     "metadata": {},
     "output_type": "execute_result"
    }
   ],
   "source": [
    "df['Price']"
   ]
  },
  {
   "cell_type": "code",
   "execution_count": 47,
   "id": "fc0e0b7c",
   "metadata": {},
   "outputs": [
    {
     "data": {
      "text/html": [
       "<div>\n",
       "<style scoped>\n",
       "    .dataframe tbody tr th:only-of-type {\n",
       "        vertical-align: middle;\n",
       "    }\n",
       "\n",
       "    .dataframe tbody tr th {\n",
       "        vertical-align: top;\n",
       "    }\n",
       "\n",
       "    .dataframe thead th {\n",
       "        text-align: right;\n",
       "    }\n",
       "</style>\n",
       "<table border=\"1\" class=\"dataframe\">\n",
       "  <thead>\n",
       "    <tr style=\"text-align: right;\">\n",
       "      <th></th>\n",
       "      <th>Brand</th>\n",
       "      <th>Display Size</th>\n",
       "      <th>Operating System</th>\n",
       "      <th>Call Function</th>\n",
       "      <th>Bluetooth</th>\n",
       "      <th>Wi_Fi</th>\n",
       "      <th>GPS</th>\n",
       "      <th>Display_Type</th>\n",
       "      <th>Display_Resolution</th>\n",
       "      <th>Touchscreen</th>\n",
       "      <th>Battery_Life</th>\n",
       "      <th>Price</th>\n",
       "    </tr>\n",
       "  </thead>\n",
       "  <tbody>\n",
       "    <tr>\n",
       "      <th>416</th>\n",
       "      <td>Fastrack</td>\n",
       "      <td>49.530000</td>\n",
       "      <td>Android &amp; iOS</td>\n",
       "      <td>1</td>\n",
       "      <td>1</td>\n",
       "      <td>0</td>\n",
       "      <td>0</td>\n",
       "      <td>IPS LCD</td>\n",
       "      <td>261.000000</td>\n",
       "      <td>1</td>\n",
       "      <td>5.000000</td>\n",
       "      <td>2299</td>\n",
       "    </tr>\n",
       "    <tr>\n",
       "      <th>499</th>\n",
       "      <td>others</td>\n",
       "      <td>60.482135</td>\n",
       "      <td>Android &amp; iOS</td>\n",
       "      <td>1</td>\n",
       "      <td>1</td>\n",
       "      <td>0</td>\n",
       "      <td>0</td>\n",
       "      <td>IPS TFt</td>\n",
       "      <td>240.000000</td>\n",
       "      <td>1</td>\n",
       "      <td>2.000000</td>\n",
       "      <td>823</td>\n",
       "    </tr>\n",
       "    <tr>\n",
       "      <th>563</th>\n",
       "      <td>others</td>\n",
       "      <td>49.000000</td>\n",
       "      <td>Android</td>\n",
       "      <td>1</td>\n",
       "      <td>1</td>\n",
       "      <td>1</td>\n",
       "      <td>1</td>\n",
       "      <td>Other</td>\n",
       "      <td>550.000000</td>\n",
       "      <td>1</td>\n",
       "      <td>1.500000</td>\n",
       "      <td>639</td>\n",
       "    </tr>\n",
       "    <tr>\n",
       "      <th>558</th>\n",
       "      <td>Fire-Boltt</td>\n",
       "      <td>45.212000</td>\n",
       "      <td>Android &amp; iOS</td>\n",
       "      <td>1</td>\n",
       "      <td>1</td>\n",
       "      <td>0</td>\n",
       "      <td>0</td>\n",
       "      <td>AMOLED</td>\n",
       "      <td>408.000000</td>\n",
       "      <td>1</td>\n",
       "      <td>7.000000</td>\n",
       "      <td>2999</td>\n",
       "    </tr>\n",
       "    <tr>\n",
       "      <th>543</th>\n",
       "      <td>others</td>\n",
       "      <td>45.000000</td>\n",
       "      <td>Android &amp; iOS</td>\n",
       "      <td>1</td>\n",
       "      <td>1</td>\n",
       "      <td>1</td>\n",
       "      <td>1</td>\n",
       "      <td>TFT LED</td>\n",
       "      <td>373.977169</td>\n",
       "      <td>1</td>\n",
       "      <td>10.000000</td>\n",
       "      <td>799</td>\n",
       "    </tr>\n",
       "    <tr>\n",
       "      <th>47</th>\n",
       "      <td>Pebble</td>\n",
       "      <td>35.300000</td>\n",
       "      <td>Android &amp; iOS</td>\n",
       "      <td>1</td>\n",
       "      <td>1</td>\n",
       "      <td>0</td>\n",
       "      <td>0</td>\n",
       "      <td>HD</td>\n",
       "      <td>373.977169</td>\n",
       "      <td>1</td>\n",
       "      <td>7.000000</td>\n",
       "      <td>1299</td>\n",
       "    </tr>\n",
       "    <tr>\n",
       "      <th>216</th>\n",
       "      <td>Apple</td>\n",
       "      <td>41.000000</td>\n",
       "      <td>iOS</td>\n",
       "      <td>1</td>\n",
       "      <td>1</td>\n",
       "      <td>1</td>\n",
       "      <td>1</td>\n",
       "      <td>OLED Retina</td>\n",
       "      <td>391.000000</td>\n",
       "      <td>1</td>\n",
       "      <td>0.750000</td>\n",
       "      <td>27999</td>\n",
       "    </tr>\n",
       "    <tr>\n",
       "      <th>363</th>\n",
       "      <td>others</td>\n",
       "      <td>61.000000</td>\n",
       "      <td>Android &amp; iOS</td>\n",
       "      <td>0</td>\n",
       "      <td>0</td>\n",
       "      <td>0</td>\n",
       "      <td>0</td>\n",
       "      <td>Other</td>\n",
       "      <td>373.977169</td>\n",
       "      <td>0</td>\n",
       "      <td>7.697054</td>\n",
       "      <td>1169</td>\n",
       "    </tr>\n",
       "    <tr>\n",
       "      <th>485</th>\n",
       "      <td>MOTOROLA</td>\n",
       "      <td>165.100000</td>\n",
       "      <td>Android &amp; iOS</td>\n",
       "      <td>0</td>\n",
       "      <td>0</td>\n",
       "      <td>1</td>\n",
       "      <td>0</td>\n",
       "      <td>IPS LCD</td>\n",
       "      <td>373.977169</td>\n",
       "      <td>1</td>\n",
       "      <td>7.697054</td>\n",
       "      <td>7399</td>\n",
       "    </tr>\n",
       "    <tr>\n",
       "      <th>167</th>\n",
       "      <td>Noise</td>\n",
       "      <td>46.990000</td>\n",
       "      <td>Android &amp; iOS</td>\n",
       "      <td>1</td>\n",
       "      <td>1</td>\n",
       "      <td>0</td>\n",
       "      <td>0</td>\n",
       "      <td>IPS TFt</td>\n",
       "      <td>262.000000</td>\n",
       "      <td>1</td>\n",
       "      <td>7.000000</td>\n",
       "      <td>1399</td>\n",
       "    </tr>\n",
       "  </tbody>\n",
       "</table>\n",
       "</div>"
      ],
      "text/plain": [
       "          Brand  Display Size Operating System  Call Function  Bluetooth  \\\n",
       "416    Fastrack     49.530000    Android & iOS              1          1   \n",
       "499      others     60.482135    Android & iOS              1          1   \n",
       "563      others     49.000000          Android              1          1   \n",
       "558  Fire-Boltt     45.212000    Android & iOS              1          1   \n",
       "543      others     45.000000    Android & iOS              1          1   \n",
       "47       Pebble     35.300000    Android & iOS              1          1   \n",
       "216       Apple     41.000000              iOS              1          1   \n",
       "363      others     61.000000    Android & iOS              0          0   \n",
       "485    MOTOROLA    165.100000    Android & iOS              0          0   \n",
       "167       Noise     46.990000    Android & iOS              1          1   \n",
       "\n",
       "     Wi_Fi  GPS Display_Type  Display_Resolution  Touchscreen  Battery_Life  \\\n",
       "416      0    0      IPS LCD          261.000000            1      5.000000   \n",
       "499      0    0      IPS TFt          240.000000            1      2.000000   \n",
       "563      1    1        Other          550.000000            1      1.500000   \n",
       "558      0    0       AMOLED          408.000000            1      7.000000   \n",
       "543      1    1      TFT LED          373.977169            1     10.000000   \n",
       "47       0    0           HD          373.977169            1      7.000000   \n",
       "216      1    1  OLED Retina          391.000000            1      0.750000   \n",
       "363      0    0        Other          373.977169            0      7.697054   \n",
       "485      1    0      IPS LCD          373.977169            1      7.697054   \n",
       "167      0    0      IPS TFt          262.000000            1      7.000000   \n",
       "\n",
       "     Price  \n",
       "416   2299  \n",
       "499    823  \n",
       "563    639  \n",
       "558   2999  \n",
       "543    799  \n",
       "47    1299  \n",
       "216  27999  \n",
       "363   1169  \n",
       "485   7399  \n",
       "167   1399  "
      ]
     },
     "execution_count": 47,
     "metadata": {},
     "output_type": "execute_result"
    }
   ],
   "source": [
    "df.sample(10)"
   ]
  },
  {
   "cell_type": "code",
   "execution_count": 48,
   "id": "d9461862",
   "metadata": {},
   "outputs": [
    {
     "data": {
      "text/plain": [
       "<Axes: >"
      ]
     },
     "execution_count": 48,
     "metadata": {},
     "output_type": "execute_result"
    },
    {
     "data": {
      "image/png": "[encoded data removed]",
      "text/plain": [
       "<Figure size 640x480 with 2 Axes>"
      ]
     },
     "metadata": {},
     "output_type": "display_data"
    }
   ],
   "source": [
    "sns.heatmap(df.corr(numeric_only=True))"
   ]
  },
  {
   "cell_type": "code",
   "execution_count": 49,
   "id": "63d660a1",
   "metadata": {},
   "outputs": [
    {
     "name": "stderr",
     "output_type": "stream",
     "text": [
      "C:\\Users\\admin\\AppData\\Local\\Temp\\ipykernel_18544\\824416946.py:1: UserWarning: \n",
      "\n",
      "`distplot` is a deprecated function and will be removed in seaborn v0.14.0.\n",
      "\n",
      "Please adapt your code to use either `displot` (a figure-level function with\n",
      "similar flexibility) or `histplot` (an axes-level function for histograms).\n",
      "\n",
      "For a guide to updating your code to use the new functions, please see\n",
      "https://gist.github.com/mwaskom/de44147ed2974457ad6372750bbe5751\n",
      "\n",
      "  sns.distplot(df.Price)\n"
     ]
    },
    {
     "data": {
      "text/plain": [
       "<Axes: xlabel='Price', ylabel='Density'>"
      ]
     },
     "execution_count": 49,
     "metadata": {},
     "output_type": "execute_result"
    },
    {
     "data": {
      "image/png": "[encoded data removed]",
      "text/plain": [
       "<Figure size 640x480 with 1 Axes>"
      ]
     },
     "metadata": {},
     "output_type": "display_data"
    }
   ],
   "source": [
    "sns.distplot(df.Price)"
   ]
  },
  {
   "cell_type": "code",
   "execution_count": 51,
   "id": "d3208525",
   "metadata": {},
   "outputs": [
    {
     "data": {
      "text/plain": [
       "<Axes: xlabel='Brand'>"
      ]
     },
     "execution_count": 51,
     "metadata": {},
     "output_type": "execute_result"
    },
    {
     "data": {
      "image/png": "[encoded data removed]",
      "text/plain": [
       "<Figure size 640x480 with 1 Axes>"
      ]
     },
     "metadata": {},
     "output_type": "display_data"
    }
   ],
   "source": [
    "df['Brand'].value_counts().plot(kind = 'bar')"
   ]
  },
  {
   "cell_type": "code",
   "execution_count": 52,
   "id": "767a81e8",
   "metadata": {},
   "outputs": [
    {
     "data": {
      "image/png": "[encoded data removed]",
      "text/plain": [
       "<Figure size 640x480 with 1 Axes>"
      ]
     },
     "metadata": {},
     "output_type": "display_data"
    }
   ],
   "source": [
    "sns.barplot(x=df.Brand,y=df.Price)\n",
    "plt.xticks(rotation = 'vertical')\n",
    "plt.show()"
   ]
  },
  {
   "cell_type": "code",
   "execution_count": 53,
   "id": "a78b39d9",
   "metadata": {},
   "outputs": [
    {
     "data": {
      "image/png": "[encoded data removed]",
      "text/plain": [
       "<Figure size 640x480 with 1 Axes>"
      ]
     },
     "metadata": {},
     "output_type": "display_data"
    }
   ],
   "source": [
    "sns.barplot(x=df['Operating System'],y=df.Price)\n",
    "plt.xticks(rotation = \"vertical\")\n",
    "plt.show()"
   ]
  },
  {
   "cell_type": "code",
   "execution_count": 54,
   "id": "210bd25d",
   "metadata": {},
   "outputs": [],
   "source": [
    "from sklearn.pipeline import Pipeline\n",
    "from sklearn.model_selection import train_test_split"
   ]
  },
  {
   "cell_type": "code",
   "execution_count": 55,
   "id": "1d25688c",
   "metadata": {},
   "outputs": [
    {
     "name": "stderr",
     "output_type": "stream",
     "text": [
      "C:\\Users\\admin\\AppData\\Local\\Temp\\ipykernel_18544\\3309387210.py:3: UserWarning: \n",
      "\n",
      "`distplot` is a deprecated function and will be removed in seaborn v0.14.0.\n",
      "\n",
      "Please adapt your code to use either `displot` (a figure-level function with\n",
      "similar flexibility) or `histplot` (an axes-level function for histograms).\n",
      "\n",
      "For a guide to updating your code to use the new functions, please see\n",
      "https://gist.github.com/mwaskom/de44147ed2974457ad6372750bbe5751\n",
      "\n",
      "  sns.distplot(Y)\n"
     ]
    },
    {
     "data": {
      "text/plain": [
       "<Axes: xlabel='Price', ylabel='Density'>"
      ]
     },
     "execution_count": 55,
     "metadata": {},
     "output_type": "execute_result"
    },
    {
     "data": {
      "image/png": "[encoded data removed]",
      "text/plain": [
       "<Figure size 640x480 with 1 Axes>"
      ]
     },
     "metadata": {},
     "output_type": "display_data"
    }
   ],
   "source": [
    "X= df.drop(columns=\"Price\")\n",
    "Y = np.log(df['Price'])\n",
    "sns.distplot(Y)"
   ]
  },
  {
   "cell_type": "code",
   "execution_count": 56,
   "id": "dbd0e6ac",
   "metadata": {},
   "outputs": [],
   "source": [
    "X_train,X_test,Y_train,Y_test = train_test_split(X,Y,test_size=0.2)"
   ]
  },
  {
   "cell_type": "code",
   "execution_count": 57,
   "id": "120cc549",
   "metadata": {},
   "outputs": [
    {
     "data": {
      "text/html": [
       "<div>\n",
       "<style scoped>\n",
       "    .dataframe tbody tr th:only-of-type {\n",
       "        vertical-align: middle;\n",
       "    }\n",
       "\n",
       "    .dataframe tbody tr th {\n",
       "        vertical-align: top;\n",
       "    }\n",
       "\n",
       "    .dataframe thead th {\n",
       "        text-align: right;\n",
       "    }\n",
       "</style>\n",
       "<table border=\"1\" class=\"dataframe\">\n",
       "  <thead>\n",
       "    <tr style=\"text-align: right;\">\n",
       "      <th></th>\n",
       "      <th>Brand</th>\n",
       "      <th>Display Size</th>\n",
       "      <th>Operating System</th>\n",
       "      <th>Call Function</th>\n",
       "      <th>Bluetooth</th>\n",
       "      <th>Wi_Fi</th>\n",
       "      <th>GPS</th>\n",
       "      <th>Display_Type</th>\n",
       "      <th>Display_Resolution</th>\n",
       "      <th>Touchscreen</th>\n",
       "      <th>Battery_Life</th>\n",
       "    </tr>\n",
       "  </thead>\n",
       "  <tbody>\n",
       "    <tr>\n",
       "      <th>340</th>\n",
       "      <td>Melbon</td>\n",
       "      <td>49.00</td>\n",
       "      <td>Android &amp; iOS</td>\n",
       "      <td>1</td>\n",
       "      <td>1</td>\n",
       "      <td>0</td>\n",
       "      <td>0</td>\n",
       "      <td>AMOLED</td>\n",
       "      <td>373.977169</td>\n",
       "      <td>1</td>\n",
       "      <td>3.000000</td>\n",
       "    </tr>\n",
       "    <tr>\n",
       "      <th>525</th>\n",
       "      <td>Fire-Boltt</td>\n",
       "      <td>33.02</td>\n",
       "      <td>Android &amp; iOS</td>\n",
       "      <td>1</td>\n",
       "      <td>1</td>\n",
       "      <td>0</td>\n",
       "      <td>0</td>\n",
       "      <td>IPS TFt</td>\n",
       "      <td>240.000000</td>\n",
       "      <td>1</td>\n",
       "      <td>15.000000</td>\n",
       "    </tr>\n",
       "    <tr>\n",
       "      <th>85</th>\n",
       "      <td>Boult</td>\n",
       "      <td>36.32</td>\n",
       "      <td>Android &amp; iOS</td>\n",
       "      <td>1</td>\n",
       "      <td>1</td>\n",
       "      <td>0</td>\n",
       "      <td>0</td>\n",
       "      <td>AMOLED</td>\n",
       "      <td>466.000000</td>\n",
       "      <td>1</td>\n",
       "      <td>7.000000</td>\n",
       "    </tr>\n",
       "    <tr>\n",
       "      <th>452</th>\n",
       "      <td>boAt</td>\n",
       "      <td>46.40</td>\n",
       "      <td>Android &amp; iOS</td>\n",
       "      <td>1</td>\n",
       "      <td>1</td>\n",
       "      <td>0</td>\n",
       "      <td>0</td>\n",
       "      <td>Other</td>\n",
       "      <td>262.000000</td>\n",
       "      <td>1</td>\n",
       "      <td>7.000000</td>\n",
       "    </tr>\n",
       "    <tr>\n",
       "      <th>39</th>\n",
       "      <td>others</td>\n",
       "      <td>43.18</td>\n",
       "      <td>Android &amp; iOS</td>\n",
       "      <td>1</td>\n",
       "      <td>1</td>\n",
       "      <td>0</td>\n",
       "      <td>0</td>\n",
       "      <td>IPS TFt</td>\n",
       "      <td>260.000000</td>\n",
       "      <td>1</td>\n",
       "      <td>3.000000</td>\n",
       "    </tr>\n",
       "    <tr>\n",
       "      <th>...</th>\n",
       "      <td>...</td>\n",
       "      <td>...</td>\n",
       "      <td>...</td>\n",
       "      <td>...</td>\n",
       "      <td>...</td>\n",
       "      <td>...</td>\n",
       "      <td>...</td>\n",
       "      <td>...</td>\n",
       "      <td>...</td>\n",
       "      <td>...</td>\n",
       "      <td>...</td>\n",
       "    </tr>\n",
       "    <tr>\n",
       "      <th>81</th>\n",
       "      <td>REDMI</td>\n",
       "      <td>172.50</td>\n",
       "      <td>Android &amp; iOS</td>\n",
       "      <td>0</td>\n",
       "      <td>0</td>\n",
       "      <td>1</td>\n",
       "      <td>0</td>\n",
       "      <td>HD</td>\n",
       "      <td>373.977169</td>\n",
       "      <td>1</td>\n",
       "      <td>7.697054</td>\n",
       "    </tr>\n",
       "    <tr>\n",
       "      <th>320</th>\n",
       "      <td>boAt</td>\n",
       "      <td>41.91</td>\n",
       "      <td>Android &amp; iOS</td>\n",
       "      <td>0</td>\n",
       "      <td>1</td>\n",
       "      <td>0</td>\n",
       "      <td>0</td>\n",
       "      <td>Other</td>\n",
       "      <td>260.000000</td>\n",
       "      <td>1</td>\n",
       "      <td>10.000000</td>\n",
       "    </tr>\n",
       "    <tr>\n",
       "      <th>462</th>\n",
       "      <td>Pebble</td>\n",
       "      <td>48.51</td>\n",
       "      <td>Android &amp; iOS</td>\n",
       "      <td>1</td>\n",
       "      <td>1</td>\n",
       "      <td>0</td>\n",
       "      <td>0</td>\n",
       "      <td>IPS TFt</td>\n",
       "      <td>352.000000</td>\n",
       "      <td>1</td>\n",
       "      <td>0.208333</td>\n",
       "    </tr>\n",
       "    <tr>\n",
       "      <th>108</th>\n",
       "      <td>others</td>\n",
       "      <td>50.00</td>\n",
       "      <td>Android &amp; iOS</td>\n",
       "      <td>1</td>\n",
       "      <td>1</td>\n",
       "      <td>1</td>\n",
       "      <td>0</td>\n",
       "      <td>Other</td>\n",
       "      <td>373.977169</td>\n",
       "      <td>1</td>\n",
       "      <td>3.000000</td>\n",
       "    </tr>\n",
       "    <tr>\n",
       "      <th>60</th>\n",
       "      <td>others</td>\n",
       "      <td>40.00</td>\n",
       "      <td>Android &amp; iOS</td>\n",
       "      <td>1</td>\n",
       "      <td>1</td>\n",
       "      <td>0</td>\n",
       "      <td>0</td>\n",
       "      <td>Other</td>\n",
       "      <td>240.000000</td>\n",
       "      <td>1</td>\n",
       "      <td>5.000000</td>\n",
       "    </tr>\n",
       "  </tbody>\n",
       "</table>\n",
       "<p>455 rows × 11 columns</p>\n",
       "</div>"
      ],
      "text/plain": [
       "          Brand  Display Size Operating System  Call Function  Bluetooth  \\\n",
       "340      Melbon         49.00    Android & iOS              1          1   \n",
       "525  Fire-Boltt         33.02    Android & iOS              1          1   \n",
       "85        Boult         36.32    Android & iOS              1          1   \n",
       "452        boAt         46.40    Android & iOS              1          1   \n",
       "39       others         43.18    Android & iOS              1          1   \n",
       "..          ...           ...              ...            ...        ...   \n",
       "81        REDMI        172.50    Android & iOS              0          0   \n",
       "320        boAt         41.91    Android & iOS              0          1   \n",
       "462      Pebble         48.51    Android & iOS              1          1   \n",
       "108      others         50.00    Android & iOS              1          1   \n",
       "60       others         40.00    Android & iOS              1          1   \n",
       "\n",
       "     Wi_Fi  GPS Display_Type  Display_Resolution  Touchscreen  Battery_Life  \n",
       "340      0    0       AMOLED          373.977169            1      3.000000  \n",
       "525      0    0      IPS TFt          240.000000            1     15.000000  \n",
       "85       0    0       AMOLED          466.000000            1      7.000000  \n",
       "452      0    0        Other          262.000000            1      7.000000  \n",
       "39       0    0      IPS TFt          260.000000            1      3.000000  \n",
       "..     ...  ...          ...                 ...          ...           ...  \n",
       "81       1    0           HD          373.977169            1      7.697054  \n",
       "320      0    0        Other          260.000000            1     10.000000  \n",
       "462      0    0      IPS TFt          352.000000            1      0.208333  \n",
       "108      1    0        Other          373.977169            1      3.000000  \n",
       "60       0    0        Other          240.000000            1      5.000000  \n",
       "\n",
       "[455 rows x 11 columns]"
      ]
     },
     "execution_count": 57,
     "metadata": {},
     "output_type": "execute_result"
    }
   ],
   "source": [
    "X_train"
   ]
  },
  {
   "cell_type": "code",
   "execution_count": 58,
   "id": "84e28670",
   "metadata": {},
   "outputs": [
    {
     "name": "stdout",
     "output_type": "stream",
     "text": [
      "R2 score 0.8831418481959097\n",
      "MAE 0.2748074901694378\n"
     ]
    }
   ],
   "source": [
    "step_1 = ColumnTransformer(transformers=[\n",
    "    ('col_tnf', OneHotEncoder(sparse_output=False, drop='first'),[0,2,7])\n",
    "],remainder='passthrough')\n",
    "step_2  = LinearRegression()\n",
    "pipe = Pipeline([('step1',step_1),\n",
    "                ('step2',step_2)])\n",
    "pipe.fit(X_train,Y_train)\n",
    "y_pred = pipe.predict(X_test)\n",
    "\n",
    "print('R2 score',r2_score(Y_test,y_pred))\n",
    "print('MAE',mean_absolute_error(Y_test,y_pred))\n"
   ]
  },
  {
   "cell_type": "code",
   "execution_count": 59,
   "id": "5a8b88d3",
   "metadata": {},
   "outputs": [
    {
     "name": "stdout",
     "output_type": "stream",
     "text": [
      "R2 score 0.8622557279434144\n",
      "MAE 0.24072215041349534\n"
     ]
    }
   ],
   "source": [
    "step_1 = ColumnTransformer(transformers=[\n",
    "    ('col_tnf', OneHotEncoder(sparse_output=False, drop='first',handle_unknown=\"ignore\"),[0,2,7])\n",
    "],remainder='passthrough')\n",
    "step_2  = RandomForestRegressor()\n",
    "pipe_rf = Pipeline([('step1',step_1),\n",
    "                ('step2',step_2)])\n",
    "pipe_rf.fit(X_train,Y_train)\n",
    "y_pred = pipe_rf.predict(X_test)\n",
    "\n",
    "print('R2 score',r2_score(Y_test,y_pred))\n",
    "print('MAE',mean_absolute_error(Y_test,y_pred))\n"
   ]
  },
  {
   "cell_type": "code",
   "execution_count": 60,
   "id": "26db2ead",
   "metadata": {},
   "outputs": [
    {
     "name": "stdout",
     "output_type": "stream",
     "text": [
      "R2 score 0.7780600358798055\n",
      "MAE 0.33207876184466695\n"
     ]
    }
   ],
   "source": [
    "step_1 = ColumnTransformer(transformers=[\n",
    "    ('col_tnf', OneHotEncoder(sparse_output=False, drop='first'),[0,2,7])\n",
    "],remainder='passthrough')\n",
    "step_2  = KNeighborsRegressor(n_neighbors=3)\n",
    "pipe = Pipeline([('step1',step_1),\n",
    "                ('step2',step_2)])\n",
    "pipe.fit(X_train,Y_train)\n",
    "y_pred = pipe.predict(X_test)\n",
    "\n",
    "print('R2 score',r2_score(Y_test,y_pred))\n",
    "print('MAE',mean_absolute_error(Y_test,y_pred))\n"
   ]
  },
  {
   "cell_type": "code",
   "execution_count": 61,
   "id": "07b6e68d",
   "metadata": {},
   "outputs": [
    {
     "name": "stdout",
     "output_type": "stream",
     "text": [
      "R2 score 0.8188601302048151\n",
      "MAE 0.24866414135164736\n"
     ]
    }
   ],
   "source": [
    "from sklearn.tree import DecisionTreeRegressor\n",
    "step_1 = ColumnTransformer(transformers=[\n",
    "    ('col_tnf', OneHotEncoder(sparse_output=False, drop='first'),[0,2,7])\n",
    "],remainder='passthrough')\n",
    "step_2  = DecisionTreeRegressor()\n",
    "pipe = Pipeline([('step1',step_1),\n",
    "                ('step2',step_2)])\n",
    "pipe.fit(X_train,Y_train)\n",
    "y_pred = pipe.predict(X_test)\n",
    "\n",
    "print('R2 score',r2_score(Y_test,y_pred))\n",
    "print('MAE',mean_absolute_error(Y_test,y_pred))\n"
   ]
  },
  {
   "cell_type": "code",
   "execution_count": 62,
   "id": "d0c1121b",
   "metadata": {},
   "outputs": [
    {
     "name": "stdout",
     "output_type": "stream",
     "text": [
      "R2 score 0.8919227561191929\n",
      "MAE 0.2156227204341565\n"
     ]
    }
   ],
   "source": [
    "from xgboost import XGBRegressor\n",
    "step_1 = ColumnTransformer(transformers=[\n",
    "    ('col_tnf', OneHotEncoder(sparse_output=False, drop='first'),[0,2,7])\n",
    "],remainder='passthrough')\n",
    "step_2 = XGBRegressor(n_estimators=45,max_depth=5,learning_rate=0.5)\n",
    "pipe = Pipeline([('step1',step_1),\n",
    "                ('step2',step_2)])\n",
    "pipe.fit(X_train,Y_train)\n",
    "y_pred = pipe.predict(X_test)\n",
    "\n",
    "print('R2 score',r2_score(Y_test,y_pred))\n",
    "print('MAE',mean_absolute_error(Y_test,y_pred))\n"
   ]
  },
  {
   "cell_type": "code",
   "execution_count": 63,
   "id": "d8d96e8e",
   "metadata": {},
   "outputs": [
    {
     "name": "stdout",
     "output_type": "stream",
     "text": [
      "R2 score 0.8717207079312673\n",
      "MAE 0.224435599232789\n"
     ]
    }
   ],
   "source": [
    "step_1 = ColumnTransformer(transformers=[\n",
    "    ('col_tnf', OneHotEncoder(sparse_output=False, drop='first',handle_unknown='infrequent_if_exist'),[0,2,7])\n",
    "],remainder='passthrough')\n",
    "step_2 = GradientBoostingRegressor(n_estimators=500,max_depth=15,max_features=0.75,)\n",
    "pipe = Pipeline([('step1',step_1),\n",
    "                ('step2',step_2)])\n",
    "pipe.fit(X_train,Y_train)\n",
    "y_pred = pipe.predict(X_test)\n",
    "\n",
    "print('R2 score',r2_score(Y_test,y_pred))\n",
    "\n",
    "print('MAE',mean_absolute_error(Y_test,y_pred))\n"
   ]
  },
  {
   "cell_type": "code",
   "execution_count": 64,
   "id": "aee05c72",
   "metadata": {},
   "outputs": [],
   "source": [
    "def best_rs(X,Y):\n",
    "    r2_score_ =[]\n",
    "    try:\n",
    "        for i in range(1,100):\n",
    "            X_train,X_test,Y_train,Y_test = train_test_split(X,Y,test_size=0.2,random_state=i)\n",
    "            pipe_rf.fit(X_train,Y_train)\n",
    "            y_pred = pipe_rf.predict(X_test)\n",
    "            r2_score_.append(r2_score(Y_test,y_pred))\n",
    "        return r2_score_\n",
    "    except ValueError as e:\n",
    "        print(\"error\")"
   ]
  },
  {
   "cell_type": "code",
   "execution_count": 65,
   "id": "36b7a743",
   "metadata": {},
   "outputs": [],
   "source": [
    "import warnings\n",
    "warnings.simplefilter(\"ignore\") "
   ]
  },
  {
   "cell_type": "code",
   "execution_count": 66,
   "id": "e28582c3",
   "metadata": {},
   "outputs": [
    {
     "name": "stdout",
     "output_type": "stream",
     "text": [
      "61\n"
     ]
    }
   ],
   "source": [
    "result = best_rs(X,Y)\n",
    "print(np.argmax(result))"
   ]
  },
  {
   "cell_type": "code",
   "execution_count": 79,
   "id": "8310006e",
   "metadata": {},
   "outputs": [
    {
     "name": "stdout",
     "output_type": "stream",
     "text": [
      "R2 score 0.9340885528550805\n",
      "MAE 0.22743530930569428\n"
     ]
    }
   ],
   "source": [
    "X_train,X_test,Y_train,Y_test = train_test_split(X,Y,test_size=0.2,random_state=62)\n",
    "step_1 = ColumnTransformer(transformers=[\n",
    "    ('col_tnf', OneHotEncoder(sparse_output=False, drop='first',handle_unknown=\"ignore\"),[0,2,7])\n",
    "],remainder='passthrough')\n",
    "step_2  = RandomForestRegressor()\n",
    "pipe_rf = Pipeline([('step1',step_1),\n",
    "                ('step2',step_2)])\n",
    "pipe_rf.fit(X_train,Y_train)\n",
    "y_pred = pipe_rf.predict(X_test)\n",
    "\n",
    "print('R2 score',r2_score(Y_test,y_pred))\n",
    "print('MAE',mean_absolute_error(Y_test,y_pred))"
   ]
  },
  {
   "cell_type": "code",
   "execution_count": 69,
   "id": "98d06f25",
   "metadata": {
    "scrolled": false
   },
   "outputs": [
    {
     "name": "stdout",
     "output_type": "stream",
     "text": [
      "Best Parameters using grid search: \n",
      " {'step2__criterion': 'squared_error', 'step2__max_depth': None, 'step2__max_features': 'log2', 'step2__max_samples': 1.0, 'step2__n_estimators': 100}\n"
     ]
    }
   ],
   "source": [
    "np.random.seed(42)\n",
    "from sklearn.model_selection import GridSearchCV\n",
    "param_dist = {'step2__n_estimators': [50,100,150,200,500],\n",
    "              'step2__max_depth': [2, 3, 4, 8, 15,None],\n",
    "              \n",
    "              'step2__max_samples': [0.5, 0.75, 1.0],\n",
    "              'step2__max_features': ['sqrt', 'log2', None],\n",
    "              'step2__criterion': [\"squared_error\", \"absolute_error\"]}\n",
    "\n",
    "cv_rf = GridSearchCV(estimator=pipe_rf, \n",
    "                     cv = 5,\n",
    "                     param_grid=param_dist,\n",
    "                     n_jobs = -1)\n",
    "\n",
    "cv_rf.fit(X,Y)\n",
    "\n",
    "print('Best Parameters using grid search: \\n',\n",
    "      cv_rf.best_params_)"
   ]
  },
  {
   "cell_type": "code",
   "execution_count": 78,
   "id": "67be7e8e",
   "metadata": {},
   "outputs": [
    {
     "name": "stdout",
     "output_type": "stream",
     "text": [
      "R2 score 0.9278030146423276\n",
      "MAE 0.24210130504822708\n"
     ]
    }
   ],
   "source": [
    "X_train,X_test,Y_train,Y_test = train_test_split(X,Y,test_size=0.2,random_state=62)\n",
    "step_1 = ColumnTransformer(transformers=[\n",
    "    ('col_tnf', OneHotEncoder(sparse_output=False, drop='first',handle_unknown='infrequent_if_exist'),[0,2,7])\n",
    "],remainder='passthrough')\n",
    "step_2  = RandomForestRegressor(n_estimators=100,\n",
    "                                max_samples=1.0,\n",
    "                                max_features='log2',\n",
    "                                max_depth=None,\n",
    "                                criterion='squared_error'\n",
    ")\n",
    "pipe_rf = Pipeline([('step1',step_1),\n",
    "                ('step2',step_2)])\n",
    "pipe_rf.fit(X_train,Y_train)\n",
    "y_pred = pipe_rf.predict(X_test)\n",
    "\n",
    "print('R2 score',r2_score(Y_test,y_pred))\n",
    "print('MAE',mean_absolute_error(Y_test,y_pred))\n"
   ]
  },
  {
   "cell_type": "code",
   "execution_count": 80,
   "id": "6b783dee",
   "metadata": {},
   "outputs": [],
   "source": [
    "import pickle\n",
    "\n",
    "pickle.dump(df,open('df_smart_watch.pkl','wb'))\n",
    "pickle.dump(pipe_rf,open('pipe_rf_smart_watch.pkl','wb'))\n"
   ]
  },
  {
   "cell_type": "code",
   "execution_count": null,
   "id": "09a6a4ed",
   "metadata": {},
   "outputs": [],
   "source": [
    "query = np.array(['Apple','Mac','Mac',256,8,39.23,'No'])\n",
    "\n",
    "query = query.reshape(1,7)\n",
    "np.exp(pipe.predict(query))"
   ]
  },
  {
   "cell_type": "code",
   "execution_count": null,
   "id": "d21cfc86",
   "metadata": {},
   "outputs": [],
   "source": []
  }
 ],
 "metadata": {
  "kernelspec": {
   "display_name": "Python 3 (ipykernel)",
   "language": "python",
   "name": "python3"
  },
  "language_info": {
   "codemirror_mode": {
    "name": "ipython",
    "version": 3
   },
   "file_extension": ".py",
   "mimetype": "text/x-python",
   "name": "python",
   "nbconvert_exporter": "python",
   "pygments_lexer": "ipython3",
   "version": "3.11.5"
  }
 },
 "nbformat": 4,
 "nbformat_minor": 5
}
